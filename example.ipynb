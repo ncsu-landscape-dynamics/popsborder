{
 "cells": [
  {
   "cell_type": "markdown",
   "metadata": {},
   "source": [
    "# Pathways simulation command line examples\n",
    "\n",
    "## A trivial example\n",
    "\n",
    "First, we create a [YAML](https://www.codeproject.com/Articles/1214409/Learn-YAML-in-five-minutes) configuration file\n",
    "with minimal (and unrealistic) parameters to run the simulation (the name of the file is `simple.yml`):"
   ]
  },
  {
   "cell_type": "code",
   "execution_count": 1,
   "metadata": {},
   "outputs": [
    {
     "output_type": "stream",
     "name": "stdout",
     "text": [
      "Overwriting simple.yml\n"
     ]
    }
   ],
   "source": [
    "%%writefile simple.yml\n",
    "# In the configuration of the shipement generator, we only use couple of ports, flowers, and ports\n",
    "# because they are currently not used by the simulation anyway.\n",
    "consignment:\n",
    "  origins:\n",
    "  - Netherlands\n",
    "  - Mexico\n",
    "  flowers:\n",
    "  - Hyacinthus\n",
    "  - Rosa\n",
    "  ports:\n",
    "  - NY JFK CBP\n",
    "  - FL Miami Air CBP\n",
    "  # We set very low number of boxes and items.\n",
    "  boxes:\n",
    "    min: 2\n",
    "    max: 5\n",
    "  items_per_box:\n",
    "    default: 10\n",
    "contamination:\n",
    "  # We will contaminate individual items.\n",
    "  contamination_unit: item\n",
    "  # We use one of the simplest contaminant placement options.\n",
    "  # Fixed contamination rate for each consignment \n",
    "  contamination_rate:\n",
    "    distribution: fixed_value\n",
    "    value: 0.05\n",
    "  # Contaminant present in a portion of random boxes\n",
    "  arrangement: random_box\n",
    "  random_box:\n",
    "    # Contaminants present in every second consignment on average\n",
    "    probability: 0.5\n",
    "    # Roughly a third of boxes should be contaminated\n",
    "    ratio: 0.33\n",
    "inspection:\n",
    "  # Decision about sampling will be made using items as a inspection unit.\n",
    "  unit: items\n",
    "  # We will inspect 2% of items.\n",
    "  sample_strategy: proportion\n",
    "  # We allow no boxes to be inspected.\n",
    "  min_boxes: 0\n",
    "  # No contamination tolerance threshold for this example, set to 0\n",
    "  tolerance_level: 0\n",
    "  proportion:\n",
    "    value: 0.02\n",
    "  # Once we pick a box, we will inspect all of its content.\n",
    "  within_box_proportion: 1\n",
    "  # Boxes for inspection are selected randomly.\n",
    "  selection_strategy: random"
   ]
  },
  {
   "cell_type": "markdown",
   "metadata": {},
   "source": [
    "Then we create run the simulation generating only couple consignments.\n",
    "The low number of boxes per consignment (`boxes`) and items per box (`items_per_box`) in the configuration and the low number\n",
    "of consignments in the simulation allows us to show the individual items\n",
    "within each consignment using a symbol of a flower (`✿`) indicating ones with contaminants using a symbol of a bug (`🐛`) instead of a flower.\n",
    "Change the seed value to see different random placements of the contaminants within the consignment\n",
    "(for example, using `--seed=5`).\n",
    "The `arrangement` is set to `random_box`, so you will always see contaminant present on the whole box\n",
    "which is marked by pipe symbols (`|`) in the output.\n",
    "We are using `python -m pathways` to run the simulation through its command line interface:"
   ]
  },
  {
   "cell_type": "code",
   "execution_count": 2,
   "metadata": {},
   "outputs": [
    {
     "output_type": "stream",
     "name": "stdout",
     "text": [
      "━━ Consignment ━━ Boxes: 5 ━━ Items: 50 ━━━━━━━━━━━━━━━━━━━━━━━━━━━━━━━━━━━━━━━━\n🐛 🐛 🐛 🐛 🐛 🐛 🐛 🐛 🐛 🐛 | 🐛 🐛 🐛 🐛 🐛 🐛 🐛 🐛 🐛 🐛 | ✿ ✿ ✿ ✿ ✿ ✿ ✿ ✿ ✿ ✿ | 🐛 🐛 🐛 🐛 🐛 🐛 🐛 🐛 🐛 🐛 | ✿ ✿ ✿ ✿ ✿ ✿ ✿ ✿ ✿ ✿\n━━ Consignment ━━ Boxes: 3 ━━ Items: 30 ━━━━━━━━━━━━━━━━━━━━━━━━━━━━━━━━━━━━━━━━\n✿ ✿ ✿ ✿ ✿ ✿ ✿ ✿ ✿ ✿ | ✿ ✿ ✿ ✿ ✿ ✿ ✿ ✿ ✿ ✿ | ✿ ✿ ✿ ✿ ✿ ✿ ✿ ✿ ✿ ✿\n━━ Consignment ━━ Boxes: 4 ━━ Items: 40 ━━━━━━━━━━━━━━━━━━━━━━━━━━━━━━━━━━━━━━━━\n🐛 🐛 🐛 🐛 🐛 🐛 🐛 🐛 🐛 🐛 | ✿ ✿ ✿ ✿ ✿ ✿ ✿ ✿ ✿ ✿ | ✿ ✿ ✿ ✿ ✿ ✿ ✿ ✿ ✿ ✿ | ✿ ✿ ✿ ✿ ✿ ✿ ✿ ✿ ✿ ✿\n━━ Consignment ━━ Boxes: 3 ━━ Items: 30 ━━━━━━━━━━━━━━━━━━━━━━━━━━━━━━━━━━━━━━━━\n✿ ✿ ✿ ✿ ✿ ✿ ✿ ✿ ✿ ✿ | 🐛 🐛 🐛 🐛 🐛 🐛 🐛 🐛 🐛 🐛 | ✿ ✿ ✿ ✿ ✿ ✿ ✿ ✿ ✿ ✿\n━━ Consignment ━━ Boxes: 4 ━━ Items: 40 ━━━━━━━━━━━━━━━━━━━━━━━━━━━━━━━━━━━━━━━━\n✿ ✿ ✿ ✿ ✿ ✿ ✿ ✿ ✿ ✿ | ✿ ✿ ✿ ✿ ✿ ✿ ✿ ✿ ✿ ✿ | ✿ ✿ ✿ ✿ ✿ ✿ ✿ ✿ ✿ ✿ | ✿ ✿ ✿ ✿ ✿ ✿ ✿ ✿ ✿ ✿\n\n\nSimulation parameters:\n----------------------------------------------------------\nconsignments:\n\t Number consignments simulated: 5\n\t Avg. number of boxes per consignment: 4\n\t Avg. number of items per consignment: 38\ncontamination:\n\t unit: item\n\t type: fixed_value\n\t\t contamination rate: 0.05\n\t contaminant arrangement: random_box\ninspection:\n\t unit: items\n\t sample strategy: proportion\n\t\t value: 0.02\n\t selection strategy: random\n\t tolerance level: 0\n\n\nSimulation results: (averaged across all simulation runs)\n----------------------------------------------------------\nAvg. % contaminated consignments slipped: 66.67%\nAdjusted avg. % contaminated consignments slipped (excluding slipped consignments with contamination rates below tolerance level): 66.67%\nAvg. num. consignments slipped: 2\nAvg. num. slipped consignments within tolerance level: 0\nAvg. num. consignments intercepted: 1\nTotal number of slipped contaminants: 20\nTotal number of intercepted contaminants: 30\nContamination rate:\n\tOverall avg: 0.237\n\tSlipped consignments avg.: 0.292\n\tSlipped consignments max.: 0.333\n\tIntercepted consignments avg.: 0.600\n\tIntercepted consignments max.: 0.600\nAvg. number of boxes opened per consignment:\n\t to completion: 1\n\t to detection: 1\nAvg. number of items inspected per consignment:\n\t to completion: 1\n\t to detection: 1\nAvg. % contaminated items unreported if sample ends at detection: 0.00%\n"
     ]
    }
   ],
   "source": [
    "!python -m pathways --num-consignments=5 --config-file=simple.yml --pretty --seed=4"
   ]
  },
  {
   "cell_type": "markdown",
   "metadata": {},
   "source": [
    "## A more complex example\n",
    "\n",
    "We start again by preparing the configuration file. In this example, we use more realistic size of the consignments\n",
    "by setting `boxes` and `items_per_box`. We also use non-constant contamination rate by using the beta distribution."
   ]
  },
  {
   "cell_type": "code",
   "execution_count": 3,
   "metadata": {},
   "outputs": [
    {
     "output_type": "stream",
     "name": "stdout",
     "text": [
      "Overwriting complex.yml\n"
     ]
    }
   ],
   "source": [
    "%%writefile complex.yml\n",
    "consignment:\n",
    "  origins:\n",
    "  - Netherlands\n",
    "  - Mexico\n",
    "  flowers:\n",
    "  - Hyacinthus\n",
    "  - Rosa\n",
    "  ports:\n",
    "  - NY JFK CBP\n",
    "  - FL Miami Air CBP\n",
    "  boxes:\n",
    "    min: 1\n",
    "    max: 3000\n",
    "  items_per_box:\n",
    "    default: 200\n",
    "contamination:\n",
    "  contamination_unit: item\n",
    "  contamination_rate:\n",
    "    distribution: beta\n",
    "    value: 0.05\n",
    "    parameters:\n",
    "    - 1\n",
    "    - 8\n",
    "  arrangement: clustered\n",
    "  clustered:\n",
    "    contaminated_units_per_cluster: 200\n",
    "    distribution: random\n",
    "    random:\n",
    "      cluster_item_width: 400\n",
    "inspection:\n",
    "  # Here we are using boxes as a sample unit.\n",
    "  unit: boxes\n",
    "  min_boxes: 0\n",
    "  # Here we use a contamination tolerance level of 0.005, so we will get a\n",
    "  # count of the missed consignments with contamination rates below this threshold.\n",
    "  tolerance_level: 0.005\n",
    "  # Here we use and configure hypergeometric sampling.\n",
    "  sample_strategy: hypergeometric\n",
    "  hypergeometric:\n",
    "    detection_level: 0.1\n",
    "    confidence_level: 0.95\n",
    "  # We can keep the configuration for sample_strategy: percentage here.\n",
    "  # It is not used by the simulation and we can easily switch to it by changing sample_strategy\n",
    "  # without actually touching the configurations under percentage: or hypergeometric:.\n",
    "  proportion:\n",
    "    value: 0.02\n",
    "  within_box_proportion: 1\n",
    "  # We can change how sample units are selected for inspection by changing selection_strategy\n",
    "  # to either random or convenience.\n",
    "  selection_strategy: random"
   ]
  },
  {
   "cell_type": "markdown",
   "metadata": {},
   "source": [
    "Now we simulate more consignment and ask for the results to be averaged over multiple \n",
    "stochastic runs to increase robustness of the result (but we still keep both values \n",
    "low to get result quickly for this example): "
   ]
  },
  {
   "cell_type": "code",
   "execution_count": 4,
   "metadata": {},
   "outputs": [
    {
     "output_type": "stream",
     "name": "stdout",
     "text": [
      "\n\nSimulation parameters:\n----------------------------------------------------------\nconsignments:\n\t Number consignments simulated: 60\n\t Avg. number of boxes per consignment: 1,479\n\t Avg. number of items per consignment: 295,863\ncontamination:\n\t unit: item\n\t type: beta\n\t\t contamination distribution parameters: [1, 8]\n\t contaminant arrangement: clustered\n\t\t maximum contaminated items per cluster: 200 items\n\t\t cluster distribution: random\n\t\t cluster width: 400 items\ninspection:\n\t unit: boxes\n\t sample strategy: hypergeometric\n"
     ]
    }
   ],
   "source": [
    "!python -m pathways --num-simulations=4 --num-consignments=60 --config-file=complex.yml --seed=4"
   ]
  },
  {
   "cell_type": "markdown",
   "metadata": {},
   "source": [
    "To learn more about the configuration and the simulation itself start in the [readme file](https://github.com/ncsu-landscape-dynamics/pathways-simulation#readme) of the simulation repository."
   ]
  }
 ],
 "metadata": {
  "kernelspec": {
   "name": "python3",
   "display_name": "Python 3",
   "language": "python"
  },
  "language_info": {
   "codemirror_mode": {
    "name": "ipython",
    "version": 3
   },
   "file_extension": ".py",
   "mimetype": "text/x-python",
   "name": "python",
   "nbconvert_exporter": "python",
   "pygments_lexer": "ipython3",
   "version": "3.8.5"
  }
 },
 "nbformat": 4,
 "nbformat_minor": 4
}