{
 "cells": [
  {
   "cell_type": "code",
   "execution_count": 1,
   "metadata": {},
   "outputs": [],
   "source": [
    "from popsborder.simulation import run_simulation\n",
    "from popsborder.scenarios import run_scenarios\n",
    "from popsborder.inputs import load_configuration, load_scenario_table\n",
    "from popsborder.outputs import save_scenario_result_to_pandas, print_totals_as_text\n",
    "\n",
    "import os\n",
    "import pandas as pd\n",
    "import matplotlib.pyplot as plt"
   ]
  },
  {
   "cell_type": "code",
   "execution_count": 2,
   "metadata": {},
   "outputs": [],
   "source": [
    "# Set path to folder containing config and scenario files\n",
    "datadir = os.path.join(os.getcwd(), \"data\")\n",
    "# Set path to folder for saving results and automatically create folder if it doesn't exist\n",
    "resultsdir = os.path.join(os.getcwd(), \"results\")\n",
    "# Make sure the directory exists\n",
    "if not os.path.exists(resultsdir):\n",
    "    os.mkdir(resultsdir)"
   ]
  },
  {
   "cell_type": "markdown",
   "metadata": {},
   "source": [
    "### Run a single simulation"
   ]
  },
  {
   "cell_type": "code",
   "execution_count": 3,
   "metadata": {},
   "outputs": [],
   "source": [
    "config_path = datadir + \"/user_friendly_config.xlsx\""
   ]
  },
  {
   "cell_type": "code",
   "execution_count": 4,
   "metadata": {},
   "outputs": [
    {
     "name": "stdout",
     "output_type": "stream",
     "text": [
      "━━ Consignment ━━ Boxes: 4 ━━ Items: 200 ━━━━━━━━━━━━━━━━━━━━━━━━━━━━━━━━━━━━━━━\n",
      "✿ ✿ ✿ ✿ ✿ ✿ ✿ ✿ ✿ ✿ ✿ ✿ ✿ ✿ ✿ ✿ ✿ ✿ ✿ ✿ ✿ ✿ ✿ ✿ ✿ ✿ ✿ ✿ ✿ ✿ ✿ ✿ ✿ ✿ ✿ ✿ ✿ ✿ ✿ ✿ ✿ ✿ ✿ ✿ ✿ ✿ ✿ ✿ ✿ ✿ | ✿ ✿ ✿ ✿ ✿ ✿ ✿ ✿ ✿ ✿ ✿ ✿ ✿ ✿ ✿ ✿ ✿ ✿ ✿ ✿ ✿ ✿ ✿ ✿ ✿ ✿ ✿ ✿ ✿ ✿ ✿ ✿ ✿ ✿ ✿ ✿ ✿ ✿ ✿ ✿ ✿ ✿ ✿ ✿ ✿ ✿ ✿ ✿ ✿ ✿ | ✿ ✿ 🐛 🐛 🐛 🐛 ✿ ✿ ✿ ✿ ✿ ✿ ✿ ✿ ✿ ✿ ✿ ✿ ✿ ✿ ✿ ✿ ✿ ✿ ✿ ✿ ✿ ✿ ✿ ✿ ✿ ✿ ✿ ✿ ✿ ✿ ✿ ✿ ✿ ✿ ✿ ✿ ✿ ✿ ✿ ✿ ✿ ✿ ✿ ✿ | ✿ ✿ ✿ ✿ ✿ ✿ ✿ ✿ ✿ ✿ ✿ ✿ ✿ ✿ ✿ ✿ ✿ ✿ ✿ ✿ ✿ ✿ ✿ ✿ ✿ ✿ ✿ ✿ ✿ ✿ ✿ ✿ ✿ ✿ ✿ ✿ ✿ ✿ ✿ ✿ ✿ ✿ ✿ ✿ ✿ ✿ ✿ ✿ ✿ ✿\n",
      "━━ Consignment ━━ Boxes: 1 ━━ Items: 21 ━━━━━━━━━━━━━━━━━━━━━━━━━━━━━━━━━━━━━━━━\n",
      "✿ ✿ ✿ ✿ ✿ ✿ ✿ ✿ ✿ ✿ ✿ ✿ 🐛 ✿ ✿ ✿ ✿ ✿ ✿ ✿ ✿\n",
      "━━ Consignment ━━ Boxes: 1 ━━ Items: 24 ━━━━━━━━━━━━━━━━━━━━━━━━━━━━━━━━━━━━━━━━\n",
      "✿ ✿ ✿ ✿ ✿ ✿ 🐛 ✿ ✿ ✿ ✿ ✿ ✿ ✿ ✿ ✿ ✿ ✿ ✿ ✿ ✿ ✿ ✿ ✿\n",
      "━━ Consignment ━━ Boxes: 1 ━━ Items: 30 ━━━━━━━━━━━━━━━━━━━━━━━━━━━━━━━━━━━━━━━━\n",
      "🐛 🐛 🐛 🐛 🐛 ✿ ✿ ✿ ✿ ✿ ✿ ✿ ✿ ✿ ✿ ✿ ✿ ✿ ✿ ✿ ✿ ✿ ✿ ✿ ✿ ✿ ✿ ✿ ✿ ✿\n",
      "━━ Consignment ━━ Boxes: 1 ━━ Items: 20 ━━━━━━━━━━━━━━━━━━━━━━━━━━━━━━━━━━━━━━━━\n",
      "🐛 ✿ ✿ ✿ ✿ ✿ ✿ ✿ ✿ ✿ ✿ ✿ ✿ ✿ ✿ ✿ ✿ ✿ ✿ ✿\n",
      "\n",
      "\n",
      "Simulation parameters:\n",
      "----------------------------------------------------------\n",
      "consignments:\n",
      "\t Number consignments simulated: 5\n",
      "\t Avg. number of boxes per consignment: 2\n",
      "\t Avg. number of items per consignment: 59\n",
      "contamination:\n",
      "\t unit: item\n",
      "\t type: beta\n",
      "\t\t contamination distribution parameters: [0.95, 18.05]\n",
      "\t contaminant arrangement: clustered\n",
      "\t\t maximum contaminated items per cluster: 6 items\n",
      "\t\t cluster distribution: continuous\n",
      "inspection:\n",
      "\t unit: box\n",
      "\t sample strategy: hypergeometric\n",
      "\t\t detection level: 0.1\n",
      "\t selection strategy: random\n",
      "\t minimum proportion of items inspected within box: 1\n",
      "\t tolerance level: 0\n",
      "\n",
      "\n",
      "Simulation results: (averaged across all simulation runs)\n",
      "----------------------------------------------------------\n",
      "Avg. % contaminated consignments slipped: 0.00%\n",
      "Adjusted avg. % contaminated consignments slipped (excluding slipped consignments with contamination rates below tolerance level): 0.00%\n",
      "Avg. num. consignments slipped: 0\n",
      "Avg. num. slipped consignments within tolerance level: 0\n",
      "Avg. num. consignments intercepted: 5\n",
      "Total number of slipped contaminants: 0\n",
      "Total number of intercepted contaminants: 12\n",
      "Contamination rate:\n",
      "\tOverall avg: 0.065\n",
      "\tIntercepted consignments avg.: 0.065\n",
      "\tIntercepted consignments max.: 0.167\n",
      "Avg. number of boxes opened per consignment:\n",
      "\t to completion: 2\n",
      "\t to detection: 1\n",
      "Avg. number of items inspected per consignment:\n",
      "\t to completion: 80\n",
      "\t to detection: 49\n",
      "Avg. % contaminated items unreported if sample ends at detection: 0.00%\n"
     ]
    }
   ],
   "source": [
    "num_simulations = 1\n",
    "num_consignments = 5\n",
    "config = load_configuration(config_path, sheet=None, key_column=\"D\", value_column=\"B\")\n",
    "results = run_simulation(\n",
    "    config,\n",
    "    num_simulations,\n",
    "    num_consignments,\n",
    "    seed=42,\n",
    "    output_f280_file=None,\n",
    "    verbose=False,\n",
    "    pretty=\"boxes\",\n",
    "    detailed=False,\n",
    ")\n",
    "print_totals_as_text(num_consignments, config, totals=results)"
   ]
  },
  {
   "cell_type": "markdown",
   "metadata": {},
   "source": [
    "### Run multiple scenarios"
   ]
  },
  {
   "cell_type": "code",
   "execution_count": 5,
   "metadata": {},
   "outputs": [],
   "source": [
    "scenario_configs_path = datadir + \"/scenarios_config.csv\""
   ]
  },
  {
   "cell_type": "code",
   "execution_count": 6,
   "metadata": {},
   "outputs": [
    {
     "name": "stdout",
     "output_type": "stream",
     "text": [
      "Running scenario: item 0.01 hypergeometric random\n",
      "Running scenario: item 0.05 hypergeometric random\n",
      "Running scenario: item 0.1 hypergeometric random\n",
      "Running scenario: item 0.25 hypergeometric random\n",
      "Running scenario: item 0.01 hypergeometric convenience\n",
      "Running scenario: item 0.05 hypergeometric convenience\n",
      "Running scenario: item 0.1 hypergeometric convenience\n",
      "Running scenario: item 0.25 hypergeometric convenience\n"
     ]
    }
   ],
   "source": [
    "num_consignments = 100\n",
    "scenario_configs = load_configuration(config, sheet=None, key_column=\"D\", value_column=\"B\")\n",
    "results = run_scenarios(\n",
    "    config=scenario_configs,\n",
    "    scenario_table=load_scenario_table(scenario_configs_path),\n",
    "    seed=42,\n",
    "    num_simulations=10,\n",
    "    num_consignments=num_consignments,\n",
    "    detailed=False,\n",
    ")"
   ]
  },
  {
   "cell_type": "code",
   "execution_count": 7,
   "metadata": {},
   "outputs": [],
   "source": [
    "results_df = save_scenario_result_to_pandas(\n",
    "    results,\n",
    "    config_columns=[\n",
    "        \"name\",\n",
    "        \"contamination/contamination_rate/value\",\n",
    "        \"contamination/arrangement\",\n",
    "        \"inspection/selection_strategy\",\n",
    "        \"inspection/unit\",\n",
    "        \"inspection/sample_strategy\",\n",
    "    ],\n",
    "    result_columns=[\n",
    "        \"true_contamination_rate\",\n",
    "        \"max_missed_contamination_rate\",\n",
    "        \"avg_missed_contamination_rate\",\n",
    "        \"max_intercepted_contamination_rate\",\n",
    "        \"avg_intercepted_contamination_rate\",\n",
    "        \"avg_boxes_opened_completion\",\n",
    "        \"pct_boxes_opened_completion\",\n",
    "        \"avg_boxes_opened_detection\",\n",
    "        \"pct_boxes_opened_detection\",\n",
    "        \"avg_items_inspected_completion\",\n",
    "        \"pct_items_inspected_completion\",\n",
    "        \"avg_items_inspected_detection\",\n",
    "        \"pct_items_inspected_detection\",\n",
    "        \"false_neg\",\n",
    "        \"intercepted\",\n",
    "        \"total_missed_contaminants\",\n",
    "        \"total_intercepted_contaminants\",\n",
    "        \"num_boxes\",\n",
    "        \"num_items\",\n",
    "    ],\n",
    ")"
   ]
  },
  {
   "cell_type": "code",
   "execution_count": 8,
   "metadata": {},
   "outputs": [],
   "source": [
    "results_df['failure rate'] = results_df[\"intercepted\"] / num_consignments\n",
    "contaminated_consignments = results_df[\"false_neg\"] + results_df[\"intercepted\"]\n",
    "results_df[\"interception rate\"] = results_df[\"intercepted\"] / contaminated_consignments\n",
    "results_df[\"% missed contaminants\"] = (results_df[\"total_missed_contaminants\"] / (results_df[\"total_missed_contaminants\"] + results_df[\"total_intercepted_contaminants\"])) * 100"
   ]
  },
  {
   "cell_type": "code",
   "execution_count": 9,
   "metadata": {},
   "outputs": [
    {
     "data": {
      "text/html": [
       "<div>\n",
       "<style scoped>\n",
       "    .dataframe tbody tr th:only-of-type {\n",
       "        vertical-align: middle;\n",
       "    }\n",
       "\n",
       "    .dataframe tbody tr th {\n",
       "        vertical-align: top;\n",
       "    }\n",
       "\n",
       "    .dataframe thead th {\n",
       "        text-align: right;\n",
       "    }\n",
       "</style>\n",
       "<table border=\"1\" class=\"dataframe\">\n",
       "  <thead>\n",
       "    <tr style=\"text-align: right;\">\n",
       "      <th></th>\n",
       "      <th>name</th>\n",
       "      <th>contamination/contamination_rate/value</th>\n",
       "      <th>contamination/arrangement</th>\n",
       "      <th>inspection/selection_strategy</th>\n",
       "      <th>inspection/unit</th>\n",
       "      <th>inspection/sample_strategy</th>\n",
       "      <th>true_contamination_rate</th>\n",
       "      <th>max_missed_contamination_rate</th>\n",
       "      <th>avg_missed_contamination_rate</th>\n",
       "      <th>max_intercepted_contamination_rate</th>\n",
       "      <th>...</th>\n",
       "      <th>pct_items_inspected_detection</th>\n",
       "      <th>false_neg</th>\n",
       "      <th>intercepted</th>\n",
       "      <th>total_missed_contaminants</th>\n",
       "      <th>total_intercepted_contaminants</th>\n",
       "      <th>num_boxes</th>\n",
       "      <th>num_items</th>\n",
       "      <th>failure rate</th>\n",
       "      <th>interception rate</th>\n",
       "      <th>% missed contaminants</th>\n",
       "    </tr>\n",
       "  </thead>\n",
       "  <tbody>\n",
       "    <tr>\n",
       "      <th>0</th>\n",
       "      <td>item 0.01 hypergeometric random</td>\n",
       "      <td>0.01</td>\n",
       "      <td>clustered</td>\n",
       "      <td>random</td>\n",
       "      <td>item</td>\n",
       "      <td>hypergeometric</td>\n",
       "      <td>0.032088</td>\n",
       "      <td>0.001815</td>\n",
       "      <td>0.001646</td>\n",
       "      <td>0.282009</td>\n",
       "      <td>...</td>\n",
       "      <td>0.170459</td>\n",
       "      <td>0.8</td>\n",
       "      <td>46.8</td>\n",
       "      <td>15.0</td>\n",
       "      <td>67702.2</td>\n",
       "      <td>25129.0</td>\n",
       "      <td>1253499.0</td>\n",
       "      <td>0.468</td>\n",
       "      <td>0.983193</td>\n",
       "      <td>0.022151</td>\n",
       "    </tr>\n",
       "    <tr>\n",
       "      <th>1</th>\n",
       "      <td>item 0.05 hypergeometric random</td>\n",
       "      <td>0.01</td>\n",
       "      <td>clustered</td>\n",
       "      <td>random</td>\n",
       "      <td>item</td>\n",
       "      <td>hypergeometric</td>\n",
       "      <td>0.032088</td>\n",
       "      <td>0.032253</td>\n",
       "      <td>0.015220</td>\n",
       "      <td>0.282009</td>\n",
       "      <td>...</td>\n",
       "      <td>0.103941</td>\n",
       "      <td>8.7</td>\n",
       "      <td>38.9</td>\n",
       "      <td>2204.9</td>\n",
       "      <td>65512.3</td>\n",
       "      <td>25129.0</td>\n",
       "      <td>1253499.0</td>\n",
       "      <td>0.389</td>\n",
       "      <td>0.817227</td>\n",
       "      <td>3.256041</td>\n",
       "    </tr>\n",
       "    <tr>\n",
       "      <th>2</th>\n",
       "      <td>item 0.1 hypergeometric random</td>\n",
       "      <td>0.01</td>\n",
       "      <td>clustered</td>\n",
       "      <td>random</td>\n",
       "      <td>item</td>\n",
       "      <td>hypergeometric</td>\n",
       "      <td>0.032088</td>\n",
       "      <td>0.070011</td>\n",
       "      <td>0.025376</td>\n",
       "      <td>0.282009</td>\n",
       "      <td>...</td>\n",
       "      <td>0.073371</td>\n",
       "      <td>13.4</td>\n",
       "      <td>34.2</td>\n",
       "      <td>5955.5</td>\n",
       "      <td>61761.7</td>\n",
       "      <td>25129.0</td>\n",
       "      <td>1253499.0</td>\n",
       "      <td>0.342</td>\n",
       "      <td>0.718487</td>\n",
       "      <td>8.794664</td>\n",
       "    </tr>\n",
       "    <tr>\n",
       "      <th>3</th>\n",
       "      <td>item 0.25 hypergeometric random</td>\n",
       "      <td>0.01</td>\n",
       "      <td>clustered</td>\n",
       "      <td>random</td>\n",
       "      <td>item</td>\n",
       "      <td>hypergeometric</td>\n",
       "      <td>0.032088</td>\n",
       "      <td>0.123307</td>\n",
       "      <td>0.041982</td>\n",
       "      <td>0.282009</td>\n",
       "      <td>...</td>\n",
       "      <td>0.043000</td>\n",
       "      <td>25.3</td>\n",
       "      <td>22.3</td>\n",
       "      <td>17830.8</td>\n",
       "      <td>49886.4</td>\n",
       "      <td>25129.0</td>\n",
       "      <td>1253499.0</td>\n",
       "      <td>0.223</td>\n",
       "      <td>0.468487</td>\n",
       "      <td>26.331272</td>\n",
       "    </tr>\n",
       "    <tr>\n",
       "      <th>4</th>\n",
       "      <td>item 0.01 hypergeometric convenience</td>\n",
       "      <td>0.01</td>\n",
       "      <td>clustered</td>\n",
       "      <td>convenience</td>\n",
       "      <td>item</td>\n",
       "      <td>hypergeometric</td>\n",
       "      <td>0.032088</td>\n",
       "      <td>0.036319</td>\n",
       "      <td>0.015313</td>\n",
       "      <td>0.282009</td>\n",
       "      <td>...</td>\n",
       "      <td>0.293706</td>\n",
       "      <td>4.6</td>\n",
       "      <td>43.0</td>\n",
       "      <td>8932.8</td>\n",
       "      <td>58784.4</td>\n",
       "      <td>25129.0</td>\n",
       "      <td>1253499.0</td>\n",
       "      <td>0.430</td>\n",
       "      <td>0.903361</td>\n",
       "      <td>13.191331</td>\n",
       "    </tr>\n",
       "    <tr>\n",
       "      <th>5</th>\n",
       "      <td>item 0.05 hypergeometric convenience</td>\n",
       "      <td>0.01</td>\n",
       "      <td>clustered</td>\n",
       "      <td>convenience</td>\n",
       "      <td>item</td>\n",
       "      <td>hypergeometric</td>\n",
       "      <td>0.032088</td>\n",
       "      <td>0.118113</td>\n",
       "      <td>0.037348</td>\n",
       "      <td>0.282009</td>\n",
       "      <td>...</td>\n",
       "      <td>0.140247</td>\n",
       "      <td>18.1</td>\n",
       "      <td>29.5</td>\n",
       "      <td>27317.1</td>\n",
       "      <td>40400.1</td>\n",
       "      <td>25129.0</td>\n",
       "      <td>1253499.0</td>\n",
       "      <td>0.295</td>\n",
       "      <td>0.619748</td>\n",
       "      <td>40.339973</td>\n",
       "    </tr>\n",
       "    <tr>\n",
       "      <th>6</th>\n",
       "      <td>item 0.1 hypergeometric convenience</td>\n",
       "      <td>0.01</td>\n",
       "      <td>clustered</td>\n",
       "      <td>convenience</td>\n",
       "      <td>item</td>\n",
       "      <td>hypergeometric</td>\n",
       "      <td>0.032088</td>\n",
       "      <td>0.132460</td>\n",
       "      <td>0.045391</td>\n",
       "      <td>0.282009</td>\n",
       "      <td>...</td>\n",
       "      <td>0.090403</td>\n",
       "      <td>25.0</td>\n",
       "      <td>22.6</td>\n",
       "      <td>51655.5</td>\n",
       "      <td>16061.7</td>\n",
       "      <td>25129.0</td>\n",
       "      <td>1253499.0</td>\n",
       "      <td>0.226</td>\n",
       "      <td>0.474790</td>\n",
       "      <td>76.281211</td>\n",
       "    </tr>\n",
       "    <tr>\n",
       "      <th>7</th>\n",
       "      <td>item 0.25 hypergeometric convenience</td>\n",
       "      <td>0.01</td>\n",
       "      <td>clustered</td>\n",
       "      <td>convenience</td>\n",
       "      <td>item</td>\n",
       "      <td>hypergeometric</td>\n",
       "      <td>0.032088</td>\n",
       "      <td>0.174162</td>\n",
       "      <td>0.049820</td>\n",
       "      <td>0.272619</td>\n",
       "      <td>...</td>\n",
       "      <td>0.046614</td>\n",
       "      <td>31.8</td>\n",
       "      <td>15.8</td>\n",
       "      <td>66386.0</td>\n",
       "      <td>1331.2</td>\n",
       "      <td>25129.0</td>\n",
       "      <td>1253499.0</td>\n",
       "      <td>0.158</td>\n",
       "      <td>0.331933</td>\n",
       "      <td>98.034177</td>\n",
       "    </tr>\n",
       "  </tbody>\n",
       "</table>\n",
       "<p>8 rows × 28 columns</p>\n",
       "</div>"
      ],
      "text/plain": [
       "                                   name  \\\n",
       "0       item 0.01 hypergeometric random   \n",
       "1       item 0.05 hypergeometric random   \n",
       "2        item 0.1 hypergeometric random   \n",
       "3       item 0.25 hypergeometric random   \n",
       "4  item 0.01 hypergeometric convenience   \n",
       "5  item 0.05 hypergeometric convenience   \n",
       "6   item 0.1 hypergeometric convenience   \n",
       "7  item 0.25 hypergeometric convenience   \n",
       "\n",
       "   contamination/contamination_rate/value contamination/arrangement  \\\n",
       "0                                    0.01                 clustered   \n",
       "1                                    0.01                 clustered   \n",
       "2                                    0.01                 clustered   \n",
       "3                                    0.01                 clustered   \n",
       "4                                    0.01                 clustered   \n",
       "5                                    0.01                 clustered   \n",
       "6                                    0.01                 clustered   \n",
       "7                                    0.01                 clustered   \n",
       "\n",
       "  inspection/selection_strategy inspection/unit inspection/sample_strategy  \\\n",
       "0                        random            item             hypergeometric   \n",
       "1                        random            item             hypergeometric   \n",
       "2                        random            item             hypergeometric   \n",
       "3                        random            item             hypergeometric   \n",
       "4                   convenience            item             hypergeometric   \n",
       "5                   convenience            item             hypergeometric   \n",
       "6                   convenience            item             hypergeometric   \n",
       "7                   convenience            item             hypergeometric   \n",
       "\n",
       "   true_contamination_rate  max_missed_contamination_rate  \\\n",
       "0                 0.032088                       0.001815   \n",
       "1                 0.032088                       0.032253   \n",
       "2                 0.032088                       0.070011   \n",
       "3                 0.032088                       0.123307   \n",
       "4                 0.032088                       0.036319   \n",
       "5                 0.032088                       0.118113   \n",
       "6                 0.032088                       0.132460   \n",
       "7                 0.032088                       0.174162   \n",
       "\n",
       "   avg_missed_contamination_rate  max_intercepted_contamination_rate  ...  \\\n",
       "0                       0.001646                            0.282009  ...   \n",
       "1                       0.015220                            0.282009  ...   \n",
       "2                       0.025376                            0.282009  ...   \n",
       "3                       0.041982                            0.282009  ...   \n",
       "4                       0.015313                            0.282009  ...   \n",
       "5                       0.037348                            0.282009  ...   \n",
       "6                       0.045391                            0.282009  ...   \n",
       "7                       0.049820                            0.272619  ...   \n",
       "\n",
       "   pct_items_inspected_detection  false_neg  intercepted  \\\n",
       "0                       0.170459        0.8         46.8   \n",
       "1                       0.103941        8.7         38.9   \n",
       "2                       0.073371       13.4         34.2   \n",
       "3                       0.043000       25.3         22.3   \n",
       "4                       0.293706        4.6         43.0   \n",
       "5                       0.140247       18.1         29.5   \n",
       "6                       0.090403       25.0         22.6   \n",
       "7                       0.046614       31.8         15.8   \n",
       "\n",
       "   total_missed_contaminants  total_intercepted_contaminants  num_boxes  \\\n",
       "0                       15.0                         67702.2    25129.0   \n",
       "1                     2204.9                         65512.3    25129.0   \n",
       "2                     5955.5                         61761.7    25129.0   \n",
       "3                    17830.8                         49886.4    25129.0   \n",
       "4                     8932.8                         58784.4    25129.0   \n",
       "5                    27317.1                         40400.1    25129.0   \n",
       "6                    51655.5                         16061.7    25129.0   \n",
       "7                    66386.0                          1331.2    25129.0   \n",
       "\n",
       "   num_items  failure rate  interception rate  % missed contaminants  \n",
       "0  1253499.0         0.468           0.983193               0.022151  \n",
       "1  1253499.0         0.389           0.817227               3.256041  \n",
       "2  1253499.0         0.342           0.718487               8.794664  \n",
       "3  1253499.0         0.223           0.468487              26.331272  \n",
       "4  1253499.0         0.430           0.903361              13.191331  \n",
       "5  1253499.0         0.295           0.619748              40.339973  \n",
       "6  1253499.0         0.226           0.474790              76.281211  \n",
       "7  1253499.0         0.158           0.331933              98.034177  \n",
       "\n",
       "[8 rows x 28 columns]"
      ]
     },
     "execution_count": 9,
     "metadata": {},
     "output_type": "execute_result"
    }
   ],
   "source": [
    "results_df"
   ]
  },
  {
   "cell_type": "code",
   "execution_count": 10,
   "metadata": {},
   "outputs": [
    {
     "data": {
      "text/plain": [
       "Text(0.5, 0, 'Pct. missed contaminants')"
      ]
     },
     "execution_count": 10,
     "metadata": {},
     "output_type": "execute_result"
    },
    {
     "data": {
      "image/png": "[encoded data removed]",
      "text/plain": [
       "<Figure size 432x288 with 1 Axes>"
      ]
     },
     "metadata": {
      "needs_background": "light"
     },
     "output_type": "display_data"
    }
   ],
   "source": [
    "plt.barh(results_df[\"name\"], results_df[\"% missed contaminants\"])\n",
    "plt.title(\"Missed contaminants\", fontsize=18)\n",
    "plt.ylabel(\"Inspection name\", fontsize=14)\n",
    "plt.xlabel(\"Pct. missed contaminants\", fontsize=14)"
   ]
  },
  {
   "cell_type": "code",
   "execution_count": 11,
   "metadata": {},
   "outputs": [
    {
     "data": {
      "text/plain": [
       "Text(0.5, 0, 'Pct. items inspected')"
      ]
     },
     "execution_count": 11,
     "metadata": {},
     "output_type": "execute_result"
    },
    {
     "data": {
      "image/png": "[encoded data removed]",
      "text/plain": [
       "<Figure size 432x288 with 1 Axes>"
      ]
     },
     "metadata": {
      "needs_background": "light"
     },
     "output_type": "display_data"
    }
   ],
   "source": [
    "plt.barh(results_df[\"name\"], results_df[\"pct_items_inspected_completion\"]*100)\n",
    "plt.title(\"Items inspected\", fontsize=18)\n",
    "plt.ylabel(\"Inspection name\", fontsize=14)\n",
    "plt.xlabel(\"Pct. items inspected\", fontsize=14)"
   ]
  },
  {
   "cell_type": "code",
   "execution_count": 12,
   "metadata": {},
   "outputs": [
    {
     "data": {
      "text/plain": [
       "Text(0.5, 0, 'Pct. items inspected')"
      ]
     },
     "execution_count": 12,
     "metadata": {},
     "output_type": "execute_result"
    },
    {
     "data": {
      "image/png": "[encoded data removed]",
      "text/plain": [
       "<Figure size 432x288 with 1 Axes>"
      ]
     },
     "metadata": {
      "needs_background": "light"
     },
     "output_type": "display_data"
    }
   ],
   "source": [
    "plt.scatter(results_df[\"% missed contaminants\"], results_df[\"pct_items_inspected_completion\"]*100)\n",
    "plt.title(\"Missed contaminants vs. items inspected\", fontsize=18)\n",
    "plt.ylabel(\"Pct. missed contaminants\", fontsize=14)\n",
    "plt.xlabel(\"Pct. items inspected\", fontsize=14)"
   ]
  }
 ],
 "metadata": {
  "interpreter": {
   "hash": "f89daefcb2a13a88ffff858062b68e27cf759515f983d360c1c2f61401147f80"
  },
  "kernelspec": {
   "display_name": "Python 3.8.12 ('base')",
   "language": "python",
   "name": "python3"
  },
  "language_info": {
   "codemirror_mode": {
    "name": "ipython",
    "version": 3
   },
   "file_extension": ".py",
   "mimetype": "text/x-python",
   "name": "python",
   "nbconvert_exporter": "python",
   "pygments_lexer": "ipython3",
   "version": "3.10.0"
  },
  "orig_nbformat": 4
 },
 "nbformat": 4,
 "nbformat_minor": 2
}
