{
 "cells": [
  {
   "cell_type": "code",
   "execution_count": null,
   "metadata": {},
   "outputs": [],
   "source": [
    "from popsborder.simulation import run_simulation\n",
    "from popsborder.scenarios import run_scenarios\n",
    "from popsborder.inputs import load_configuration, load_scenario_table\n",
    "from popsborder.outputs import save_scenario_result_to_pandas, print_totals_as_text\n",
    "\n",
    "import os\n",
    "import pandas as pd\n",
    "import matplotlib.pyplot as plt"
   ]
  },
  {
   "cell_type": "code",
   "execution_count": null,
   "metadata": {},
   "outputs": [],
   "source": [
    "# Set path to folder containing config and scenario files\n",
    "datadir = os.path.join(os.getcwd(), \"data\")\n",
    "# Set path to folder for saving results and automatically create folder if it doesn't exist\n",
    "resultsdir = os.path.join(os.getcwd(), \"results\")\n",
    "# Make sure the directory exists\n",
    "if not os.path.exists(resultsdir):\n",
    "    os.mkdir(resultsdir)"
   ]
  },
  {
   "cell_type": "markdown",
   "metadata": {},
   "source": [
    "### Run a single simulation"
   ]
  },
  {
   "cell_type": "code",
   "execution_count": null,
   "metadata": {},
   "outputs": [],
   "source": [
    "config_path = datadir + \"/user_friendly_config.xlsx\""
   ]
  },
  {
   "cell_type": "code",
   "execution_count": null,
   "metadata": {},
   "outputs": [],
   "source": [
    "num_simulations = 1\n",
    "num_consignments = 5\n",
    "config = load_configuration(config_path, sheet=None, key_column=\"D\", value_column=\"B\")\n",
    "results = run_simulation(\n",
    "    config,\n",
    "    num_simulations,\n",
    "    num_consignments,\n",
    "    seed=42,\n",
    "    output_f280_file=None,\n",
    "    verbose=False,\n",
    "    pretty=\"boxes\",\n",
    "    detailed=False,\n",
    ")\n",
    "print_totals_as_text(num_consignments, config, totals=results)"
   ]
  },
  {
   "cell_type": "markdown",
   "metadata": {},
   "source": [
    "### Run multiple scenarios"
   ]
  },
  {
   "cell_type": "code",
   "execution_count": null,
   "metadata": {},
   "outputs": [],
   "source": [
    "scenario_configs_path = datadir + \"/scenarios_config.csv\""
   ]
  },
  {
   "cell_type": "code",
   "execution_count": null,
   "metadata": {},
   "outputs": [],
   "source": [
    "num_consignments = 100\n",
    "scenario_configs = load_configuration(config, sheet=None, key_column=\"D\", value_column=\"B\")\n",
    "results = run_scenarios(\n",
    "    config=scenario_configs,\n",
    "    scenario_table=load_scenario_table(scenario_configs_path),\n",
    "    seed=42,\n",
    "    num_simulations=10,\n",
    "    num_consignments=num_consignments,\n",
    "    detailed=False,\n",
    ")"
   ]
  },
  {
   "cell_type": "code",
   "execution_count": null,
   "metadata": {},
   "outputs": [],
   "source": [
    "results_df = save_scenario_result_to_pandas(\n",
    "    results,\n",
    "    config_columns=[\n",
    "        \"name\",\n",
    "        \"contamination/contamination_rate/value\",\n",
    "        \"contamination/arrangement\",\n",
    "        \"inspection/selection_strategy\",\n",
    "        \"inspection/unit\",\n",
    "        \"inspection/sample_strategy\",\n",
    "    ],\n",
    "    result_columns=[\n",
    "        \"true_contamination_rate\",\n",
    "        \"max_missed_contamination_rate\",\n",
    "        \"avg_missed_contamination_rate\",\n",
    "        \"max_intercepted_contamination_rate\",\n",
    "        \"avg_intercepted_contamination_rate\",\n",
    "        \"avg_boxes_opened_completion\",\n",
    "        \"pct_boxes_opened_completion\",\n",
    "        \"avg_boxes_opened_detection\",\n",
    "        \"pct_boxes_opened_detection\",\n",
    "        \"avg_items_inspected_completion\",\n",
    "        \"pct_items_inspected_completion\",\n",
    "        \"avg_items_inspected_detection\",\n",
    "        \"pct_items_inspected_detection\",\n",
    "        \"false_neg\",\n",
    "        \"intercepted\",\n",
    "        \"total_missed_contaminants\",\n",
    "        \"total_intercepted_contaminants\",\n",
    "        \"num_boxes\",\n",
    "        \"num_items\",\n",
    "    ],\n",
    ")"
   ]
  },
  {
   "cell_type": "code",
   "execution_count": null,
   "metadata": {},
   "outputs": [],
   "source": [
    "results_df['failure rate'] = results_df[\"intercepted\"] / num_consignments\n",
    "contaminated_consignments = results_df[\"false_neg\"] + results_df[\"intercepted\"]\n",
    "results_df[\"interception rate\"] = results_df[\"intercepted\"] / contaminated_consignments\n",
    "results_df[\"% missed contaminants\"] = (results_df[\"total_missed_contaminants\"] / (results_df[\"total_missed_contaminants\"] + results_df[\"total_intercepted_contaminants\"])) * 100"
   ]
  },
  {
   "cell_type": "code",
   "execution_count": null,
   "metadata": {},
   "outputs": [],
   "source": [
    "results_df"
   ]
  },
  {
   "cell_type": "code",
   "execution_count": null,
   "metadata": {},
   "outputs": [],
   "source": [
    "plt.barh(results_df[\"name\"], results_df[\"% missed contaminants\"])\n",
    "plt.title(\"Missed contaminants\", fontsize=18)\n",
    "plt.ylabel(\"Inspection name\", fontsize=14)\n",
    "plt.xlabel(\"Pct. missed contaminants\", fontsize=14)"
   ]
  },
  {
   "cell_type": "code",
   "execution_count": null,
   "metadata": {},
   "outputs": [],
   "source": [
    "plt.barh(results_df[\"name\"], results_df[\"pct_items_inspected_completion\"]*100)\n",
    "plt.title(\"Items inspected\", fontsize=18)\n",
    "plt.ylabel(\"Inspection name\", fontsize=14)\n",
    "plt.xlabel(\"Pct. items inspected\", fontsize=14)"
   ]
  },
  {
   "cell_type": "code",
   "execution_count": null,
   "metadata": {},
   "outputs": [],
   "source": [
    "plt.scatter(results_df[\"% missed contaminants\"], results_df[\"pct_items_inspected_completion\"]*100)\n",
    "plt.title(\"Missed contaminants vs. items inspected\", fontsize=18)\n",
    "plt.ylabel(\"Pct. missed contaminants\", fontsize=14)\n",
    "plt.xlabel(\"Pct. items inspected\", fontsize=14)"
   ]
  }
 ],
 "metadata": {
  "interpreter": {
   "hash": "f89daefcb2a13a88ffff858062b68e27cf759515f983d360c1c2f61401147f80"
  },
  "kernelspec": {
   "display_name": "Python 3.8.12 ('base')",
   "language": "python",
   "name": "python3"
  },
  "language_info": {
   "codemirror_mode": {
    "name": "ipython",
    "version": 3
   },
   "file_extension": ".py",
   "mimetype": "text/x-python",
   "name": "python",
   "nbconvert_exporter": "python",
   "pygments_lexer": "ipython3",
   "version": "3.8.12"
  },
  "orig_nbformat": 4
 },
 "nbformat": 4,
 "nbformat_minor": 2
}
