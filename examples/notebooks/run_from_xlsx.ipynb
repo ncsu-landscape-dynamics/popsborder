{
 "cells": [
  {
   "attachments": {},
   "cell_type": "markdown",
   "metadata": {},
   "source": [
    "# PoPS Border simulation using an XLSX configuration file\n",
    "\n",
    "## Test example \n",
    "\n",
    "First, we complete the Excel template `data/user_friendly_config.xlsx` with the configuration parameters required to run the simulation.\n",
    "\n",
    "The Excel configuration should include all parameters related to:\n",
    "1. [consignments](../../docs/consignments.md) (what is imported, from where, in what amounts), \n",
    "2. [contaminants](../../docs/contamination.md) (proportion and distribution of contaminated consignments, boxes, and items), and \n",
    "3. [inspection](../../docs/inspections.md) (sampling strategies and rates)\n",
    "\n",
    "There is a help file (linked above) for each of these sections that goes into greater detail about how to define the parameters."
   ]
  },
  {
   "cell_type": "markdown",
   "metadata": {},
   "source": [
    "## Set up the workspace\n",
    "\n",
    "First, we load the needed `popsborder` functions."
   ]
  },
  {
   "cell_type": "code",
   "execution_count": 1,
   "metadata": {},
   "outputs": [],
   "source": [
    "# Load required functions and packages\n",
    "\n",
    "from popsborder.simulation import run_simulation\n",
    "from popsborder.inputs import load_configuration\n",
    "from popsborder.outputs import print_totals_as_text"
   ]
  },
  {
   "cell_type": "markdown",
   "metadata": {},
   "source": [
    "We provide the location of our Excel configuration file. "
   ]
  },
  {
   "cell_type": "code",
   "execution_count": 2,
   "metadata": {},
   "outputs": [],
   "source": [
    "xlsx_loc = \"data/user_friendly_config.xlsx\""
   ]
  },
  {
   "cell_type": "markdown",
   "metadata": {},
   "source": [
    "We use the `load_configuration` function to import the simulation settings from the file. "
   ]
  },
  {
   "cell_type": "code",
   "execution_count": 3,
   "metadata": {},
   "outputs": [],
   "source": [
    "base_config = load_configuration(xlsx_loc, sheet=None, key_column=\"D\", value_column=\"B\")"
   ]
  },
  {
   "cell_type": "markdown",
   "metadata": {},
   "source": [
    "## Run the simulation \n",
    "\n",
    "We use the `run_simulation` function to run the simulation. We assign the output of this function to a variable, so that we can examine the results later.\n",
    "\n",
    "We can include the `pretty` and `verbose` parameters below to visualize the contamination and output directly in the notebook."
   ]
  },
  {
   "cell_type": "code",
   "execution_count": 4,
   "metadata": {},
   "outputs": [],
   "source": [
    "num_simulations=1\n",
    "num_consignments=4"
   ]
  },
  {
   "cell_type": "code",
   "execution_count": 5,
   "metadata": {},
   "outputs": [
    {
     "name": "stdout",
     "output_type": "stream",
     "text": [
      "━━ Consignment ━━ Boxes: 5 ━━ Items: 250 ━━━━━━━━━━━━━━━━━━━━━━━━━━━━━━━━━━━━━━━\n",
      "✿ ✿ ✿ ✿ ✿ ✿ 🐛 ✿ ✿ 🐛 ✿ ✿ ✿ ✿ ✿ ✿ ✿ ✿ ✿ ✿ ✿ ✿ ✿ ✿ ✿ ✿ ✿ ✿ ✿ ✿ ✿ ✿ ✿ ✿ ✿ ✿ ✿ ✿ ✿ ✿ ✿ ✿ ✿ ✿ ✿ ✿ ✿ ✿ ✿ ✿ | ✿ ✿ ✿ ✿ ✿ ✿ ✿ ✿ ✿ ✿ 🐛 ✿ ✿ ✿ ✿ ✿ ✿ ✿ ✿ ✿ ✿ ✿ ✿ ✿ ✿ ✿ ✿ ✿ ✿ ✿ ✿ ✿ ✿ ✿ ✿ ✿ ✿ ✿ ✿ ✿ ✿ ✿ ✿ ✿ ✿ ✿ ✿ 🐛 ✿ ✿ | ✿ ✿ ✿ ✿ 🐛 ✿ ✿ ✿ ✿ ✿ ✿ ✿ 🐛 ✿ ✿ ✿ ✿ ✿ ✿ ✿ ✿ ✿ ✿ ✿ ✿ ✿ ✿ ✿ ✿ ✿ ✿ ✿ ✿ ✿ ✿ ✿ ✿ ✿ ✿ ✿ ✿ ✿ 🐛 ✿ ✿ ✿ ✿ ✿ ✿ ✿ | ✿ ✿ ✿ ✿ ✿ ✿ ✿ ✿ ✿ ✿ ✿ ✿ ✿ ✿ ✿ ✿ ✿ ✿ ✿ ✿ ✿ ✿ ✿ ✿ ✿ ✿ ✿ ✿ ✿ ✿ ✿ 🐛 ✿ ✿ 🐛 ✿ ✿ ✿ ✿ ✿ ✿ ✿ ✿ ✿ ✿ ✿ ✿ 🐛 ✿ ✿ | 🐛 ✿ ✿ ✿ ✿ ✿ ✿ ✿ ✿ ✿ ✿ ✿ ✿ ✿ ✿ ✿ 🐛 ✿ ✿ ✿ ✿ ✿ ✿ ✿ ✿ ✿ ✿ ✿ ✿ ✿ ✿ ✿ ✿ ✿ ✿ ✿ ✿ ✿ ✿ ✿ ✿ ✿ ✿ ✿ ✿ ✿ ✿ ✿ ✿ ✿\n",
      "Inspection failed, missed 5 boxes with contaminants [FN]\n",
      "━━ Consignment ━━ Boxes: 1 ━━ Items: 50 ━━━━━━━━━━━━━━━━━━━━━━━━━━━━━━━━━━━━━━━━\n",
      "✿ ✿ ✿ ✿ ✿ ✿ ✿ ✿ ✿ ✿ ✿ ✿ ✿ ✿ ✿ ✿ ✿ ✿ ✿ ✿ ✿ ✿ ✿ ✿ ✿ ✿ ✿ ✿ 🐛 ✿ ✿ ✿ ✿ ✿ ✿ 🐛 ✿ ✿ ✿ ✿ ✿ ✿ ✿ ✿ ✿ ✿ ✿ ✿ ✿ ✿\n",
      "Inspection failed, missed 1 boxes with contaminants [FN]\n",
      "━━ Consignment ━━ Boxes: 10 ━━ Items: 500 ━━━━━━━━━━━━━━━━━━━━━━━━━━━━━━━━━━━━━━\n",
      "✿ 🐛 ✿ ✿ ✿ ✿ ✿ ✿ ✿ ✿ ✿ ✿ ✿ ✿ ✿ ✿ ✿ ✿ ✿ ✿ ✿ ✿ ✿ ✿ ✿ ✿ ✿ ✿ ✿ ✿ ✿ ✿ ✿ ✿ ✿ ✿ ✿ ✿ ✿ 🐛 ✿ ✿ ✿ ✿ ✿ ✿ ✿ ✿ ✿ ✿ | ✿ ✿ ✿ ✿ ✿ ✿ ✿ ✿ ✿ ✿ ✿ ✿ ✿ ✿ ✿ ✿ 🐛 ✿ ✿ ✿ ✿ ✿ ✿ ✿ ✿ ✿ ✿ ✿ ✿ ✿ ✿ ✿ ✿ ✿ ✿ ✿ ✿ 🐛 ✿ ✿ ✿ ✿ ✿ ✿ ✿ ✿ ✿ 🐛 ✿ ✿ | ✿ ✿ ✿ ✿ ✿ ✿ 🐛 ✿ ✿ ✿ ✿ ✿ ✿ ✿ ✿ ✿ ✿ ✿ ✿ ✿ ✿ ✿ ✿ ✿ ✿ ✿ ✿ ✿ ✿ ✿ ✿ ✿ ✿ 🐛 ✿ ✿ ✿ ✿ ✿ ✿ ✿ ✿ ✿ ✿ ✿ ✿ ✿ 🐛 ✿ ✿ | ✿ ✿ ✿ ✿ ✿ 🐛 ✿ ✿ ✿ ✿ ✿ ✿ ✿ ✿ ✿ ✿ ✿ ✿ ✿ ✿ ✿ ✿ ✿ ✿ ✿ ✿ ✿ ✿ ✿ ✿ ✿ ✿ ✿ ✿ ✿ ✿ ✿ ✿ ✿ ✿ ✿ ✿ ✿ ✿ ✿ ✿ ✿ ✿ ✿ ✿ | ✿ ✿ ✿ ✿ ✿ ✿ ✿ ✿ ✿ ✿ ✿ 🐛 ✿ ✿ ✿ ✿ ✿ ✿ ✿ ✿ ✿ ✿ ✿ ✿ ✿ ✿ ✿ ✿ ✿ ✿ ✿ ✿ ✿ ✿ ✿ ✿ ✿ ✿ ✿ ✿ ✿ ✿ ✿ ✿ ✿ ✿ ✿ 🐛 ✿ ✿ | 🐛 ✿ ✿ ✿ ✿ ✿ ✿ ✿ ✿ ✿ ✿ ✿ ✿ ✿ ✿ ✿ 🐛 ✿ ✿ ✿ ✿ ✿ ✿ ✿ ✿ ✿ ✿ ✿ ✿ ✿ ✿ 🐛 ✿ ✿ ✿ ✿ ✿ ✿ ✿ ✿ ✿ ✿ ✿ ✿ ✿ ✿ ✿ ✿ ✿ 🐛 | ✿ ✿ ✿ ✿ ✿ ✿ 🐛 ✿ ✿ ✿ ✿ ✿ ✿ ✿ ✿ ✿ ✿ ✿ ✿ 🐛 ✿ ✿ ✿ ✿ ✿ ✿ ✿ ✿ ✿ ✿ ✿ ✿ ✿ ✿ ✿ ✿ 🐛 🐛 ✿ ✿ ✿ ✿ ✿ ✿ ✿ ✿ ✿ ✿ ✿ ✿ | ✿ ✿ ✿ ✿ ✿ ✿ ✿ 🐛 ✿ ✿ ✿ ✿ 🐛 ✿ ✿ ✿ ✿ ✿ ✿ ✿ ✿ ✿ ✿ ✿ ✿ ✿ ✿ ✿ ✿ ✿ ✿ ✿ ✿ ✿ ✿ ✿ ✿ ✿ ✿ 🐛 ✿ ✿ ✿ ✿ ✿ ✿ ✿ ✿ ✿ ✿ | ✿ ✿ ✿ ✿ ✿ ✿ ✿ ✿ ✿ ✿ ✿ ✿ ✿ ✿ ✿ ✿ ✿ ✿ ✿ ✿ ✿ ✿ ✿ 🐛 ✿ ✿ ✿ ✿ ✿ ✿ ✿ ✿ ✿ ✿ ✿ ✿ ✿ ✿ ✿ ✿ ✿ ✿ ✿ ✿ ✿ ✿ ✿ ✿ ✿ ✿ | ✿ ✿ ✿ ✿ ✿ ✿ ✿ ✿ 🐛 ✿ ✿ ✿ ✿ ✿ ✿ ✿ ✿ ✿ ✿ ✿ ✿ ✿ ✿ 🐛 ✿ ✿ ✿ ✿ ✿ ✿ ✿ ✿ ✿ ✿ ✿ ✿ ✿ ✿ ✿ ✿ ✿ ✿ ✿ ✿ ✿ ✿ ✿ ✿ ✿ ✿\n",
      "Inspection failed, missed 10 boxes with contaminants [FN]\n",
      "━━ Consignment ━━ Boxes: 7 ━━ Items: 350 ━━━━━━━━━━━━━━━━━━━━━━━━━━━━━━━━━━━━━━━\n",
      "✿ ✿ ✿ ✿ ✿ ✿ ✿ ✿ ✿ ✿ ✿ ✿ ✿ ✿ ✿ 🐛 ✿ ✿ ✿ ✿ ✿ ✿ ✿ ✿ ✿ ✿ ✿ ✿ ✿ ✿ ✿ ✿ ✿ ✿ ✿ ✿ ✿ ✿ ✿ ✿ ✿ ✿ ✿ ✿ 🐛 ✿ ✿ ✿ ✿ ✿ | ✿ ✿ ✿ ✿ ✿ ✿ ✿ ✿ ✿ ✿ ✿ ✿ ✿ ✿ ✿ ✿ ✿ ✿ ✿ ✿ ✿ ✿ ✿ ✿ ✿ ✿ ✿ ✿ ✿ 🐛 ✿ ✿ ✿ ✿ ✿ ✿ ✿ ✿ 🐛 ✿ ✿ ✿ ✿ ✿ ✿ ✿ ✿ ✿ ✿ ✿ | ✿ 🐛 ✿ ✿ 🐛 ✿ ✿ ✿ ✿ ✿ ✿ ✿ ✿ ✿ ✿ ✿ 🐛 ✿ ✿ ✿ ✿ ✿ ✿ ✿ ✿ ✿ ✿ ✿ 🐛 ✿ ✿ ✿ ✿ ✿ ✿ ✿ ✿ ✿ ✿ ✿ ✿ ✿ ✿ ✿ ✿ ✿ ✿ ✿ ✿ ✿ | ✿ ✿ ✿ ✿ ✿ ✿ ✿ ✿ ✿ ✿ ✿ ✿ ✿ ✿ ✿ ✿ ✿ ✿ ✿ ✿ ✿ ✿ ✿ ✿ ✿ ✿ ✿ ✿ ✿ ✿ ✿ ✿ ✿ ✿ ✿ 🐛 ✿ ✿ ✿ ✿ ✿ ✿ ✿ ✿ ✿ ✿ ✿ ✿ ✿ ✿ | ✿ ✿ ✿ ✿ ✿ ✿ ✿ ✿ ✿ ✿ ✿ ✿ ✿ ✿ ✿ ✿ ✿ ✿ ✿ ✿ ✿ ✿ ✿ ✿ ✿ ✿ ✿ ✿ ✿ ✿ 🐛 ✿ ✿ ✿ ✿ ✿ ✿ ✿ ✿ ✿ ✿ ✿ ✿ ✿ 🐛 ✿ ✿ ✿ ✿ ✿ | ✿ ✿ ✿ ✿ ✿ ✿ ✿ ✿ ✿ ✿ ✿ ✿ ✿ ✿ ✿ ✿ 🐛 ✿ ✿ ✿ 🐛 ✿ ✿ ✿ ✿ ✿ ✿ ✿ ✿ ✿ ✿ 🐛 ✿ ✿ ✿ ✿ 🐛 ✿ ✿ ✿ ✿ ✿ ✿ ✿ ✿ ✿ ✿ ✿ ✿ ✿ | ✿ ✿ ✿ ✿ ✿ ✿ ✿ ✿ ✿ ✿ ✿ ✿ ✿ ✿ ✿ ✿ ✿ ✿ ✿ ✿ ✿ ✿ ✿ ✿ ✿ ✿ ✿ 🐛 ✿ 🐛 ✿ ✿ ✿ ✿ ✿ ✿ ✿ ✿ ✿ ✿ ✿ ✿ ✿ ✿ 🐛 ✿ ✿ ✿ ✿ ✿\n",
      "Inspection worked, found contaminant [TP]\n",
      "Missing {missing:.0f}% of contaminated consignments.\n"
     ]
    }
   ],
   "source": [
    "result = run_simulation(\n",
    "    config=base_config,\n",
    "    seed=42,\n",
    "    num_simulations=num_simulations,\n",
    "    num_consignments=num_consignments,\n",
    "    pretty=\"boxes\",\n",
    "    verbose=True\n",
    "    )\n"
   ]
  },
  {
   "cell_type": "code",
   "execution_count": 6,
   "metadata": {},
   "outputs": [
    {
     "name": "stdout",
     "output_type": "stream",
     "text": [
      "\n",
      "\n",
      "Simulation parameters:\n",
      "----------------------------------------------------------\n",
      "consignments:\n",
      "\t Number consignments simulated: 4\n",
      "\t Avg. number of boxes per consignment: 6\n",
      "\t Avg. number of items per consignment: 288\n",
      "contamination:\n",
      "\t unit: item\n",
      "\t type: fixed_value\n",
      "\t\t contamination rate: 0.05\n",
      "\t contaminant arrangement: random\n",
      "inspection:\n",
      "\t unit: item\n",
      "\t sample strategy: proportion\n",
      "\t\t value: 0.02\n",
      "\t selection strategy: random\n",
      "\t tolerance level: 0\n",
      "\n",
      "\n",
      "Simulation results: (averaged across all simulation runs)\n",
      "----------------------------------------------------------\n",
      "Avg. % contaminated consignments slipped: 75.00%\n",
      "Adjusted avg. % contaminated consignments slipped (excluding slipped consignments with contamination rates below tolerance level): 75.00%\n",
      "Avg. num. consignments slipped: 3\n",
      "Avg. num. slipped consignments within tolerance level: 0\n",
      "Avg. num. consignments intercepted: 1\n",
      "Total number of slipped contaminants: 39\n",
      "Total number of intercepted contaminants: 18\n",
      "Contamination rate:\n",
      "\tOverall avg: 0.047\n",
      "\tSlipped consignments avg.: 0.046\n",
      "\tSlipped consignments max.: 0.050\n",
      "\tIntercepted consignments avg.: 0.051\n",
      "\tIntercepted consignments max.: 0.051\n",
      "Avg. number of boxes opened per consignment:\n",
      "\t to completion: 4\n",
      "\t to detection: 3\n",
      "Avg. number of items inspected per consignment:\n",
      "\t to completion: 6\n",
      "\t to detection: 5\n",
      "Avg. % contaminated items unreported if sample ends at detection: 0.00%\n"
     ]
    }
   ],
   "source": [
    "print_totals_as_text(num_consignments, base_config, totals=result)"
   ]
  },
  {
   "cell_type": "markdown",
   "metadata": {},
   "source": [
    "## Export simulation results\n",
    "\n",
    "The summary of results can also be converted to a tabular format with the `pandas` library and exported to Excel or used directly for further analyses. \n",
    "\n",
    "First, we import an additional needed `popsborder` function and the `pandas` library."
   ]
  },
  {
   "cell_type": "code",
   "execution_count": 7,
   "metadata": {},
   "outputs": [],
   "source": [
    "from popsborder.outputs import save_simulation_result_to_pandas "
   ]
  },
  {
   "cell_type": "markdown",
   "metadata": {},
   "source": [
    "We use `save_simulation_result_to_pandas` to convert our simulation results into a dataframe"
   ]
  },
  {
   "cell_type": "code",
   "execution_count": 8,
   "metadata": {},
   "outputs": [],
   "source": [
    "results_pd = save_simulation_result_to_pandas(result)"
   ]
  },
  {
   "cell_type": "markdown",
   "metadata": {},
   "source": [
    "The resulting dataframe can be used directly here for further analyses."
   ]
  },
  {
   "cell_type": "code",
   "execution_count": 9,
   "metadata": {},
   "outputs": [
    {
     "data": {
      "text/html": [
       "<div>\n",
       "<style scoped>\n",
       "    .dataframe tbody tr th:only-of-type {\n",
       "        vertical-align: middle;\n",
       "    }\n",
       "\n",
       "    .dataframe tbody tr th {\n",
       "        vertical-align: top;\n",
       "    }\n",
       "\n",
       "    .dataframe thead th {\n",
       "        text-align: right;\n",
       "    }\n",
       "</style>\n",
       "<table border=\"1\" class=\"dataframe\">\n",
       "  <thead>\n",
       "    <tr style=\"text-align: right;\">\n",
       "      <th></th>\n",
       "      <th>missing</th>\n",
       "      <th>false_neg</th>\n",
       "      <th>missed_within_tolerance</th>\n",
       "      <th>intercepted</th>\n",
       "      <th>num_inspections</th>\n",
       "      <th>num_boxes</th>\n",
       "      <th>num_items</th>\n",
       "      <th>avg_boxes_opened_completion</th>\n",
       "      <th>avg_boxes_opened_detection</th>\n",
       "      <th>pct_boxes_opened_completion</th>\n",
       "      <th>...</th>\n",
       "      <th>pct_contaminant_unreported_if_detection</th>\n",
       "      <th>true_contamination_rate</th>\n",
       "      <th>max_missed_contamination_rate</th>\n",
       "      <th>avg_missed_contamination_rate</th>\n",
       "      <th>max_intercepted_contamination_rate</th>\n",
       "      <th>avg_intercepted_contamination_rate</th>\n",
       "      <th>false_negative_present</th>\n",
       "      <th>true_positive_present</th>\n",
       "      <th>total_intercepted_contaminants</th>\n",
       "      <th>total_missed_contaminants</th>\n",
       "    </tr>\n",
       "  </thead>\n",
       "  <tbody>\n",
       "    <tr>\n",
       "      <th>0</th>\n",
       "      <td>75.0</td>\n",
       "      <td>3.0</td>\n",
       "      <td>0.0</td>\n",
       "      <td>1.0</td>\n",
       "      <td>4.0</td>\n",
       "      <td>23.0</td>\n",
       "      <td>1150.0</td>\n",
       "      <td>3.5</td>\n",
       "      <td>3.0</td>\n",
       "      <td>60.869565</td>\n",
       "      <td>...</td>\n",
       "      <td>0.0</td>\n",
       "      <td>0.047357</td>\n",
       "      <td>0.05</td>\n",
       "      <td>0.046</td>\n",
       "      <td>0.051429</td>\n",
       "      <td>0.051429</td>\n",
       "      <td>1</td>\n",
       "      <td>1</td>\n",
       "      <td>18.0</td>\n",
       "      <td>39.0</td>\n",
       "    </tr>\n",
       "  </tbody>\n",
       "</table>\n",
       "<p>1 rows × 25 columns</p>\n",
       "</div>"
      ],
      "text/plain": [
       "   missing  false_neg  missed_within_tolerance  intercepted  num_inspections  \\\n",
       "0     75.0        3.0                      0.0          1.0              4.0   \n",
       "\n",
       "   num_boxes  num_items  avg_boxes_opened_completion  \\\n",
       "0       23.0     1150.0                          3.5   \n",
       "\n",
       "   avg_boxes_opened_detection  pct_boxes_opened_completion  ...  \\\n",
       "0                         3.0                    60.869565  ...   \n",
       "\n",
       "   pct_contaminant_unreported_if_detection  true_contamination_rate  \\\n",
       "0                                      0.0                 0.047357   \n",
       "\n",
       "   max_missed_contamination_rate  avg_missed_contamination_rate  \\\n",
       "0                           0.05                          0.046   \n",
       "\n",
       "   max_intercepted_contamination_rate  avg_intercepted_contamination_rate  \\\n",
       "0                            0.051429                            0.051429   \n",
       "\n",
       "   false_negative_present  true_positive_present  \\\n",
       "0                       1                      1   \n",
       "\n",
       "   total_intercepted_contaminants  total_missed_contaminants  \n",
       "0                            18.0                       39.0  \n",
       "\n",
       "[1 rows x 25 columns]"
      ]
     },
     "execution_count": 9,
     "metadata": {},
     "output_type": "execute_result"
    }
   ],
   "source": [
    "results_pd"
   ]
  },
  {
   "cell_type": "markdown",
   "metadata": {},
   "source": [
    "The dataframe can also be exported to XLSX (or other formats, like CSV) to use later."
   ]
  },
  {
   "cell_type": "code",
   "execution_count": 10,
   "metadata": {},
   "outputs": [],
   "source": [
    "results_pd.to_excel('results/user_friendly_config_results.xlsx')"
   ]
  },
  {
   "attachments": {},
   "cell_type": "markdown",
   "metadata": {},
   "source": [
    "## Run multiple scenarios\n",
    "\n",
    "Run the simulation for multiple scenarios at once to compare outcomes."
   ]
  },
  {
   "cell_type": "code",
   "execution_count": 11,
   "metadata": {},
   "outputs": [],
   "source": [
    "from popsborder.scenarios import run_scenarios\n",
    "from popsborder.inputs import load_scenario_table\n",
    "from popsborder.outputs import save_scenario_result_to_pandas\n",
    "import matplotlib.pyplot as plt"
   ]
  },
  {
   "attachments": {},
   "cell_type": "markdown",
   "metadata": {},
   "source": [
    "Load a CSV with the scenarios to run. Each row in the table is a scenario and the columns store the parameters to change for each scenario."
   ]
  },
  {
   "cell_type": "code",
   "execution_count": 12,
   "metadata": {},
   "outputs": [],
   "source": [
    "scenarios_path = \"data/scenarios.csv\""
   ]
  },
  {
   "cell_type": "code",
   "execution_count": 13,
   "metadata": {},
   "outputs": [],
   "source": [
    "scenario_table=load_scenario_table(scenarios_path)"
   ]
  },
  {
   "attachments": {},
   "cell_type": "markdown",
   "metadata": {},
   "source": [
    "Each scenario uses a common base configuration file but the parameters in the scenario table are overwritten with the values specified for each scenario."
   ]
  },
  {
   "cell_type": "code",
   "execution_count": 14,
   "metadata": {},
   "outputs": [],
   "source": [
    "num_simulations=10\n",
    "num_consignments=100"
   ]
  },
  {
   "cell_type": "code",
   "execution_count": 15,
   "metadata": {},
   "outputs": [
    {
     "name": "stdout",
     "output_type": "stream",
     "text": [
      "Running scenario: hypergeometric 0.01\n",
      "Running scenario: hypergeometric 0.05\n",
      "Running scenario: hypergeometric 0.1\n",
      "Running scenario: proportion 0.02\n"
     ]
    }
   ],
   "source": [
    "results = run_scenarios(\n",
    "    config=base_config,\n",
    "    scenario_table=scenario_table,\n",
    "    seed=42,\n",
    "    num_simulations=num_simulations,\n",
    "    num_consignments=num_consignments,\n",
    "    detailed=False,\n",
    ")"
   ]
  },
  {
   "attachments": {},
   "cell_type": "markdown",
   "metadata": {},
   "source": [
    "Save scenario results to a pandas dataframe"
   ]
  },
  {
   "cell_type": "code",
   "execution_count": 16,
   "metadata": {},
   "outputs": [],
   "source": [
    "results_df = save_scenario_result_to_pandas(\n",
    "    results,\n",
    "    config_columns=[\n",
    "        \"name\",\n",
    "        \"contamination/contamination_rate/value\",\n",
    "        \"contamination/arrangement\",\n",
    "        \"inspection/selection_strategy\",\n",
    "        \"inspection/unit\",\n",
    "        \"inspection/sample_strategy\",\n",
    "        \"inspection/hypergeometric/detection_level\",\n",
    "    ],\n",
    "    result_columns=[\n",
    "        \"true_contamination_rate\",\n",
    "        \"max_missed_contamination_rate\",\n",
    "        \"avg_missed_contamination_rate\",\n",
    "        \"max_intercepted_contamination_rate\",\n",
    "        \"avg_intercepted_contamination_rate\",\n",
    "        \"avg_boxes_opened_completion\",\n",
    "        \"pct_boxes_opened_completion\",\n",
    "        \"avg_boxes_opened_detection\",\n",
    "        \"pct_boxes_opened_detection\",\n",
    "        \"avg_items_inspected_completion\",\n",
    "        \"pct_items_inspected_completion\",\n",
    "        \"avg_items_inspected_detection\",\n",
    "        \"pct_items_inspected_detection\",\n",
    "        \"false_neg\",\n",
    "        \"intercepted\",\n",
    "        \"total_missed_contaminants\",\n",
    "        \"total_intercepted_contaminants\",\n",
    "        \"num_boxes\",\n",
    "        \"num_items\",\n",
    "    ],\n",
    ")"
   ]
  },
  {
   "attachments": {},
   "cell_type": "markdown",
   "metadata": {},
   "source": [
    "Compute a few additional results metrics"
   ]
  },
  {
   "cell_type": "code",
   "execution_count": 17,
   "metadata": {},
   "outputs": [],
   "source": [
    "results_df['action rate'] = results_df[\"intercepted\"] / num_consignments\n",
    "contaminated_consignments = results_df[\"false_neg\"] + results_df[\"intercepted\"]\n",
    "results_df[\"interception rate\"] = results_df[\"intercepted\"] / contaminated_consignments\n",
    "results_df[\"% missed contaminants\"] = (results_df[\"total_missed_contaminants\"] / (results_df[\"total_missed_contaminants\"] + results_df[\"total_intercepted_contaminants\"])) * 100"
   ]
  },
  {
   "attachments": {},
   "cell_type": "markdown",
   "metadata": {},
   "source": [
    "Plot metrics to compare scenario outcomes"
   ]
  },
  {
   "cell_type": "code",
   "execution_count": 18,
   "metadata": {},
   "outputs": [
    {
     "data": {
      "text/plain": [
       "Text(0.5, 0, 'Pct. missed contaminants')"
      ]
     },
     "execution_count": 18,
     "metadata": {},
     "output_type": "execute_result"
    },
    {
     "data": {
      "image/png": "[encoded data removed]",
      "text/plain": [
       "<Figure size 640x480 with 1 Axes>"
      ]
     },
     "metadata": {},
     "output_type": "display_data"
    }
   ],
   "source": [
    "plt.barh(results_df[\"name\"], results_df[\"% missed contaminants\"])\n",
    "plt.title(\"Missed contaminants\", fontsize=18)\n",
    "plt.ylabel(\"Scenario name\", fontsize=14)\n",
    "plt.xlabel(\"Pct. missed contaminants\", fontsize=14)"
   ]
  },
  {
   "cell_type": "code",
   "execution_count": 19,
   "metadata": {},
   "outputs": [
    {
     "data": {
      "text/plain": [
       "Text(0.5, 0, 'action rate')"
      ]
     },
     "execution_count": 19,
     "metadata": {},
     "output_type": "execute_result"
    },
    {
     "data": {
      "image/png": "[encoded data removed]",
      "text/plain": [
       "<Figure size 640x480 with 1 Axes>"
      ]
     },
     "metadata": {},
     "output_type": "display_data"
    }
   ],
   "source": [
    "plt.barh(results_df[\"name\"], results_df[\"action rate\"])\n",
    "plt.title(\"Action Rate\", fontsize=18)\n",
    "plt.ylabel(\"Scenario name\", fontsize=14)\n",
    "plt.xlabel(\"action rate\", fontsize=14)"
   ]
  },
  {
   "cell_type": "code",
   "execution_count": null,
   "metadata": {},
   "outputs": [],
   "source": []
  }
 ],
 "metadata": {
  "interpreter": {
   "hash": "35a97950b3485d686f65df065bbd4f3ea2db4d126aaaac47be7ba4d8431a0071"
  },
  "kernelspec": {
   "display_name": "popsborder",
   "language": "python",
   "name": "popsborder"
  },
  "language_info": {
   "codemirror_mode": {
    "name": "ipython",
    "version": 3
   },
   "file_extension": ".py",
   "mimetype": "text/x-python",
   "name": "python",
   "nbconvert_exporter": "python",
   "pygments_lexer": "ipython3",
   "version": "3.11.5"
  }
 },
 "nbformat": 4,
 "nbformat_minor": 2
}
