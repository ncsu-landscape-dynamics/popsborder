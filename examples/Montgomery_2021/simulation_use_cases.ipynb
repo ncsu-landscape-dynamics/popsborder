{
 "cells": [
  {
   "cell_type": "code",
   "execution_count": null,
   "metadata": {},
   "outputs": [],
   "source": [
    "from popsborder.scenarios import run_scenarios\n",
    "from popsborder.inputs import load_configuration, load_scenario_table\n",
    "from popsborder.outputs import save_scenario_result_to_pandas"
   ]
  },
  {
   "cell_type": "code",
   "execution_count": null,
   "metadata": {},
   "outputs": [],
   "source": [
    "import pandas as pd\n",
    "import re\n",
    "import seaborn as sns\n",
    "import matplotlib.pyplot as plt\n",
    "import matplotlib.patches as mpatches\n",
    "import numpy as np\n",
    "\n",
    "%matplotlib inline"
   ]
  },
  {
   "cell_type": "code",
   "execution_count": null,
   "metadata": {},
   "outputs": [],
   "source": [
    "from pathlib import Path\n",
    "datadir = Path(\"data\")\n",
    "# Set a directory for the use case results here\n",
    "resultsdir = Path(\"use_cases\")\n",
    "# Make sure the directory exists\n",
    "resultsdir.mkdir(exist_ok=True)"
   ]
  },
  {
   "cell_type": "markdown",
   "metadata": {},
   "source": [
    "## Load scenario tables for use cases\n",
    "Note that these use cases recreate consignments from historical AQIM inspection data (aqim_box_insp_unit.csv). To run this notebook, the inspection data csv must be saved locally or a different method for generating the consignments should be used. You can edit the scenario tables to use the parameter consignment generator or use a csv of other AQIM or F280 inspection records."
   ]
  },
  {
   "cell_type": "code",
   "execution_count": null,
   "metadata": {},
   "outputs": [],
   "source": [
    "basic_config = load_configuration(datadir / \"config.yml\")\n",
    "rate_scenario_table = load_scenario_table(datadir / \"contamination_rate_estimation.csv\")\n",
    "inspection_scenario_table = load_scenario_table(datadir / \"inspection_scenarios.csv\")\n",
    "consignment_scenario_table = load_scenario_table(datadir / \"consignment_scenarios.csv\")"
   ]
  },
  {
   "cell_type": "markdown",
   "metadata": {},
   "source": [
    "## Use Case 1: Estimate contamination rates from high quality inspection data\n",
    "\n",
    "When inspection data obtained with known statistically valid inspection methods are available, the simulation can be used to estimate the consignment contamination rates by recreating the inspections and calibrating the contamination configuration until similar inspection outcomes are achieved.\n",
    "\n",
    "In the example below, data from AQIM inspections of cut flower consignments are used to estimate possible contamination rate probability distributions. Note that the contamination rate distribution parameters were estimated by running the simulation, checking the failure rate, and adjusting the distribution parameters until the failure rate matched the AQIM data."
   ]
  },
  {
   "cell_type": "code",
   "execution_count": null,
   "metadata": {
    "tags": []
   },
   "outputs": [],
   "source": [
    "num_consignments = 3313\n",
    "fitted_contamination_rate_results = run_scenarios(\n",
    "    config=basic_config,\n",
    "    scenario_table=rate_scenario_table,\n",
    "    seed=42,\n",
    "    num_simulations=100,\n",
    "    num_consignments=num_consignments,\n",
    "    detailed=False,\n",
    ")"
   ]
  },
  {
   "cell_type": "code",
   "execution_count": null,
   "metadata": {},
   "outputs": [],
   "source": [
    "df_fitted = save_scenario_result_to_pandas(\n",
    "    fitted_contamination_rate_results,\n",
    "    config_columns=[\n",
    "        \"name\",\n",
    "        \"consignment name\",\n",
    "        \"inspection name\",\n",
    "        \"contamination/contamination_rate/parameters\",\n",
    "        \"contamination/arrangement\",\n",
    "        \"contamination/clustered/distribution\",\n",
    "        \"contamination/clustered/contaminated_units_per_cluster\",\n",
    "    ],\n",
    "    result_columns=[\n",
    "        \"true_contamination_rate\",\n",
    "        \"false_neg\",\n",
    "        \"intercepted\",\n",
    "        \"total_missed_contaminants\",\n",
    "        \"total_intercepted_contaminants\",\n",
    "        \"avg_boxes_opened_completion\",\n",
    "    ],\n",
    ")"
   ]
  },
  {
   "cell_type": "code",
   "execution_count": null,
   "metadata": {},
   "outputs": [],
   "source": [
    "df_fitted['failure rate'] = df_fitted[\"intercepted\"] / num_consignments"
   ]
  },
  {
   "cell_type": "code",
   "execution_count": null,
   "metadata": {},
   "outputs": [],
   "source": [
    "# Format dataframe\n",
    "column_names = [\"consignment name\", \"inspection name\", \"beta parameters\", \"contaminant arrangement\", \"cluster distribution\", \"infested boxes per cluster\", \"simulated contamination rate (mean)\", \"failure rate\"]\n",
    "df_contamination_pretty = df_fitted.iloc[:,[1,2,3,4,5,6,7,13]].copy()\n",
    "\n",
    "df_contamination_pretty.columns = column_names\n",
    "df_contamination_pretty.iloc[:,6] = df_contamination_pretty.iloc[:,6].round(decimals=4)\n",
    "df_contamination_pretty.iloc[:,7] = df_contamination_pretty.iloc[:,7].round(decimals=4)\n",
    "df_contamination_pretty"
   ]
  },
  {
   "cell_type": "code",
   "execution_count": null,
   "metadata": {},
   "outputs": [],
   "source": [
    "# Save results to csv\n",
    "df_contamination_pretty.to_csv(resultsdir / \"contamination_rate_results.csv\")"
   ]
  },
  {
   "cell_type": "code",
   "execution_count": null,
   "metadata": {},
   "outputs": [],
   "source": [
    "# If loading results from saved csv, uncomment and run this chunk.\n",
    "#df_contamination_pretty = pd.read_csv(resultsdir / \"contamination_rate_results.csv\")"
   ]
  },
  {
   "cell_type": "markdown",
   "metadata": {},
   "source": [
    "## Use Case 2: Measure the effect of deviations from sampling protocols\n",
    "\n",
    "We used the calibrated contamination rate distribution with mean 0.0027 and standard deviation 0.0282 with a clustered contaminant arrangement to run sampling scenarios with fixed consignment assumptions. The outcomes of these scenarios provide information about the relative impacts of changes to inspection protocols. "
   ]
  },
  {
   "cell_type": "code",
   "execution_count": null,
   "metadata": {
    "tags": []
   },
   "outputs": [],
   "source": [
    "# Hiding very long output for this cell (many printed messages related to clusters)\n",
    "#%%capture capt\n",
    "num_consignments = 3313\n",
    "inspection_scenario_results = run_scenarios(\n",
    "    config=basic_config,\n",
    "    scenario_table=inspection_scenario_table,\n",
    "    seed=42,\n",
    "    num_simulations=100,\n",
    "    num_consignments=num_consignments,\n",
    "    detailed=False,\n",
    ")\n",
    "# uncomment to print output if desired\n",
    "#capt.show()"
   ]
  },
  {
   "cell_type": "code",
   "execution_count": null,
   "metadata": {},
   "outputs": [],
   "source": [
    "df_inspections = save_scenario_result_to_pandas(\n",
    "    inspection_scenario_results,\n",
    "    config_columns=[\n",
    "        \"name\",\n",
    "        \"inspection/unit\",\n",
    "        \"inspection/sample_strategy\",\n",
    "        \"inspection/proportion/value\",\n",
    "        \"inspection/hypergeometric/detection_level\",\n",
    "        \"inspection/selection_strategy\",\n",
    "        \"inspection/cluster/cluster_selection\",\n",
    "\n",
    "    ],\n",
    "    result_columns=[\n",
    "        \"true_contamination_rate\",\n",
    "        \"max_missed_contamination_rate\",\n",
    "        \"avg_missed_contamination_rate\",\n",
    "        \"max_intercepted_contamination_rate\",\n",
    "        \"avg_intercepted_contamination_rate\",\n",
    "        \"avg_boxes_opened_completion\",\n",
    "        \"avg_boxes_opened_detection\",\n",
    "        \"avg_items_inspected_completion\",\n",
    "        \"avg_items_inspected_detection\",\n",
    "        \"false_neg\",\n",
    "        \"intercepted\",\n",
    "        \"total_missed_contaminants\",\n",
    "        \"total_intercepted_contaminants\",\n",
    "    ],\n",
    ")"
   ]
  },
  {
   "cell_type": "code",
   "execution_count": null,
   "metadata": {},
   "outputs": [],
   "source": [
    "df_inspections['failure rate'] = df_inspections[\"intercepted\"] / num_consignments\n",
    "contaminated_consignments = df_inspections[\"false_neg\"] + df_inspections[\"intercepted\"]\n",
    "df_inspections[\"interception rate\"] = df_inspections[\"intercepted\"] / contaminated_consignments\n",
    "df_inspections[\"% missed contaminants\"] = (df_inspections[\"total_missed_contaminants\"] / (df_inspections[\"total_missed_contaminants\"] + df_inspections[\"total_intercepted_contaminants\"])) * 100"
   ]
  },
  {
   "cell_type": "code",
   "execution_count": null,
   "metadata": {},
   "outputs": [],
   "source": [
    "# Format dataframe\n",
    "column_names = [\"name\", \"inspection unit\", \"sample strategy\", \"sample parameter\", \"selection strategy\", \"cluster selection\", \"avg contamination rate\", \"max missed contamination rate\", \"avg missed contamination rate\", \"max intercepted contamination rate\", \"avg intercepted contamination rate\", \"boxes opened completion\", \"boxes opened detection\", \"items inspected completion\", \"items inspected detection\", \"missed\", \"intercepted\", \"missed contaminants\", \"intercepted contamininants\", \"failure rate\", \"interception rate\", \"% missed contaminants\", \"sample size method\", \"selection method\"]"
   ]
  },
  {
   "cell_type": "code",
   "execution_count": null,
   "metadata": {},
   "outputs": [],
   "source": [
    "\n",
    "df_inspections_pretty = df_inspections.loc[:, df_inspections.columns != 'inspection/hypergeometric/detection_level'].copy()\n",
    "hypergeometric_parameters = df_inspections.iloc[[0,1,2,3,4,5,6,7,12,13,14,15],4]\n",
    "df_inspections_pretty.iloc[[0,1,2,3,4,5,6,7,12,13,14,15],3] = hypergeometric_parameters\n",
    "df_inspections_pretty.iloc[:,3] = df_inspections_pretty.iloc[:,3].astype(str)\n",
    "\n",
    "df_inspections_pretty[\"sample size method\"] = df_inspections_pretty[['inspection/sample_strategy', 'inspection/proportion/value']].agg(' '.join, axis=1)\n",
    "df_inspections_pretty[\"selection method\"] = df_inspections_pretty[[\"inspection/unit\", 'inspection/selection_strategy', 'inspection/cluster/cluster_selection']].agg(' '.join, axis=1)\n",
    "\n",
    "df_inspections_pretty.columns = column_names\n",
    "df_inspections_pretty.iloc[:,6:11] = df_inspections_pretty.iloc[:,6:11].round(decimals=4)\n",
    "df_inspections_pretty.iloc[:,11:19] = df_inspections_pretty.iloc[:,11:19].astype(int)\n",
    "df_inspections_pretty.iloc[:,19:22] = df_inspections_pretty.iloc[:,19:22].round(decimals=4)\n",
    "df_inspections_pretty.iloc[:18,[0,1,21,22,6,7,8,9,10,11,12,13,14,15,16,17,18,19,20]]\n",
    "df_inspections_pretty"
   ]
  },
  {
   "cell_type": "code",
   "execution_count": null,
   "metadata": {},
   "outputs": [],
   "source": [
    "# Save results to csv\n",
    "df_inspections_pretty.to_csv(resultsdir / \"inspection_scenario_results.csv\")"
   ]
  },
  {
   "cell_type": "code",
   "execution_count": null,
   "metadata": {},
   "outputs": [],
   "source": [
    "# If loading results from saved csv, uncomment and run this chunk.\n",
    "#df_inspections_pretty = pd.read_csv(resultsdir / \"inspection_scenario_results.csv\")"
   ]
  },
  {
   "cell_type": "code",
   "execution_count": null,
   "metadata": {},
   "outputs": [],
   "source": [
    "colors = {\"hypergeometric 0.1\": \"#1f78b4\", \"hypergeometric 0.05\": \"#a6cee3\", \"proportion 0.02\":\"#b2df8a\"}\n",
    "patch_1 = mpatches.Patch(color=\"#a6cee3\", label=\"hypergeometric 0.05\")\n",
    "patch_2 = mpatches.Patch(color=\"#1f78b4\", label=\"hypergeometric 0.1\")\n",
    "patch_3 = mpatches.Patch(color=\"#b2df8a\", label=\"proportion 0.02\")"
   ]
  },
  {
   "cell_type": "code",
   "execution_count": null,
   "metadata": {},
   "outputs": [],
   "source": [
    "plt.figure(figsize=(18, 18), dpi=150)\n",
    "plt.subplot(221)\n",
    "plt.subplots_adjust(wspace=0.65, left=0.1,right=0.9, top=0.93, bottom=0.05, hspace=0.16)\n",
    "plt.barh(df_inspections_pretty[\"name\"], df_inspections_pretty[\"interception rate\"], color=df_inspections_pretty['sample size method'].replace(colors))\n",
    "plt.title(\"Interception Rate\", fontsize=24)\n",
    "plt.ylabel(\"inspection method\", fontsize=20)\n",
    "plt.xlabel(\"rate\", fontsize=20)\n",
    "plt.yticks(ticks=np.arange(18),labels=df_inspections_pretty[\"selection method\"], fontsize=20)\n",
    "plt.xticks(fontsize=18)\n",
    "plt.subplot(222)\n",
    "plt.barh(df_inspections_pretty[\"name\"], df_inspections_pretty[\"avg missed contamination rate\"], color=df_inspections_pretty['sample size method'].replace(colors))\n",
    "plt.title(\"Avg. Missed Contamination Rate\", fontsize=24)\n",
    "plt.xlabel(\"rates\", fontsize=20)\n",
    "plt.yticks(ticks=np.arange(18),labels=df_inspections_pretty[\"selection method\"], fontsize=20)\n",
    "plt.xticks(ticks=[0,0.01,0.02,0.03], fontsize=18)\n",
    "\n",
    "plt.subplot(223)\n",
    "plt.subplots_adjust(wspace=0.65,left=0.22,right=0.95)\n",
    "plt.barh(df_inspections_pretty[\"name\"], df_inspections_pretty[\"boxes opened completion\"], color=df_inspections_pretty['sample size method'].replace(colors))\n",
    "plt.title(\"Boxes Opened per Consignment\", fontsize=24)\n",
    "plt.ylabel(\"inspection method\", fontsize=20)\n",
    "plt.xlabel(\"boxes\", fontsize=20)\n",
    "plt.yticks(ticks=np.arange(18),labels=df_inspections_pretty[\"selection method\"], fontsize=20)\n",
    "plt.xticks(fontsize=18)\n",
    "plt.subplot(224)\n",
    "plt.barh(df_inspections_pretty[\"name\"], df_inspections_pretty[\"items inspected completion\"], color=df_inspections_pretty['sample size method'].replace(colors))\n",
    "plt.title(\"Items Inspected per Consignment\", fontsize=24)\n",
    "plt.xlabel(\"items\", fontsize=20)\n",
    "plt.legend(handles=[patch_1,patch_2,patch_3], loc = \"lower right\", fontsize=20)\n",
    "plt.yticks(ticks=np.arange(18),labels=df_inspections_pretty[\"selection method\"], fontsize=20)\n",
    "plt.xticks(fontsize=18)\n",
    "plt.suptitle(\"Inspection Scenarios\", fontsize=28)\n",
    "plt.savefig(resultsdir / \"inspection_scenario_plots.png\")\n",
    "plt.show()\n"
   ]
  },
  {
   "cell_type": "markdown",
   "metadata": {},
   "source": [
    "##  Use Case 3: Measure the effect of changes in consignment characteristics\n",
    "\n",
    "We used the simulation with fixed inspection assumptions to answer questions about how inspection outcomes change with changes in consignments. Using the AQIM inspection protocol (box unit, hypergeometric sample with 0.1 detection level and 0.95 confidence level, random selection), we simulated multiple scenarios to reflect the following consignment scenarios:\n",
    "\n",
    "* 10,000,000 items packaged using three cargo scenarios: Maritime scenario with large consignments (100 - 160 boxes) with 700 items per box, Air scenario with mid-sized consignments (20 - 100 boxes) with 200 items per box, and direct-to-consumer scenario with very small consignments (1 - 50 boxes) with 100 items per box.\n",
    "* Changes in contamination rate variability\n",
    "* Changes in contaminant arrangement (random vs clustered)"
   ]
  },
  {
   "cell_type": "markdown",
   "metadata": {},
   "source": [
    "### First, run the packaging scenarios. Each requires a different number of consignments per simulation to contain 10,000,000 items."
   ]
  },
  {
   "cell_type": "code",
   "execution_count": null,
   "metadata": {},
   "outputs": [],
   "source": [
    "num_consignments = 833\n",
    "air_scenario_results = run_scenarios(\n",
    "    config=basic_config,\n",
    "    scenario_table=consignment_scenario_table[0:1],\n",
    "    seed=42,\n",
    "    num_simulations=100,\n",
    "    num_consignments=num_consignments,\n",
    "    detailed=False,\n",
    ")"
   ]
  },
  {
   "cell_type": "code",
   "execution_count": null,
   "metadata": {},
   "outputs": [],
   "source": [
    "num_consignments = 110\n",
    "maritime_scenario_results = run_scenarios(\n",
    "    config=basic_config,\n",
    "    scenario_table=consignment_scenario_table[1:2],\n",
    "    seed=42,\n",
    "    num_simulations=100,\n",
    "    num_consignments=num_consignments,\n",
    "    detailed=False,\n",
    ")"
   ]
  },
  {
   "cell_type": "code",
   "execution_count": null,
   "metadata": {},
   "outputs": [],
   "source": [
    "num_consignments = 4000\n",
    "dtc_scenario_results = run_scenarios(\n",
    "    config=basic_config,\n",
    "    scenario_table=consignment_scenario_table[2:3],\n",
    "    seed=42,\n",
    "    num_simulations=100,\n",
    "    num_consignments=num_consignments,\n",
    "    detailed=False,\n",
    ")"
   ]
  },
  {
   "cell_type": "code",
   "execution_count": null,
   "metadata": {},
   "outputs": [],
   "source": [
    "df_consignments_10M = save_scenario_result_to_pandas(\n",
    "    air_scenario_results+maritime_scenario_results+dtc_scenario_results,\n",
    "    config_columns=[\n",
    "        \"name\",\n",
    "        \"consignment name\",\n",
    "        \"consignment/parameter_based/boxes/min\",\n",
    "        \"consignment/parameter_based/boxes/max\",\n",
    "        \"consignment/items_per_box/default\",\n",
    "        \"contamination/contamination_unit\",\n",
    "        \"contamination/contamination_rate/distribution\",\n",
    "        \"contamination/contamination_rate/parameters\",\n",
    "        \"contamination/arrangement\",\n",
    "        \"contamination/clustered/distribution\",\n",
    "        \"contamination/clustered/contaminated_units_per_cluster\",\n",
    "        \"contamination/clustered/random/cluster_item_width\",\n",
    "    ],\n",
    "    result_columns=[\n",
    "        \"true_contamination_rate\",\n",
    "        \"max_missed_contamination_rate\",\n",
    "        \"avg_missed_contamination_rate\",\n",
    "        \"max_intercepted_contamination_rate\",\n",
    "        \"avg_intercepted_contamination_rate\",\n",
    "        \"avg_boxes_opened_completion\",\n",
    "        \"pct_boxes_opened_completion\",\n",
    "        \"avg_boxes_opened_detection\",\n",
    "        \"pct_boxes_opened_detection\",\n",
    "        \"avg_items_inspected_completion\",\n",
    "        \"pct_items_inspected_completion\",\n",
    "        \"avg_items_inspected_detection\",\n",
    "        \"pct_items_inspected_detection\",\n",
    "        \"false_neg\",\n",
    "        \"intercepted\",\n",
    "        \"total_missed_contaminants\",\n",
    "        \"total_intercepted_contaminants\",\n",
    "        \"num_boxes\",\n",
    "        \"num_items\",\n",
    "    ],\n",
    ")"
   ]
  },
  {
   "cell_type": "code",
   "execution_count": null,
   "metadata": {},
   "outputs": [],
   "source": [
    "df_consignments_10M['failure rate'] = df_consignments_10M[\"intercepted\"] / num_consignments\n",
    "contaminated_consignments = df_consignments_10M[\"false_neg\"] + df_consignments_10M[\"intercepted\"]\n",
    "df_consignments_10M[\"interception rate\"] = df_consignments_10M[\"intercepted\"] / contaminated_consignments\n",
    "df_consignments_10M[\"contaminated_consignments\"] = contaminated_consignments\n",
    "df_consignments_10M[\"% missed contaminants\"] = (df_consignments_10M[\"total_missed_contaminants\"] / (df_consignments_10M[\"total_missed_contaminants\"] + df_consignments_10M[\"total_intercepted_contaminants\"])) * 100"
   ]
  },
  {
   "cell_type": "code",
   "execution_count": null,
   "metadata": {},
   "outputs": [],
   "source": [
    "# Format dataframe \n",
    "column_names = [\"name\", \"consignment name\", \"items per box\", \"contamination unit\", \"contamination parameters\", \"contaminant arrangement\", \"cluster distribution\", \"contaminated units per cluster\", \"cluster width\", \"avg contamination rate\", \"avg missed contamination rate\", \"avg intercepted contamination rate\", \"avg boxes opened per inspection\", \"pct boxes opened per simulation\", \"avg items inspected per inspection\", \"pct items inspected per simulation\", \"missed contaminants\", \"intercepted contamininants\", \"total boxes\", \"total items\", \"interception rate\", \"contaminated_consignments\", \"% missed contaminants\"]\n",
    "df_consignments_pretty_10M = df_consignments_10M"
   ]
  },
  {
   "cell_type": "code",
   "execution_count": null,
   "metadata": {},
   "outputs": [],
   "source": [
    "df_consignments_pretty_10M.iloc[:,12:35] = df_consignments_pretty_10M.iloc[:,12:35].round(decimals=3)\n",
    "df_consignments_pretty_10M = df_consignments_pretty_10M.iloc[:,[0,1,4,5,7,8,9,10,11,12,14,16,17,18,21,22,27,28,29,30,32,33,34]]\n",
    "df_consignments_pretty_10M.columns = column_names\n",
    "df_consignments_pretty_10M"
   ]
  },
  {
   "cell_type": "code",
   "execution_count": null,
   "metadata": {},
   "outputs": [],
   "source": [
    "# Save results to csv\n",
    "df_consignments_pretty_10M.to_csv(resultsdir / \"cargoconfig_scenario_10M_results.csv\")"
   ]
  },
  {
   "cell_type": "code",
   "execution_count": null,
   "metadata": {},
   "outputs": [],
   "source": [
    "# If loading results from saved csv, uncomment and run this cell.\n",
    "#df_consignments_pretty_10M = pd.read_csv(resultsdir / \"cargoconfig_scenario_10M_results.csv\")"
   ]
  },
  {
   "cell_type": "code",
   "execution_count": null,
   "metadata": {},
   "outputs": [],
   "source": [
    "plt.figure(figsize=(16, 5), dpi=300)\n",
    "plt.subplot(221)\n",
    "plt.subplots_adjust(bottom=0.14,top=0.81, left=0.2, right=0.97, wspace=0.65, hspace=1)\n",
    "plt.barh(df_consignments_pretty_10M[\"name\"], df_consignments_pretty_10M[\"interception rate\"], color=\"#b2df8a\")\n",
    "plt.title(\"Interception Rate\", fontsize=24)\n",
    "plt.xlabel(\"rate\", fontsize=20)\n",
    "plt.ylabel(\"cargo type\", fontsize=18, labelpad=10)\n",
    "plt.yticks(ticks=np.arange(3),labels=df_consignments_pretty_10M[\"consignment name\"], fontsize=20)\n",
    "plt.xticks(ticks=[0.0,0.2,0.4,0.6,0.8],fontsize=18)\n",
    "plt.subplot(222)\n",
    "plt.barh(df_consignments_pretty_10M[\"name\"], df_consignments_pretty_10M[\"avg missed contamination rate\"], color=\"#b2df8a\")\n",
    "plt.title(\"Avg. Missed Contamination Rate\", fontsize=24)\n",
    "plt.xlabel(\"rate\", fontsize=20)\n",
    "plt.yticks(ticks=np.arange(3),labels=df_consignments_pretty_10M[\"consignment name\"],fontsize=20)\n",
    "plt.xticks(ticks=[0,0.001,0.002,0.003,0.004], fontsize=18)\n",
    "\n",
    "plt.subplot(223)\n",
    "plt.barh(df_consignments_pretty_10M[\"name\"], df_consignments_pretty_10M[\"avg items inspected per inspection\"], color=\"#b2df8a\")\n",
    "plt.title(\"Items Inspected per Consignment\", fontsize=24)\n",
    "plt.xlabel(\"items\", fontsize=20)\n",
    "plt.ylabel(\"cargo type\", fontsize=18, labelpad=10)\n",
    "plt.yticks(ticks=np.arange(3),labels=df_consignments_pretty_10M[\"consignment name\"], fontsize=20)\n",
    "plt.xticks(ticks=[0,4000,8000,12000,16000], fontsize=18)\n",
    "plt.subplot(224)\n",
    "plt.barh(df_consignments_pretty_10M[\"name\"], df_consignments_pretty_10M[\"pct items inspected per simulation\"], color=\"#b2df8a\")\n",
    "plt.title(\"% Items Inspected per Scenario\", fontsize=24)\n",
    "plt.xlabel(\"% items\", fontsize=20)\n",
    "plt.yticks(ticks=np.arange(3),labels=df_consignments_pretty_10M[\"consignment name\"], fontsize=20)\n",
    "plt.xticks(fontsize=18)\n",
    "\n",
    "plt.suptitle(\"Cargo Packaging Scenarios\", fontsize=28)\n",
    "plt.savefig(resultsdir / \"cargo_config_scenario_10M_plots.png\")\n",
    "plt.show()"
   ]
  },
  {
   "cell_type": "markdown",
   "metadata": {},
   "source": [
    "### Run contaminant arrangement and rate variability scenarios"
   ]
  },
  {
   "cell_type": "code",
   "execution_count": null,
   "metadata": {},
   "outputs": [],
   "source": [
    "num_consignments = 3313\n",
    "consignment_scenario_results = run_scenarios(\n",
    "    config=basic_config,\n",
    "    scenario_table=consignment_scenario_table[3:9],\n",
    "    seed=42,\n",
    "    num_simulations=100,\n",
    "    num_consignments=num_consignments,\n",
    "    detailed=False,\n",
    ")"
   ]
  },
  {
   "cell_type": "code",
   "execution_count": null,
   "metadata": {},
   "outputs": [],
   "source": [
    "df_consignments = save_scenario_result_to_pandas(\n",
    "    consignment_scenario_results,\n",
    "    config_columns=[\n",
    "        \"name\",\n",
    "        \"consignment name\",\n",
    "        \"consignment/parameter_based/boxes/min\",\n",
    "        \"consignment/parameter_based/boxes/max\",\n",
    "        \"consignment/items_per_box/default\",\n",
    "        \"contamination/contamination_unit\",\n",
    "        \"contamination/contamination_rate/distribution\",\n",
    "        \"contamination/contamination_rate/parameters\",\n",
    "        \"contamination/arrangement\",\n",
    "        \"contamination/clustered/distribution\",\n",
    "        \"contamination/clustered/contaminated_units_per_cluster\",\n",
    "        \"contamination/clustered/random/cluster_item_width\",\n",
    "    ],\n",
    "    result_columns=[\n",
    "        \"true_contamination_rate\",\n",
    "        \"max_missed_contamination_rate\",\n",
    "        \"avg_missed_contamination_rate\",\n",
    "        \"max_intercepted_contamination_rate\",\n",
    "        \"avg_intercepted_contamination_rate\",\n",
    "        \"avg_boxes_opened_completion\",\n",
    "        \"pct_boxes_opened_completion\",\n",
    "        \"avg_boxes_opened_detection\",\n",
    "        \"pct_boxes_opened_detection\",\n",
    "        \"avg_items_inspected_completion\",\n",
    "        \"pct_items_inspected_completion\",\n",
    "        \"avg_items_inspected_detection\",\n",
    "        \"pct_items_inspected_detection\",\n",
    "        \"false_neg\",\n",
    "        \"intercepted\",\n",
    "        \"total_missed_contaminants\",\n",
    "        \"total_intercepted_contaminants\",\n",
    "    ],\n",
    ")"
   ]
  },
  {
   "cell_type": "code",
   "execution_count": null,
   "metadata": {},
   "outputs": [],
   "source": [
    "df_consignments['failure rate'] = df_consignments[\"intercepted\"] / num_consignments\n",
    "contaminated_consignments = df_consignments[\"false_neg\"] + df_consignments[\"intercepted\"]\n",
    "df_consignments[\"interception rate\"] = df_consignments[\"intercepted\"] / contaminated_consignments\n",
    "df_consignments[\"contaminated_consignments\"] = contaminated_consignments\n",
    "df_consignments[\"% missed contaminants\"] = (df_consignments[\"total_missed_contaminants\"] / (df_consignments[\"total_missed_contaminants\"] + df_consignments[\"total_intercepted_contaminants\"])) * 100"
   ]
  },
  {
   "cell_type": "code",
   "execution_count": null,
   "metadata": {},
   "outputs": [],
   "source": [
    "# Format dataframe \n",
    "column_names = [\"name\", \"consignment name\", \"items per box\", \"contamination unit\", \"contamination parameters\", \"contaminant arrangement\", \"cluster distribution\", \"contaminated units per cluster\", \"cluster width\", \"avg contamination rate\", \"avg missed contamination rate\", \"avg intercepted contamination rate\", \"avg boxes opened per inspection\", \"pct box opened per simulation\", \"avg items inspected per inspection\", \"pct items inspected per simulation\", \"missed contaminants\", \"intercepted contamininants\", \"interception rate\", \"contaminated_consignments\", \"% missed contaminants\"]\n",
    "df_consignments_pretty = df_consignments"
   ]
  },
  {
   "cell_type": "code",
   "execution_count": null,
   "metadata": {},
   "outputs": [],
   "source": [
    "df_consignments_pretty.iloc[:,12:17] = df_consignments_pretty.iloc[:,12:17].round(decimals=4)\n",
    "df_consignments_pretty.iloc[:,17:29] = df_consignments_pretty.iloc[:,17:29].astype(int)\n",
    "df_consignments_pretty.iloc[:,29:31] = df_consignments_pretty.iloc[:,29:31].round(decimals=4)\n",
    "df_consignments_pretty.iloc[:,[31]] = df_consignments_pretty.iloc[:,[31]].astype(int)\n",
    "df_consignments_pretty.iloc[:,[32]] = df_consignments_pretty.iloc[:,[32]].round(decimals=4)\n",
    "df_consignments_pretty = df_consignments_pretty.iloc[:,[0,1,4,5,7,8,9,10,11,12,14,16,17,18,21,22,27,28,30,31,32]]\n",
    "df_consignments_pretty.columns = column_names\n",
    "df_consignments_pretty"
   ]
  },
  {
   "cell_type": "code",
   "execution_count": null,
   "metadata": {},
   "outputs": [],
   "source": [
    "# Save results to csv\n",
    "df_consignments_pretty.to_csv(resultsdir / \"consignment_scenario_results.csv\")"
   ]
  },
  {
   "cell_type": "code",
   "execution_count": null,
   "metadata": {},
   "outputs": [],
   "source": [
    "# If loading results from saved csv, uncomment and run this chunk.\n",
    "#df_consignments_pretty = pd.read_csv(resultsdir / \"consignment_scenario_results.csv\")"
   ]
  },
  {
   "cell_type": "code",
   "execution_count": null,
   "metadata": {},
   "outputs": [],
   "source": [
    "df_contamination_rate_scenarios = df_consignments_pretty.loc[0:5,:]\n",
    "df_contaminant_arrangement_scenarios = df_consignments_pretty.loc[9:,:]"
   ]
  },
  {
   "cell_type": "code",
   "execution_count": null,
   "metadata": {},
   "outputs": [],
   "source": [
    "colors = {\"item\": \"#b2df8a\", \"box\": \"#1f78b4\"}\n",
    "patch_1 = mpatches.Patch(color=\"#b2df8a\", label=\"item\")\n",
    "patch_2 = mpatches.Patch(color=\"#1f78b4\", label=\"box\")\n",
    "\n",
    "plt.figure(figsize=(16, 4), dpi=300)\n",
    "plt.subplot(121)\n",
    "plt.subplots_adjust(bottom=0.25,top=0.77, left=0.08, right=0.97)\n",
    "plt.barh(df_contamination_rate_scenarios[\"name\"], df_contamination_rate_scenarios[\"interception rate\"], color=df_contamination_rate_scenarios['contamination unit'].replace(colors))\n",
    "plt.title(\"Interception Rate\", fontsize=24)\n",
    "plt.xlabel(\"rate\", fontsize=18)\n",
    "plt.ylabel(\"rate variability\", fontsize=18, labelpad=10)\n",
    "plt.yticks(ticks=np.arange(6),labels=df_contamination_rate_scenarios[\"consignment name\"], fontsize=20)\n",
    "plt.xticks(fontsize=18)\n",
    "plt.subplot(122)\n",
    "plt.barh(df_contamination_rate_scenarios[\"name\"], df_contamination_rate_scenarios[\"avg missed contamination rate\"], color=df_contamination_rate_scenarios['contamination unit'].replace(colors))\n",
    "plt.title(\"Avg. Missed Contamination Rate\", fontsize=24)\n",
    "plt.xlabel(\"rate\", fontsize=18)\n",
    "plt.yticks(ticks=np.arange(6),labels=df_contamination_rate_scenarios[\"consignment name\"],fontsize=20)\n",
    "plt.xticks(ticks=[0,0.002,0.004,0.006], fontsize=18)\n",
    "plt.suptitle(\"Contamination Rate Variability Scenarios\", fontsize=28)\n",
    "plt.legend(handles=[patch_2,patch_1], loc = \"lower right\", fontsize=20, borderpad=0.2, labelspacing=0.2)\n",
    "\n",
    "plt.savefig(resultsdir / \"rate_variability_scenario_plots.png\")\n",
    "plt.show()"
   ]
  },
  {
   "cell_type": "code",
   "execution_count": null,
   "metadata": {},
   "outputs": [],
   "source": [
    "colors = {\"item\": \"#b2df8a\", \"box\": \"#1f78b4\"}\n",
    "patch_1 = mpatches.Patch(color=\"#b2df8a\", label=\"item\")\n",
    "patch_2 = mpatches.Patch(color=\"#1f78b4\", label=\"box\")\n",
    "\n",
    "plt.figure(figsize=(16, 3.2), dpi=300)\n",
    "plt.subplot(121)\n",
    "plt.subplots_adjust(bottom=0.25,top=0.72, left=0.18, right=0.97, wspace=0.4)\n",
    "plt.barh(df_contaminant_arrangement_scenarios[\"name\"], df_contaminant_arrangement_scenarios[\"interception rate\"], color=df_contaminant_arrangement_scenarios['contamination unit'].replace(colors))\n",
    "plt.title(\"Interception Rate\", fontsize=24)\n",
    "plt.xlabel(\"rate\", fontsize=18)\n",
    "plt.ylabel(\"contaminant \\narrangement\", fontsize=18, labelpad=10)\n",
    "plt.yticks(ticks=np.arange(4),labels=df_contaminant_arrangement_scenarios[\"consignment name\"], fontsize=20)\n",
    "plt.xticks(fontsize=18)\n",
    "plt.subplot(122)\n",
    "plt.barh(df_contaminant_arrangement_scenarios[\"name\"], df_contaminant_arrangement_scenarios[\"avg missed contamination rate\"], color=df_contaminant_arrangement_scenarios['contamination unit'].replace(colors))\n",
    "plt.title(\"Avg. Missed Contamination Rate\", fontsize=24)\n",
    "plt.xlabel(\"rate\", fontsize=18)\n",
    "plt.yticks(ticks=np.arange(4),labels=df_contaminant_arrangement_scenarios[\"consignment name\"],fontsize=20)\n",
    "plt.xticks(ticks=[0,0.002,0.004,0.006], fontsize=18)\n",
    "plt.suptitle(\"Contaminant Arrangement Scenarios\", fontsize=28)\n",
    "plt.legend(handles=[patch_2,patch_1], loc=\"right\", fontsize=20, borderpad=0.2, labelspacing=0.2)\n",
    "\n",
    "plt.savefig(resultsdir / \"contaminant_arrangement_scenarios_plots.png\")\n",
    "plt.show()"
   ]
  },
  {
   "cell_type": "code",
   "execution_count": null,
   "metadata": {},
   "outputs": [],
   "source": []
  }
 ],
 "metadata": {
  "kernelspec": {
   "display_name": "Python 3",
   "language": "python",
   "name": "python3"
  },
  "language_info": {
   "codemirror_mode": {
    "name": "ipython",
    "version": 3
   },
   "file_extension": ".py",
   "mimetype": "text/x-python",
   "name": "python",
   "nbconvert_exporter": "python",
   "pygments_lexer": "ipython3",
   "version": "3.7.9"
  }
 },
 "nbformat": 4,
 "nbformat_minor": 4
}
