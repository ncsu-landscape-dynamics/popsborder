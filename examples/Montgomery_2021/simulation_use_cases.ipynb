{
 "cells": [
  {
   "cell_type": "code",
   "execution_count": null,
   "metadata": {},
   "outputs": [],
   "source": [
    "sys.path.append(os.path.join(os.getcwd(),\"../..\"))\n",
    "\n",
    "from popsborder.scenarios import run_scenarios\n",
    "from popsborder.inputs import load_configuration, load_scenario_table\n",
    "from popsborder.outputs import save_scenario_result_to_pandas"
   ]
  },
  {
   "cell_type": "code",
   "execution_count": null,
   "metadata": {},
   "outputs": [],
   "source": [
    "import pandas as pd\n",
    "import re\n",
    "import seaborn as sns\n",
    "import matplotlib.pyplot as plt\n",
    "import matplotlib.patches as mpatches\n",
    "from matplotlib.lines import Line2D\n",
    "import numpy as np\n",
    "\n",
    "%matplotlib inline"
   ]
  },
  {
   "cell_type": "code",
   "execution_count": null,
   "metadata": {},
   "outputs": [],
   "source": [
    "from pathlib import Path\n",
    "datadir = Path(\"data\")\n",
    "# Set a directory for the use case results here\n",
    "resultsdir = Path(\"use_cases\")\n",
    "# Make sure the directory exists\n",
    "resultsdir.mkdir(exist_ok=True)"
   ]
  },
  {
   "cell_type": "code",
   "execution_count": null,
   "metadata": {},
   "outputs": [],
   "source": [
    "# Set colors for plots\n",
    "dark_blue = \"#1f78b4ff\"\n",
    "light_blue = \"#6db8dfff\"\n",
    "green = \"#72c12cff\""
   ]
  },
  {
   "cell_type": "markdown",
   "metadata": {},
   "source": [
    "## Load scenario tables for use cases\n",
    "Note that these use cases recreate consignments from historical AQIM inspection data (aqim_box_insp_unit.csv). To run this notebook, the inspection data csv must be saved locally or a different method for generating the consignments should be used. You can edit the scenario tables to use the parameter consignment generator or use a csv of other AQIM or F280 inspection records."
   ]
  },
  {
   "cell_type": "code",
   "execution_count": null,
   "metadata": {},
   "outputs": [],
   "source": [
    "basic_config = load_configuration(datadir / \"config.yml\")\n",
    "rate_scenario_table = load_scenario_table(datadir / \"contamination_rate_estimation.csv\")\n",
    "inspection_scenario_table = load_scenario_table(datadir / \"inspection_scenarios.csv\")\n",
    "consignment_scenario_table = load_scenario_table(datadir / \"consignment_scenarios.csv\")"
   ]
  },
  {
   "cell_type": "markdown",
   "metadata": {},
   "source": [
    "## Use Case 1: Estimate contamination rates from high quality inspection data\n",
    "\n",
    "When inspection data obtained with known statistically valid inspection methods are available, the simulation can be used to estimate the consignment contamination rates by recreating the inspections and calibrating the contamination configuration until similar inspection outcomes are achieved.\n",
    "\n",
    "In the example below, data from AQIM inspections of cut flower consignments are used to estimate possible contamination rate probability distributions. Note that the contamination rate distribution parameters were estimated by running the simulation, checking the failure rate, and adjusting the distribution parameters until the failure rate matched the AQIM data."
   ]
  },
  {
   "cell_type": "code",
   "execution_count": null,
   "metadata": {
    "tags": []
   },
   "outputs": [],
   "source": [
    "num_consignments = 3313\n",
    "fitted_contamination_rate_results = run_scenarios(\n",
    "    config=basic_config,\n",
    "    scenario_table=rate_scenario_table,\n",
    "    seed=42,\n",
    "    num_simulations=100,\n",
    "    num_consignments=num_consignments,\n",
    "    detailed=False,\n",
    ")"
   ]
  },
  {
   "cell_type": "code",
   "execution_count": null,
   "metadata": {},
   "outputs": [],
   "source": [
    "df_fitted = save_scenario_result_to_pandas(\n",
    "    fitted_contamination_rate_results,\n",
    "    config_columns=[\n",
    "        \"name\",\n",
    "        \"consignment name\",\n",
    "        \"inspection name\",\n",
    "        \"contamination/contamination_rate/parameters\",\n",
    "        \"contamination/arrangement\",\n",
    "        \"contamination/clustered/distribution\",\n",
    "        \"contamination/clustered/contaminated_units_per_cluster\",\n",
    "    ],\n",
    "    result_columns=[\n",
    "        \"true_contamination_rate\",\n",
    "        \"false_neg\",\n",
    "        \"intercepted\",\n",
    "        \"total_missed_contaminants\",\n",
    "        \"total_intercepted_contaminants\",\n",
    "    ],\n",
    ")"
   ]
  },
  {
   "cell_type": "code",
   "execution_count": null,
   "metadata": {},
   "outputs": [],
   "source": [
    "df_fitted['failure rate'] = df_fitted[\"intercepted\"] / num_consignments"
   ]
  },
  {
   "cell_type": "code",
   "execution_count": null,
   "metadata": {},
   "outputs": [],
   "source": [
    "# Format dataframe\n",
    "column_names = ([\"scenario name\", \"consignment name\", \"inspection name\", \"beta parameters\", \"contaminant arrangement\", \n",
    "    \"cluster distribution\", \"infested units per cluster\", \"mean contamination rate\", \"missed\", \"intercepted\", \n",
    "    \"missed contaminants\", \"intercepted contaminants\", \"failure rate\"])\n",
    "df_contamination_pretty = df_fitted.copy()\n",
    "\n",
    "df_contamination_pretty.columns = column_names\n",
    "df_contamination_pretty.iloc[:,6] = df_contamination_pretty.iloc[:,6].round(decimals=4)\n",
    "df_contamination_pretty.iloc[:,7] = df_contamination_pretty.iloc[:,7].round(decimals=4)\n",
    "df_contamination_pretty"
   ]
  },
  {
   "cell_type": "code",
   "execution_count": null,
   "metadata": {},
   "outputs": [],
   "source": [
    "# Save results to csv\n",
    "df_contamination_pretty.to_csv(resultsdir / \"contamination_rate_results.csv\")"
   ]
  },
  {
   "cell_type": "code",
   "execution_count": null,
   "metadata": {},
   "outputs": [],
   "source": [
    "# If loading results from saved csv, uncomment and run this chunk.\n",
    "#df_contamination_pretty = pd.read_csv(resultsdir / \"contamination_rate_results.csv\")"
   ]
  },
  {
   "cell_type": "code",
   "execution_count": null,
   "metadata": {},
   "outputs": [],
   "source": [
    "df_contamination_pretty"
   ]
  },
  {
   "cell_type": "markdown",
   "metadata": {},
   "source": [
    "## Use Case 2: Measure the effect of deviations from sampling protocols\n",
    "\n",
    "We used the calibrated contamination rate distribution with mean 0.0027 and standard deviation 0.0282 with a clustered contaminant arrangement to run sampling scenarios with fixed consignment assumptions. The outcomes of these scenarios provide information about the relative impacts of changes to inspection protocols. "
   ]
  },
  {
   "cell_type": "code",
   "execution_count": null,
   "metadata": {
    "tags": []
   },
   "outputs": [],
   "source": [
    "# Hiding very long output for this cell (many printed messages related to clusters)\n",
    "#%%capture capt\n",
    "num_consignments = 3313\n",
    "inspection_scenario_results = run_scenarios(\n",
    "    config=basic_config,\n",
    "    scenario_table=inspection_scenario_table,\n",
    "    seed=42,\n",
    "    num_simulations=100,\n",
    "    num_consignments=num_consignments,\n",
    "    detailed=False,\n",
    ")\n",
    "# uncomment to print output if desired\n",
    "#capt.show()"
   ]
  },
  {
   "cell_type": "code",
   "execution_count": null,
   "metadata": {},
   "outputs": [],
   "source": [
    "df_inspections = save_scenario_result_to_pandas(\n",
    "    inspection_scenario_results,\n",
    "    config_columns=[\n",
    "        \"name\",\n",
    "        \"inspection/unit\",\n",
    "        \"inspection/sample_strategy\",\n",
    "        \"inspection/proportion/value\",\n",
    "        \"inspection/hypergeometric/detection_level\",\n",
    "        \"inspection/selection_strategy\",\n",
    "        \"inspection/cluster/cluster_selection\",\n",
    "\n",
    "    ],\n",
    "    result_columns=[\n",
    "        \"true_contamination_rate\",\n",
    "        \"max_missed_contamination_rate\",\n",
    "        \"avg_missed_contamination_rate\",\n",
    "        \"max_intercepted_contamination_rate\",\n",
    "        \"avg_intercepted_contamination_rate\",\n",
    "        \"avg_boxes_opened_completion\",\n",
    "        \"pct_boxes_opened_completion\",\n",
    "        \"avg_boxes_opened_detection\",\n",
    "        \"pct_boxes_opened_detection\",\n",
    "        \"avg_items_inspected_completion\",\n",
    "        \"pct_items_inspected_completion\",\n",
    "        \"avg_items_inspected_detection\",\n",
    "        \"pct_items_inspected_detection\",\n",
    "        \"false_neg\",\n",
    "        \"intercepted\",\n",
    "        \"total_missed_contaminants\",\n",
    "        \"total_intercepted_contaminants\",\n",
    "        \"num_boxes\",\n",
    "        \"num_items\",\n",
    "    ],\n",
    ")"
   ]
  },
  {
   "cell_type": "code",
   "execution_count": null,
   "metadata": {},
   "outputs": [],
   "source": [
    "df_inspections['failure rate'] = df_inspections[\"intercepted\"] / num_consignments\n",
    "contaminated_consignments = df_inspections[\"false_neg\"] + df_inspections[\"intercepted\"]\n",
    "df_inspections[\"interception rate\"] = df_inspections[\"intercepted\"] / contaminated_consignments\n",
    "df_inspections[\"% missed contaminants\"] = ((df_inspections[\"total_missed_contaminants\"] / (df_inspections[\"total_missed_contaminants\"] +\n",
    "     df_inspections[\"total_intercepted_contaminants\"])) * 100)"
   ]
  },
  {
   "cell_type": "code",
   "execution_count": null,
   "metadata": {},
   "outputs": [],
   "source": [
    "column_names = ([\"name\", \"inspection unit\", \"sample strategy\", \"sample parameter\", \"selection strategy\", \"cluster selection\", \n",
    "    \"avg contamination rate\", \"max missed contamination rate\", \"avg missed contamination rate\", \"max intercepted contamination rate\", \n",
    "    \"avg intercepted contamination rate\", \"avg boxes opened per inspection completion\", \"pct boxes opened per simulation completion\", \n",
    "    \"avg boxes opened per inspection detection\", \"pct boxes opened per simulation detection\", \"avg items inspected per inspection completion\", \n",
    "    \"pct items inspected per simulation completion\", \"avg items inspected per inspection detection\", \"pct items inspected per simulation detection\", \n",
    "    \"missed\", \"intercepted\", \"missed contaminants\", \"intercepted contaminants\", \"total boxes\", \"total items\", \"failure rate\", \n",
    "    \"interception rate\", \"% missed contaminants\", \"sample size method\", \"selection method\"])"
   ]
  },
  {
   "cell_type": "code",
   "execution_count": null,
   "metadata": {},
   "outputs": [],
   "source": [
    "df_inspections_pretty = df_inspections.loc[:, df_inspections.columns != 'inspection/hypergeometric/detection_level'].copy()\n",
    "hypergeometric_parameters = df_inspections.iloc[[0,1,2,3,4,5,6,7,12,13,14,15],4]\n",
    "df_inspections_pretty.iloc[[0,1,2,3,4,5,6,7,12,13,14,15],3] = hypergeometric_parameters\n",
    "df_inspections_pretty.iloc[:,3] = df_inspections_pretty.iloc[:,3].astype(str)"
   ]
  },
  {
   "cell_type": "code",
   "execution_count": null,
   "metadata": {},
   "outputs": [],
   "source": [
    "df_inspections_pretty[\"sample size method\"] = df_inspections_pretty[['inspection/sample_strategy', 'inspection/proportion/value']].agg(' '.join, axis=1)"
   ]
  },
  {
   "cell_type": "code",
   "execution_count": null,
   "metadata": {},
   "outputs": [],
   "source": [
    "df_inspections_pretty.iloc[:,5].fillna(\"\", inplace=True)"
   ]
  },
  {
   "cell_type": "code",
   "execution_count": null,
   "metadata": {},
   "outputs": [],
   "source": [
    "df_inspections_pretty[\"selection method\"] = (df_inspections_pretty[[\"inspection/unit\", 'inspection/selection_strategy', \n",
    "    'inspection/cluster/cluster_selection']].agg(' '.join, axis=1))"
   ]
  },
  {
   "cell_type": "code",
   "execution_count": null,
   "metadata": {},
   "outputs": [],
   "source": [
    "df_inspections_pretty.columns = column_names"
   ]
  },
  {
   "cell_type": "code",
   "execution_count": null,
   "metadata": {},
   "outputs": [],
   "source": [
    "df_inspections_pretty.iloc[:,6:11] = df_inspections_pretty.iloc[:,6:11].round(decimals=4)\n",
    "df_inspections_pretty.iloc[:,[11,13,15,17]] = df_inspections_pretty.iloc[:,[11,13,15,17]].astype(int)\n",
    "df_inspections_pretty.iloc[:,[12,14,16,18]] = df_inspections_pretty.iloc[:,[12,14,16,18]].round(decimals=2)\n",
    "df_inspections_pretty.iloc[:,19:25] = df_inspections_pretty.iloc[:,19:25].astype(int)\n",
    "df_inspections_pretty.iloc[:,25:27] = df_inspections_pretty.iloc[:,25:27].round(decimals=4)\n",
    "df_inspections_pretty.iloc[:,27] = df_inspections_pretty.iloc[:,27].round(decimals=2)\n",
    "df_inspections_pretty"
   ]
  },
  {
   "cell_type": "code",
   "execution_count": null,
   "metadata": {},
   "outputs": [],
   "source": [
    "# Save results to csv\n",
    "df_inspections_pretty.to_csv(resultsdir / \"inspection_scenario_results.csv\")"
   ]
  },
  {
   "cell_type": "code",
   "execution_count": null,
   "metadata": {},
   "outputs": [],
   "source": [
    "# If loading results from saved csv, uncomment and run this chunk.\n",
    "#df_inspections_pretty = pd.read_csv(resultsdir / \"inspection_scenario_results.csv\")"
   ]
  },
  {
   "cell_type": "code",
   "execution_count": null,
   "metadata": {},
   "outputs": [],
   "source": [
    "colors = {\"hypergeometric 0.1\": dark_blue, \"hypergeometric 0.05\": light_blue, \"proportion 0.02\":green}\n",
    "patch_1 = mpatches.Patch(color=light_blue, label=\"hypergeometric 0.05\")\n",
    "patch_2 = mpatches.Patch(color=dark_blue, label=\"hypergeometric 0.1\")\n",
    "patch_3 = mpatches.Patch(color=green, label=\"proportion 0.02\")"
   ]
  },
  {
   "cell_type": "code",
   "execution_count": null,
   "metadata": {},
   "outputs": [],
   "source": [
    "inspected_per_interception = ((df_inspections_pretty['pct items inspected per simulation completion'] * 0.01 * df_inspections_pretty[\"total items\"]) /\n",
    "    (df_inspections_pretty[\"intercepted\"]))\n",
    "opened_per_interception = ((df_inspections_pretty['pct boxes opened per simulation completion'] * 0.01 * df_inspections_pretty[\"total boxes\"]) /\n",
    "    df_inspections_pretty[\"intercepted\"])"
   ]
  },
  {
   "cell_type": "code",
   "execution_count": null,
   "metadata": {},
   "outputs": [],
   "source": [
    "plt.figure(figsize=(15,7))\n",
    "plt.subplot(121)\n",
    "plt.subplots_adjust(wspace=0.05,left=0.24,right=0.97, bottom=0.16, top=0.92)\n",
    "plt.barh(df_inspections_pretty[\"name\"], inspected_per_interception, color=df_inspections_pretty['sample size method'].replace(colors))\n",
    "plt.title(\"Items Inspected per Interception\", fontsize=22)\n",
    "plt.ylabel(\"inspection method\", fontsize=20)\n",
    "plt.xlabel(\"items inspected / \\n intercepted consignment\", fontsize=20)\n",
    "plt.yticks(ticks=np.arange(18),labels=df_inspections_pretty[\"selection method\"].str.strip(), fontsize=20)\n",
    "plt.xticks(fontsize=18)\n",
    "plt.legend(handles=[patch_1,patch_2,patch_3], loc = \"lower right\", fontsize=18)\n",
    "plt.subplot(122)\n",
    "plt.barh(df_inspections_pretty[\"name\"], opened_per_interception, color=df_inspections_pretty['sample size method'].replace(colors))\n",
    "plt.title(\"Boxes Opened per Interception\", fontsize=22)\n",
    "plt.xlabel(\"boxes opened / \\n intercepted consignment\", fontsize=20)\n",
    "plt.yticks(ticks=[])\n",
    "plt.xticks(fontsize=18)\n",
    "plt.savefig(resultsdir / \"inspection_scenario_plots.png\")\n",
    "\n",
    "plt.show()\n"
   ]
  },
  {
   "cell_type": "code",
   "execution_count": null,
   "metadata": {},
   "outputs": [],
   "source": [
    "def rand_jitter(arr):\n",
    "    stdev = .01 * (max(arr) - min(arr))\n",
    "    return arr + np.random.randn(len(arr)) * stdev\n",
    "\n",
    "def jitter(x, y, s=20, c='b', marker='o', cmap=None, norm=None, vmin=None, vmax=None, alpha=None, linewidths=None, verts=None, hold=None, **kwargs):\n",
    "    return plt.scatter(x, y, s=s, c=c, marker=marker, cmap=cmap, norm=norm, vmin=vmin, vmax=vmax, alpha=alpha, linewidths=linewidths, **kwargs)"
   ]
  },
  {
   "cell_type": "code",
   "execution_count": null,
   "metadata": {},
   "outputs": [],
   "source": [
    "boxes_opened_norm = ((df_inspections_pretty[\"boxes opened completion\"] - min(df_inspections_pretty[\"boxes opened completion\"])) \n",
    "    / (max(df_inspections_pretty[\"boxes opened completion\"]) - min(df_inspections_pretty[\"boxes opened completion\"])))\n",
    "items_inspected_norm = ((df_inspections_pretty[\"items inspected completion\"] - min(df_inspections_pretty[\"items inspected completion\"])) \n",
    "    / (max(df_inspections_pretty[\"items inspected completion\"]) - min(df_inspections_pretty[\"items inspected completion\"])))\n",
    "missed_cont_norm = ((df_inspections_pretty[\"missed contaminants\"] - min(df_inspections_pretty[\"missed contaminants\"])) \n",
    "    / (max(df_inspections_pretty[\"missed contaminants\"]) - min(df_inspections_pretty[\"missed contaminants\"])))\n",
    "intercepted_cont_norm = ((df_inspections_pretty[\"intercepted contaminants\"] - min(df_inspections_pretty[\"intercepted contaminants\"])) \n",
    "    / (max(df_inspections_pretty[\"intercepted contaminants\"]) - min(df_inspections_pretty[\"intercepted contaminants\"])))"
   ]
  },
  {
   "cell_type": "code",
   "execution_count": null,
   "metadata": {},
   "outputs": [],
   "source": [
    "box_marker = Line2D([0], [0], marker='s', color='w', label='box inspection unit', markerfacecolor='dimgray', markersize=9)\n",
    "item_marker = Line2D([0], [0], marker='^', color='w', label='item inspection unit', markerfacecolor='dimgray', markersize=11)\n",
    "random_selection = mpatches.Patch(fc=\"w\", fill=False, edgecolor='none', linewidth=0, label=\"random selection\")\n",
    "convenience_selection = mpatches.Patch(fc=\"w\", fill=False, edgecolor='none', linewidth=0, label=\"convenience selection\")\n",
    "clusterrandom_selection = mpatches.Patch(fc=\"w\", fill=False, edgecolor='none', linewidth=0, label=\"cluster random selection\")\n",
    "clusterinterval_selection = mpatches.Patch(fc=\"w\", fill=False, edgecolor='none', linewidth=0, label=\"cluster interval selection\")"
   ]
  },
  {
   "cell_type": "code",
   "execution_count": null,
   "metadata": {},
   "outputs": [],
   "source": [
    "selection_list = [x[1:] for x in df_inspections_pretty[\"selection method\"].str.split()]\n",
    "selection_df = pd.Series([\" \".join(x) for x in selection_list])\n",
    "selection_marker = {\"random\":\"R\", \"convenience\":\"C\", \"cluster random\":\"CR\", \"cluster interval\":\"CI\"}\n",
    "selection_df = selection_df.replace(selection_marker)"
   ]
  },
  {
   "cell_type": "code",
   "execution_count": null,
   "metadata": {},
   "outputs": [],
   "source": [
    "np.random.seed(5)\n",
    "\n",
    "names = list(df_inspections_pretty[\"name\"].values)\n",
    "selection = list(df_inspections_pretty[\"selection strategy\"].values)\n",
    "#x = 1 - missed_cont_norm\n",
    "#x = df_inspections_pretty[\"interception rate\"] * (1-missed_cont_norm)\n",
    "#x = intercepted_cont_norm\n",
    "#x = df_inspections_pretty[\"interception rate\"] * intercepted_cont_norm\n",
    "#y = (1 - boxes_opened_norm) * (1 - items_inspected_norm)\n",
    "#y = (1 - items_inspected_norm)\n",
    "\n",
    "#x = 1-df_inspections_pretty[\"interception rate\"]\n",
    "x = df_inspections_pretty[\"missed contaminants\"].divide(df_inspections_pretty[\"intercepted contaminants\"]+df_inspections_pretty[\"missed contaminants\"])\n",
    "y = df_inspections_pretty[\"pct items inspected per simulation completion\"] * 0.01\n",
    "#y = df_inspections_pretty['pct items inspected per simulation'] * 0.01 * df_inspections_pretty[\"total items\"]\n",
    "#y = df_inspections_pretty[\"boxes opened completion\"]\n",
    "\n",
    "x = rand_jitter(x)\n",
    "#y = rand_jitter(y)\n",
    "\n",
    "is_box = df_inspections_pretty['inspection unit'] == \"boxes\"\n",
    "is_item = df_inspections_pretty['inspection unit'] == \"items\"\n",
    "is_random = selection_df == \"R\"\n",
    "is_convenience = selection_df == \"C\"\n",
    "is_clusterrandom = selection_df == \"CR\"\n",
    "is_clusterinterval = selection_df == \"CI\"\n",
    "\n",
    "x_item = x[is_item]\n",
    "x_box = x[is_box]\n",
    "y_item = y[is_item]\n",
    "y_box = y[is_box]\n",
    "\n",
    "x_rand = x[is_random]\n",
    "x_conv = x[is_convenience]\n",
    "x_cr = x[is_clusterrandom]\n",
    "x_ci = x[is_clusterinterval]\n",
    "\n",
    "y_rand = y[is_random]\n",
    "y_conv = y[is_convenience]\n",
    "y_cr = y[is_clusterrandom]\n",
    "y_ci = y[is_clusterinterval]\n",
    "\n",
    "plt.figure(figsize=(4.5,2.5), dpi=250)\n",
    "plt.subplots_adjust(left=0.1, bottom=0.18, right=0.97, top=0.95)\n",
    "\n",
    "jitter(x_item, y_item, s=12**2, alpha=0.8, marker=\"^\", c=df_inspections_pretty['sample size method'][is_item].replace(colors))\n",
    "jitter(x_box, y_box, s=12**2, alpha=0.8, marker=\"s\", c=df_inspections_pretty['sample size method'][is_box].replace(colors))\n",
    "#jitter(x_rand, y_rand, s=15, marker=r\"$ {} $\".format(\"R\"), c=\"#4e4e4eff\")#, alpha=0.5)\n",
    "#jitter(x_conv, y_conv, s=15, marker=r\"$ {} $\".format(\"C\"), c=\"#4e4e4eff\")\n",
    "#jitter(x_cr, y_cr, s=20, marker=r\"$ {} $\".format(\"CR\"), c=\"#4e4e4eff\")\n",
    "#jitter(x_ci, y_ci, s=20, marker=r\"$ {} $\".format(\"CI\"), c=\"#4e4e4eff\")\n",
    "\n",
    "\n",
    "plt.xlabel(\"proportion of contaminants missed\", size=8)\n",
    "plt.ylabel(\"proportion of items inspected\", size=8)\n",
    "plt.tick_params(axis='both', which='major', labelsize=8)\n",
    "plt.ylim(-0.04, 0.66)\n",
    "#plt.xticks(ticks=[100000, 200000, 300000, 400000])\n",
    "plt.legend(handles=[box_marker,item_marker,random_selection,convenience_selection,clusterrandom_selection,clusterinterval_selection,patch_1,patch_2,patch_3], loc = \"upper right\", fontsize=7)\n",
    "plt.savefig(resultsdir / \"inspection_scenario_scatter.png\")"
   ]
  },
  {
   "cell_type": "code",
   "execution_count": null,
   "metadata": {},
   "outputs": [],
   "source": []
  },
  {
   "cell_type": "markdown",
   "metadata": {},
   "source": [
    "##  Use Case 3: Measure the effect of changes in consignment characteristics\n",
    "\n",
    "We used the simulation with fixed inspection assumptions to answer questions about how inspection outcomes change with changes in consignments. Using the AQIM inspection protocol (box unit, hypergeometric sample with 0.1 detection level and 0.95 confidence level, random selection), we simulated multiple scenarios to reflect the following consignment scenarios:\n",
    "\n",
    "* 10,000,000 items packaged using three cargo scenarios: Maritime scenario with large consignments (100 - 160 boxes) with 700 items per box, Air scenario with mid-sized consignments (20 - 100 boxes) with 200 items per box, and direct-to-consumer scenario with very small consignments (1 - 50 boxes) with 100 items per box.\n",
    "* Changes in contamination rate variability\n",
    "* Changes in contaminant arrangement (random vs clustered)"
   ]
  },
  {
   "cell_type": "markdown",
   "metadata": {},
   "source": [
    "### First, run the packaging scenarios. Each requires a different number of consignments per simulation to contain 10,000,000 items."
   ]
  },
  {
   "cell_type": "code",
   "execution_count": null,
   "metadata": {},
   "outputs": [],
   "source": [
    "num_consignments = 833\n",
    "air_scenario_results = run_scenarios(\n",
    "    config=basic_config,\n",
    "    scenario_table=consignment_scenario_table[0:1],\n",
    "    seed=42,\n",
    "    num_simulations=100,\n",
    "    num_consignments=num_consignments,\n",
    "    detailed=False,\n",
    ")"
   ]
  },
  {
   "cell_type": "code",
   "execution_count": null,
   "metadata": {},
   "outputs": [],
   "source": [
    "num_consignments = 110\n",
    "maritime_scenario_results = run_scenarios(\n",
    "    config=basic_config,\n",
    "    scenario_table=consignment_scenario_table[1:2],\n",
    "    seed=42,\n",
    "    num_simulations=100,\n",
    "    num_consignments=num_consignments,\n",
    "    detailed=False,\n",
    ")"
   ]
  },
  {
   "cell_type": "code",
   "execution_count": null,
   "metadata": {},
   "outputs": [],
   "source": [
    "num_consignments = 4000\n",
    "dtc_scenario_results = run_scenarios(\n",
    "    config=basic_config,\n",
    "    scenario_table=consignment_scenario_table[2:3],\n",
    "    seed=42,\n",
    "    num_simulations=100,\n",
    "    num_consignments=num_consignments,\n",
    "    detailed=False,\n",
    ")"
   ]
  },
  {
   "cell_type": "code",
   "execution_count": null,
   "metadata": {},
   "outputs": [],
   "source": [
    "df_cargo_10M = save_scenario_result_to_pandas(\n",
    "    air_scenario_results+maritime_scenario_results+dtc_scenario_results,\n",
    "    config_columns=[\n",
    "        \"name\",\n",
    "        \"consignment name\",\n",
    "        \"consignment/parameter_based/boxes/min\",\n",
    "        \"consignment/parameter_based/boxes/max\",\n",
    "        \"consignment/items_per_box/default\",\n",
    "        \"contamination/contamination_unit\",\n",
    "        \"contamination/contamination_rate/distribution\",\n",
    "        \"contamination/contamination_rate/parameters\",\n",
    "        \"contamination/arrangement\",\n",
    "        \"contamination/clustered/distribution\",\n",
    "        \"contamination/clustered/contaminated_units_per_cluster\",\n",
    "        \"contamination/clustered/random/cluster_item_width\",\n",
    "    ],\n",
    "    result_columns=[\n",
    "        \"true_contamination_rate\",\n",
    "        \"max_missed_contamination_rate\",\n",
    "        \"avg_missed_contamination_rate\",\n",
    "        \"max_intercepted_contamination_rate\",\n",
    "        \"avg_intercepted_contamination_rate\",\n",
    "        \"avg_boxes_opened_completion\",\n",
    "        \"pct_boxes_opened_completion\",\n",
    "        \"avg_boxes_opened_detection\",\n",
    "        \"pct_boxes_opened_detection\",\n",
    "        \"avg_items_inspected_completion\",\n",
    "        \"pct_items_inspected_completion\",\n",
    "        \"avg_items_inspected_detection\",\n",
    "        \"pct_items_inspected_detection\",\n",
    "        \"false_neg\",\n",
    "        \"intercepted\",\n",
    "        \"total_missed_contaminants\",\n",
    "        \"total_intercepted_contaminants\",\n",
    "        \"num_boxes\",\n",
    "        \"num_items\",\n",
    "    ],\n",
    ")"
   ]
  },
  {
   "cell_type": "code",
   "execution_count": null,
   "metadata": {},
   "outputs": [],
   "source": [
    "df_cargo_10M['failure rate'] = df_cargo_10M[\"intercepted\"] / num_consignments\n",
    "contaminated_consignments = df_cargo_10M[\"false_neg\"] + df_cargo_10M[\"intercepted\"]\n",
    "df_cargo_10M[\"interception rate\"] = df_cargo_10M[\"intercepted\"] / contaminated_consignments\n",
    "df_cargo_10M[\"contaminated_consignments\"] = contaminated_consignments\n",
    "df_cargo_10M[\"% missed contaminants\"] = ((df_cargo_10M[\"total_missed_contaminants\"] / \n",
    "    (df_cargo_10M[\"total_missed_contaminants\"] + df_cargo_10M[\"total_intercepted_contaminants\"])) * 100)"
   ]
  },
  {
   "cell_type": "code",
   "execution_count": null,
   "metadata": {},
   "outputs": [],
   "source": [
    "# Format dataframe \n",
    "column_names = ([\"name\", \"consignment name\", \"items per box\", \"contamination unit\", \"contamination parameters\", \n",
    "    \"contaminant arrangement\", \"cluster distribution\", \"contaminated units per cluster\", \"cluster width\", \"avg contamination rate\", \n",
    "    \"avg missed contamination rate\", \"avg intercepted contamination rate\", \"avg boxes opened per inspection\", \n",
    "    \"pct boxes opened per simulation\", \"avg items inspected per inspection\", \"pct items inspected per simulation\", \"missed contaminants\", \n",
    "    \"intercepted contamininants\", \"total boxes\", \"total items\", \"interception rate\", \"contaminated_consignments\", \"% missed contaminants\"])\n",
    "df_cargo_10M_pretty = df_cargo_10M"
   ]
  },
  {
   "cell_type": "code",
   "execution_count": null,
   "metadata": {},
   "outputs": [],
   "source": [
    "df_cargo_10M_pretty.iloc[:,12:35] = df_cargo_10M_pretty.iloc[:,12:35].round(decimals=3)\n",
    "df_cargo_10M_pretty = df_cargo_10M_pretty.iloc[:,[0,1,4,5,7,8,9,10,11,12,14,16,17,18,21,22,27,28,29,30,32,33,34]]\n",
    "df_cargo_10M_pretty.columns = column_names\n",
    "df_cargo_10M_pretty"
   ]
  },
  {
   "cell_type": "code",
   "execution_count": null,
   "metadata": {},
   "outputs": [],
   "source": [
    "# Save results to csv\n",
    "#df_cargo_10M_pretty.to_csv(resultsdir / \"cargoconfig_scenario_10M_results.csv\")"
   ]
  },
  {
   "cell_type": "code",
   "execution_count": null,
   "metadata": {},
   "outputs": [],
   "source": [
    "# If loading results from saved csv, uncomment and run this cell.\n",
    "df_cargo_10M_pretty = pd.read_csv(resultsdir / \"cargoconfig_scenario_10M_results.csv\")"
   ]
  },
  {
   "cell_type": "code",
   "execution_count": null,
   "metadata": {},
   "outputs": [],
   "source": [
    "df_cargo_10M_pretty.columns"
   ]
  },
  {
   "cell_type": "code",
   "execution_count": null,
   "metadata": {},
   "outputs": [],
   "source": [
    "plt.figure(figsize=(16, 5), dpi=300)\n",
    "plt.subplot(221)\n",
    "plt.subplots_adjust(bottom=0.14,top=0.81, left=0.2, right=0.97, wspace=0.65, hspace=1)\n",
    "plt.barh(df_cargo_10M_pretty[\"name\"], df_cargo_10M_pretty[\"interception rate\"], color=green)\n",
    "plt.title(\"Interception Rate\", fontsize=24)\n",
    "plt.xlabel(\"rate\", fontsize=20)\n",
    "plt.ylabel(\"cargo type\", fontsize=18, labelpad=10)\n",
    "plt.yticks(ticks=np.arange(3),labels=df_cargo_10M_pretty[\"consignment name\"], fontsize=20)\n",
    "plt.xticks(ticks=[0.0,0.2,0.4,0.6,0.8],fontsize=18)\n",
    "plt.subplot(222)\n",
    "plt.barh(df_cargo_10M_pretty[\"name\"], df_cargo_10M_pretty[\"avg missed contamination rate\"], color=green)\n",
    "plt.title(\"Avg. Missed Contamination Rate\", fontsize=24)\n",
    "plt.xlabel(\"rate\", fontsize=20)\n",
    "plt.yticks(ticks=np.arange(3),labels=df_cargo_10M_pretty[\"consignment name\"],fontsize=20)\n",
    "plt.xticks(ticks=[0,0.001,0.002,0.003,0.004], fontsize=18)\n",
    "\n",
    "plt.subplot(223)\n",
    "plt.barh(df_cargo_10M_pretty[\"name\"], df_cargo_10M_pretty[\"avg items inspected per inspection\"], color=green)\n",
    "plt.title(\"Items Inspected per Consignment\", fontsize=24)\n",
    "plt.xlabel(\"items\", fontsize=20)\n",
    "plt.ylabel(\"cargo type\", fontsize=18, labelpad=10)\n",
    "plt.yticks(ticks=np.arange(3),labels=df_cargo_10M_pretty[\"consignment name\"], fontsize=20)\n",
    "plt.xticks(ticks=[0,4000,8000,12000,16000], fontsize=18)\n",
    "plt.subplot(224)\n",
    "plt.barh(df_cargo_10M_pretty[\"name\"], df_cargo_10M_pretty[\"pct items inspected per simulation\"], color=green)\n",
    "plt.title(\"% Items Inspected per Scenario\", fontsize=24)\n",
    "plt.xlabel(\"% items\", fontsize=20)\n",
    "plt.yticks(ticks=np.arange(3),labels=df_cargo_10M_pretty[\"consignment name\"], fontsize=20)\n",
    "plt.xticks(fontsize=18)\n",
    "\n",
    "plt.suptitle(\"Cargo Packaging Scenarios\", fontsize=28)\n",
    "plt.savefig(resultsdir / \"cargo_config_scenario_10M_plots.png\")\n",
    "plt.show()"
   ]
  },
  {
   "cell_type": "code",
   "execution_count": null,
   "metadata": {},
   "outputs": [],
   "source": [
    "boxes_opened_norm = ((df_cargo_10M_pretty[\"total boxes\"] - min(df_cargo_10M_pretty[\"total boxes\"])) \n",
    "    / (max(df_cargo_10M_pretty[\"total boxes\"]) - min(df_cargo_10M_pretty[\"total boxes\"])))\n",
    "items_inspected_norm = ((df_cargo_10M_pretty[\"total items\"] - min(df_cargo_10M_pretty[\"total items\"])) \n",
    "    / (max(df_cargo_10M_pretty[\"total items\"]) - min(df_cargo_10M_pretty[\"total items\"])))\n",
    "missed_cont_norm = ((df_cargo_10M_pretty[\"missed contaminants\"] - min(df_cargo_10M_pretty[\"missed contaminants\"])) \n",
    "    / (max(df_cargo_10M_pretty[\"missed contaminants\"]) - min(df_cargo_10M_pretty[\"missed contaminants\"])))\n",
    "intercepted_cont_norm = ((df_cargo_10M_pretty[\"intercepted contamininants\"] - min(df_cargo_10M_pretty[\"intercepted contamininants\"])) \n",
    "    / (max(df_cargo_10M_pretty[\"intercepted contamininants\"]) - min(df_cargo_10M_pretty[\"intercepted contamininants\"])))"
   ]
  },
  {
   "cell_type": "code",
   "execution_count": null,
   "metadata": {},
   "outputs": [],
   "source": [
    "colors = {\"Direct-to-consumer\": green, \"Air\": light_blue, \"Maritime\":dark_blue}\n",
    "patch_1 = mpatches.Patch(color=green, label=\"Direct-to-consumer\")\n",
    "patch_2 = mpatches.Patch(color=light_blue, label=\"Air\")\n",
    "patch_3 = mpatches.Patch(color=dark_blue, label=\"Maritime\")"
   ]
  },
  {
   "cell_type": "code",
   "execution_count": null,
   "metadata": {},
   "outputs": [],
   "source": [
    "np.random.seed(9)\n",
    "\n",
    "#x = 1 - missed_cont_norm\n",
    "#x = df_inspections_pretty[\"interception rate\"] * (1-missed_cont_norm)\n",
    "#x = intercepted_cont_norm\n",
    "#x = df_cargo_10M_pretty[\"interception rate\"] * intercepted_cont_norm\n",
    "#y = (1 - boxes_opened_norm) * (1 - items_inspected_norm)\n",
    "\n",
    "x_missed_cont = df_cargo_10M_pretty['intercepted contamininants'].divide(df_cargo_10M_pretty[\"intercepted contamininants\"]+df_cargo_10M_pretty[\"missed contaminants\"])\n",
    "x_int_rate = df_cargo_10M_pretty['interception rate']\n",
    "y = df_cargo_10M_pretty['pct items inspected per simulation'] * 0.01\n",
    "\n",
    "plt.figure(figsize=(7,2), dpi=250)\n",
    "\n",
    "plt.subplot(121)\n",
    "plt.scatter(x_int_rate, y, s=7**2, alpha=1, marker=\"o\", c=df_cargo_10M_pretty['consignment name'].replace(colors))\n",
    "plt.xlabel(\"interception rate\", size=9)\n",
    "plt.ylabel(\"proportion of\\nitems inspected\", size=9)\n",
    "#plt.ylabel(\"proportion of items inspected\", size=7)\n",
    "plt.tick_params(axis='both', which='major', labelsize=9)\n",
    "#plt.legend(handles=[patch_1,patch_2,patch_3], loc = \"lower right\", fontsize=8)\n",
    "\n",
    "plt.subplot(122)\n",
    "plt.scatter(x_missed_cont, y, s=7**2, alpha=1, marker=\"o\", c=df_cargo_10M_pretty['consignment name'].replace(colors))\n",
    "#jitter(x_box, y_box, s=14**2, alpha=0.65, marker=\"s\", c=df_inspections_pretty['sample size method'][is_box].replace(colors))\n",
    "#jitter(x_rand, y_rand, s=15, marker=r\"$ {} $\".format(\"R\"), c=\"#4e4e4eff\")#, alpha=0.5)\n",
    "#jitter(x_conv, y_conv, s=15, marker=r\"$ {} $\".format(\"C\"), c=\"#4e4e4eff\")\n",
    "#jitter(x_cr, y_cr, s=20, marker=r\"$ {} $\".format(\"CR\"), c=\"#4e4e4eff\")\n",
    "#jitter(x_ci, y_ci, s=20, marker=r\"$ {} $\".format(\"CI\"), c=\"#4e4e4eff\")\n",
    "\n",
    "plt.xlabel(\"proportion of contaminants intercepted\", size=9)\n",
    "plt.tick_params(axis='both', which='major', labelsize=9)\n",
    "plt.xticks(ticks=[0.98,0.985,0.99, 0.995])\n",
    "plt.legend(handles=[patch_1,patch_2,patch_3], loc = \"upper right\", fontsize=8)\n",
    "\n",
    "plt.savefig(resultsdir / \"cargo_config_scenario_10M_scatter.png\", bbox_inches='tight')"
   ]
  },
  {
   "cell_type": "markdown",
   "metadata": {},
   "source": [
    "### Run contaminant arrangement scenarios"
   ]
  },
  {
   "cell_type": "code",
   "execution_count": null,
   "metadata": {},
   "outputs": [],
   "source": [
    "num_consignments = 3313\n",
    "arrangement_scenario_results = run_scenarios(\n",
    "    config=basic_config,\n",
    "    scenario_table=consignment_scenario_table[9:],\n",
    "    seed=42,\n",
    "    num_simulations=100,\n",
    "    num_consignments=num_consignments,\n",
    "    detailed=False,\n",
    ")"
   ]
  },
  {
   "cell_type": "code",
   "execution_count": null,
   "metadata": {},
   "outputs": [],
   "source": [
    "df_arrangement = save_scenario_result_to_pandas(\n",
    "    arrangement_scenario_results,\n",
    "    config_columns=[\n",
    "        \"name\",\n",
    "        \"consignment name\",\n",
    "        \"consignment/parameter_based/boxes/min\",\n",
    "        \"consignment/parameter_based/boxes/max\",\n",
    "        \"consignment/items_per_box/default\",\n",
    "        \"contamination/contamination_unit\",\n",
    "        \"contamination/contamination_rate/distribution\",\n",
    "        \"contamination/contamination_rate/parameters\",\n",
    "        \"contamination/arrangement\",\n",
    "        \"contamination/clustered/distribution\",\n",
    "        \"contamination/clustered/contaminated_units_per_cluster\",\n",
    "        \"contamination/clustered/random/cluster_item_width\",\n",
    "    ],\n",
    "    result_columns=[\n",
    "        \"true_contamination_rate\",\n",
    "        \"max_missed_contamination_rate\",\n",
    "        \"avg_missed_contamination_rate\",\n",
    "        \"max_intercepted_contamination_rate\",\n",
    "        \"avg_intercepted_contamination_rate\",\n",
    "        \"avg_boxes_opened_completion\",\n",
    "        \"pct_boxes_opened_completion\",\n",
    "        \"avg_boxes_opened_detection\",\n",
    "        \"pct_boxes_opened_detection\",\n",
    "        \"avg_items_inspected_completion\",\n",
    "        \"pct_items_inspected_completion\",\n",
    "        \"avg_items_inspected_detection\",\n",
    "        \"pct_items_inspected_detection\",\n",
    "        \"false_neg\",\n",
    "        \"intercepted\",\n",
    "        \"total_missed_contaminants\",\n",
    "        \"total_intercepted_contaminants\",\n",
    "    ],\n",
    ")"
   ]
  },
  {
   "cell_type": "code",
   "execution_count": null,
   "metadata": {},
   "outputs": [],
   "source": [
    "df_arrangement['failure rate'] = df_arrangement[\"intercepted\"] / num_consignments\n",
    "contaminated_consignments = df_arrangement[\"false_neg\"] + df_arrangement[\"intercepted\"]\n",
    "df_arrangement[\"interception rate\"] = df_arrangement[\"intercepted\"] / contaminated_consignments\n",
    "df_arrangement[\"contaminated_consignments\"] = contaminated_consignments\n",
    "df_arrangement[\"% missed contaminants\"] = ((df_arrangement[\"total_missed_contaminants\"] / \n",
    "    (df_arrangement[\"total_missed_contaminants\"] + df_arrangement[\"total_intercepted_contaminants\"])) * 100)"
   ]
  },
  {
   "cell_type": "code",
   "execution_count": null,
   "metadata": {},
   "outputs": [],
   "source": [
    "# Format dataframe \n",
    "column_names = ([\"name\", \"consignment name\", \"items per box\", \"contamination unit\", \"contamination parameters\", \n",
    "    \"contaminant arrangement\", \"cluster distribution\", \"contaminated units per cluster\", \"cluster width\", \"avg contamination rate\", \n",
    "    \"avg missed contamination rate\", \"avg intercepted contamination rate\", \"avg boxes opened per inspection\", \n",
    "    \"pct box opened per simulation\", \"avg items inspected per inspection\", \"pct items inspected per simulation\", \n",
    "    \"missed contaminants\", \"intercepted contaminants\", \"interception rate\", \"contaminated_consignments\", \"% missed contaminants\"])\n",
    "df_arrangement_pretty = df_arrangement"
   ]
  },
  {
   "cell_type": "code",
   "execution_count": null,
   "metadata": {},
   "outputs": [],
   "source": [
    "df_arrangement_pretty.iloc[:,12:17] = df_arrangement_pretty.iloc[:,12:17].round(decimals=4)\n",
    "df_arrangement_pretty.iloc[:,17:29] = df_arrangement_pretty.iloc[:,17:29].astype(int)\n",
    "df_arrangement_pretty.iloc[:,29:31] = df_arrangement_pretty.iloc[:,29:31].round(decimals=4)\n",
    "df_arrangement_pretty.iloc[:,[31]] = df_arrangement_pretty.iloc[:,[31]].astype(int)\n",
    "df_arrangement_pretty.iloc[:,[32]] = df_arrangement_pretty.iloc[:,[32]].round(decimals=4)\n",
    "df_arrangement_pretty = df_arrangement_pretty.iloc[:,[0,1,4,5,7,8,9,10,11,12,14,16,17,18,21,22,27,28,30,31,32]]\n",
    "df_arrangement_pretty.columns = column_names"
   ]
  },
  {
   "cell_type": "code",
   "execution_count": null,
   "metadata": {},
   "outputs": [],
   "source": [
    "# Save results to csv\n",
    "df_arrangement_pretty.to_csv(resultsdir / \"arrangement_scenario_results.csv\")"
   ]
  },
  {
   "cell_type": "code",
   "execution_count": null,
   "metadata": {},
   "outputs": [],
   "source": [
    "# If loading results from saved csv, uncomment and run this chunk.\n",
    "df_arrangement_pretty = pd.read_csv(resultsdir / \"arrangement_scenario_results.csv\")"
   ]
  },
  {
   "cell_type": "code",
   "execution_count": null,
   "metadata": {},
   "outputs": [],
   "source": [
    "# colors = {\"item\": green, \"box\": dark_blue}\n",
    "# patch_1 = mpatches.Patch(color=green, label=\"item\")\n",
    "# patch_2 = mpatches.Patch(color=dark_blue, label=\"box\")\n",
    "\n",
    "# plt.figure(figsize=(16, 3.2), dpi=300)\n",
    "# plt.subplot(121)\n",
    "# plt.subplots_adjust(bottom=0.25,top=0.72, left=0.18, right=0.97, wspace=0.4)\n",
    "# plt.barh(df_arrangement_pretty[\"name\"], df_arrangement_pretty[\"interception rate\"], color=df_arrangement_pretty['contamination unit'].replace(colors))\n",
    "# plt.title(\"Interception Rate\", fontsize=24)\n",
    "# plt.xlabel(\"rate\", fontsize=18)\n",
    "# plt.ylabel(\"contaminant \\narrangement\", fontsize=18, labelpad=10)\n",
    "# plt.yticks(ticks=np.arange(4),labels=df_arrangement_pretty[\"consignment name\"], fontsize=20)\n",
    "# plt.xticks(fontsize=18)\n",
    "# plt.subplot(122)\n",
    "# plt.barh(df_arrangement_pretty[\"name\"], df_arrangement_pretty[\"avg missed contamination rate\"], color=df_arrangement_pretty['contamination unit'].replace(colors))\n",
    "# plt.title(\"Avg. Missed Contamination Rate\", fontsize=24)\n",
    "# plt.xlabel(\"rate\", fontsize=18)\n",
    "# plt.yticks(ticks=np.arange(4),labels=df_arrangement_pretty[\"consignment name\"],fontsize=20)\n",
    "# plt.xticks(ticks=[0,0.002,0.004,0.006], fontsize=18)\n",
    "# plt.suptitle(\"Contaminant Arrangement Scenarios\", fontsize=28)\n",
    "# plt.legend(handles=[patch_2,patch_1], loc=\"right\", fontsize=20, borderpad=0.2, labelspacing=0.2)\n",
    "\n",
    "# plt.savefig(resultsdir / \"contaminant_arrangement_scenarios_plots.png\")\n",
    "# plt.show()"
   ]
  },
  {
   "cell_type": "code",
   "execution_count": null,
   "metadata": {},
   "outputs": [],
   "source": [
    "item_cluster_cont = df_arrangement_pretty[(df_arrangement_pretty[\"cluster distribution\"]==\"continuous\") & (df_arrangement_pretty[\"contamination unit\"]==\"item\")]\n",
    "rand_arrangement_item = df_arrangement_pretty[(df_arrangement_pretty[\"contaminant arrangement\"]==\"random\") & (df_arrangement_pretty[\"contamination unit\"]==\"item\")]\n",
    "rand_arrangement_box = df_arrangement_pretty[(df_arrangement_pretty[\"contaminant arrangement\"]==\"random\") & (df_arrangement_pretty[\"contamination unit\"]==\"box\")]"
   ]
  },
  {
   "cell_type": "code",
   "execution_count": null,
   "metadata": {},
   "outputs": [],
   "source": [
    "x = (rand_arrangement_item[\"missed contaminants\"]).append(item_cluster_cont[\"missed contaminants\"]).reset_index(drop=True)\n",
    "x = x.divide(rand_arrangement_item[\"intercepted contaminants\"].append(item_cluster_cont[\"intercepted contaminants\"]).reset_index(drop=True) + x)\n",
    "y = pd.Series(0).append(item_cluster_cont[\"contaminated units per cluster\"])\n",
    "\n",
    "x_interception_rate = (rand_arrangement_item[\"interception rate\"]).append(item_cluster_cont[\"interception rate\"]).reset_index(drop=True)\n",
    "x_missed_rate = (rand_arrangement_item[\"avg missed contamination rate\"]).append(item_cluster_cont[\"avg missed contamination rate\"]).reset_index(drop=True)\n",
    "\n",
    "plt.figure(figsize=(7,2), dpi=250)\n",
    "plt.subplot(121)\n",
    "plt.scatter(x, y, s=4**2, alpha=1, marker=\"o\")\n",
    "plt.ylabel(\"cluster size\", size=9)\n",
    "plt.xlabel(\"proportion of contaminants missed\", size=9)\n",
    "plt.tick_params(axis='both', which='major', labelsize=7)\n",
    "plt.ticklabel_format(axis=\"both\", style=\"plain\")\n",
    "\n",
    "plt.subplot(122)\n",
    "plt.scatter(x_interception_rate, y, s=4**2, alpha=1, marker=\"o\")\n",
    "plt.xlabel(\"interception rate\", size=9)\n",
    "plt.tick_params(axis='both', which='major', labelsize=9)\n",
    "plt.ticklabel_format(axis=\"both\", style=\"plain\")\n",
    "\n",
    "plt.savefig(resultsdir / \"cluster_scenario_scatter.png\", bbox_inches='tight')"
   ]
  },
  {
   "cell_type": "markdown",
   "metadata": {},
   "source": [
    "### Run rate variability scenarios"
   ]
  },
  {
   "cell_type": "code",
   "execution_count": null,
   "metadata": {},
   "outputs": [],
   "source": [
    "num_consignments = 3313\n",
    "variability_scenario_results = run_scenarios(\n",
    "    config=basic_config,\n",
    "    scenario_table=consignment_scenario_table[3:9],\n",
    "    seed=42,\n",
    "    num_simulations=100,\n",
    "    num_consignments=num_consignments,\n",
    "    detailed=False,\n",
    ")"
   ]
  },
  {
   "cell_type": "code",
   "execution_count": null,
   "metadata": {},
   "outputs": [],
   "source": [
    "df_variability = save_scenario_result_to_pandas(\n",
    "    variability_scenario_results,\n",
    "    config_columns=[\n",
    "        \"name\",\n",
    "        \"consignment name\",\n",
    "        \"consignment/parameter_based/boxes/min\",\n",
    "        \"consignment/parameter_based/boxes/max\",\n",
    "        \"consignment/items_per_box/default\",\n",
    "        \"contamination/contamination_unit\",\n",
    "        \"contamination/contamination_rate/distribution\",\n",
    "        \"contamination/contamination_rate/parameters\",\n",
    "        \"contamination/arrangement\",\n",
    "        \"contamination/clustered/distribution\",\n",
    "        \"contamination/clustered/contaminated_units_per_cluster\",\n",
    "        \"contamination/clustered/random/cluster_item_width\",\n",
    "    ],\n",
    "    result_columns=[\n",
    "        \"true_contamination_rate\",\n",
    "        \"max_missed_contamination_rate\",\n",
    "        \"avg_missed_contamination_rate\",\n",
    "        \"max_intercepted_contamination_rate\",\n",
    "        \"avg_intercepted_contamination_rate\",\n",
    "        \"avg_boxes_opened_completion\",\n",
    "        \"pct_boxes_opened_completion\",\n",
    "        \"avg_boxes_opened_detection\",\n",
    "        \"pct_boxes_opened_detection\",\n",
    "        \"avg_items_inspected_completion\",\n",
    "        \"pct_items_inspected_completion\",\n",
    "        \"avg_items_inspected_detection\",\n",
    "        \"pct_items_inspected_detection\",\n",
    "        \"false_neg\",\n",
    "        \"intercepted\",\n",
    "        \"total_missed_contaminants\",\n",
    "        \"total_intercepted_contaminants\",\n",
    "    ],\n",
    ")"
   ]
  },
  {
   "cell_type": "code",
   "execution_count": null,
   "metadata": {},
   "outputs": [],
   "source": [
    "df_variability['failure rate'] = df_variability[\"intercepted\"] / num_consignments\n",
    "contaminated_consignments = df_variability[\"false_neg\"] + df_variability[\"intercepted\"]\n",
    "df_variability[\"interception rate\"] = df_variability[\"intercepted\"] / contaminated_consignments\n",
    "df_variability[\"contaminated_consignments\"] = contaminated_consignments\n",
    "df_variability[\"% missed contaminants\"] = ((df_variability[\"total_missed_contaminants\"] / \n",
    "    (df_variability[\"total_missed_contaminants\"] + df_variability[\"total_intercepted_contaminants\"])) * 100)"
   ]
  },
  {
   "cell_type": "code",
   "execution_count": null,
   "metadata": {},
   "outputs": [],
   "source": [
    "# Format dataframe \n",
    "column_names = ([\"name\", \"consignment name\", \"items per box\", \"contamination unit\", \"contamination parameters\", \n",
    "    \"contaminant arrangement\", \"cluster distribution\", \"contaminated units per cluster\", \"cluster width\", \"avg contamination rate\", \n",
    "    \"avg missed contamination rate\", \"avg intercepted contamination rate\", \"avg boxes opened per inspection\", \n",
    "    \"pct box opened per simulation\", \"avg items inspected per inspection\", \"pct items inspected per simulation\", \n",
    "    \"missed contaminants\", \"intercepted contaminants\", \"interception rate\", \"contaminated_consignments\", \"% missed contaminants\"])\n",
    "df_variability_pretty = df_variability"
   ]
  },
  {
   "cell_type": "code",
   "execution_count": null,
   "metadata": {},
   "outputs": [],
   "source": [
    "df_variability_pretty.iloc[:,12:17] = df_variability_pretty.iloc[:,12:17].round(decimals=4)\n",
    "df_variability_pretty.iloc[:,17:29] = df_variability_pretty.iloc[:,17:29].astype(int)\n",
    "df_variability_pretty.iloc[:,29:31] = df_variability_pretty.iloc[:,29:31].round(decimals=4)\n",
    "df_variability_pretty.iloc[:,[31]] = df_variability_pretty.iloc[:,[31]].astype(int)\n",
    "df_variability_pretty.iloc[:,[32]] = df_variability_pretty.iloc[:,[32]].round(decimals=4)\n",
    "df_variability_pretty = df_variability_pretty.iloc[:,[0,1,4,5,7,8,9,10,11,12,14,16,17,18,21,22,27,28,30,31,32]]\n",
    "df_variability_pretty.columns = column_names"
   ]
  },
  {
   "cell_type": "code",
   "execution_count": null,
   "metadata": {},
   "outputs": [],
   "source": [
    "# Save results to csv\n",
    "df_variability_pretty.to_csv(resultsdir / \"ratevariability_scenario_results.csv\")"
   ]
  },
  {
   "cell_type": "code",
   "execution_count": null,
   "metadata": {},
   "outputs": [],
   "source": [
    "# If loading results from saved csv, uncomment and run this chunk.\n",
    "df_variability_pretty = pd.read_csv(resultsdir / \"ratevariability_scenario_results.csv\")"
   ]
  },
  {
   "cell_type": "code",
   "execution_count": null,
   "metadata": {},
   "outputs": [],
   "source": [
    "variability_box_unit = df_variability_pretty[df_variability_pretty[\"contamination unit\"] == \"box\"]\n",
    "variability_item_unit = df_variability_pretty[df_variability_pretty[\"contamination unit\"] == \"item\"]"
   ]
  },
  {
   "cell_type": "code",
   "execution_count": null,
   "metadata": {},
   "outputs": [],
   "source": [
    "rate_variability_dict = {\"Low\":0.01, \"Mid\":0.03, \"High\":0.05}\n",
    "box_marker = Line2D([0], [0], marker='s', color=\"w\", label='box contamination unit', markerfacecolor=dark_blue, markersize=8)\n",
    "item_marker = Line2D([0], [0], marker='^', color=\"w\", label='item contamination unit', markerfacecolor=green, markersize=9)"
   ]
  },
  {
   "cell_type": "code",
   "execution_count": null,
   "metadata": {},
   "outputs": [],
   "source": [
    "y_box = variability_box_unit[\"consignment name\"].replace(rate_variability_dict)\n",
    "y_item = variability_item_unit[\"consignment name\"].replace(rate_variability_dict)\n",
    "\n",
    "x_missed_cont_box = variability_box_unit[\"missed contaminants\"] / variability_box_unit[\"intercepted contaminants\"]\n",
    "x_interception_rate_box = variability_box_unit[\"interception rate\"]\n",
    "\n",
    "x_missed_cont_item = variability_item_unit[\"missed contaminants\"] / variability_item_unit[\"intercepted contaminants\"]\n",
    "x_interception_rate_item = variability_item_unit[\"interception rate\"]\n",
    "\n",
    "plt.figure(figsize=(7,2), dpi=250)\n",
    "plt.subplot(121)\n",
    "plt.scatter(x_missed_cont_box, y_box, s=7**2, alpha=0.8, marker=\"s\", c=dark_blue)\n",
    "plt.scatter(x_missed_cont_item, y_item, s=7**2, alpha=0.8, marker=\"^\", c=green)\n",
    "plt.ylabel(\"contamination rate\\nstandard deviation\", size=9)\n",
    "plt.xlabel(\"proportion of contaminants missed\", size=9)\n",
    "plt.tick_params(axis='both', which='major', labelsize=9)\n",
    "plt.ticklabel_format(axis=\"both\", style=\"plain\")\n",
    "#plt.legend(handles=[patch_1,patch_2,patch_3], loc = \"upper left\", fontsize=7)\n",
    "plt.legend(handles=[box_marker,item_marker], loc = \"upper right\", fontsize=8)\n",
    "\n",
    "plt.subplot(122)\n",
    "plt.scatter(x_interception_rate_box, y_box, s=7**2, alpha=0.8, marker=\"s\", c=dark_blue)\n",
    "plt.scatter(x_interception_rate_item, y_item, s=7**2, alpha=0.8, marker=\"^\", c=green)\n",
    "plt.xlabel(\"interception rate\", size=9)\n",
    "plt.tick_params(axis='both', which='major', labelsize=9)\n",
    "plt.ticklabel_format(axis=\"both\", style=\"plain\")\n",
    "\n",
    "plt.savefig(resultsdir / \"ratevariability_scenario_scatter.png\", bbox_inches='tight')"
   ]
  },
  {
   "cell_type": "code",
   "execution_count": null,
   "metadata": {},
   "outputs": [],
   "source": [
    "colors = {\"item\": green, \"box\": dark_blue}\n",
    "patch_1 = mpatches.Patch(color=green, label=\"item contamination\")\n",
    "patch_2 = mpatches.Patch(color=\"#1f78b4\", label=\"box contamination\")\n",
    "\n",
    "prop_missed_cont = df_variability_pretty[\"missed contaminants\"] / df_variability_pretty[\"intercepted contaminants\"]\n",
    "\n",
    "plt.figure(figsize=(16, 4), dpi=300)\n",
    "plt.subplot(121)\n",
    "plt.subplots_adjust(bottom=0.25,top=0.77, left=0.08, right=0.97)\n",
    "plt.barh(df_variability_pretty[\"name\"].replace(rate_variability_dict), df_variability_pretty[\"interception rate\"], color=df_variability_pretty['contamination unit'].replace(colors))\n",
    "plt.title(\"Interception Rate\", fontsize=24)\n",
    "plt.xlabel(\"rate\", fontsize=18)\n",
    "plt.ylabel(\"contamination rate\\nvariability\", fontsize=18, labelpad=10)\n",
    "plt.yticks(ticks=np.arange(6),labels=df_variability_pretty[\"consignment name\"], fontsize=20)\n",
    "plt.xticks(fontsize=18)\n",
    "plt.subplot(122)\n",
    "plt.barh(df_variability_pretty[\"name\"].replace(rate_variability_dict), prop_missed_cont, color=df_variability_pretty['contamination unit'].replace(colors))\n",
    "plt.title(\"Proportion of Contaminants Missed\", fontsize=24)\n",
    "plt.xlabel(\"proportion\", fontsize=18)\n",
    "plt.yticks(ticks=np.arange(6),labels=df_variability_pretty[\"consignment name\"],fontsize=20)\n",
    "plt.xticks(fontsize=18)\n",
    "#plt.suptitle(\"Contamination Rate Variability Scenarios\", fontsize=28)\n",
    "plt.legend(handles=[patch_2,patch_1], loc = \"lower right\", fontsize=20, borderpad=0.2, labelspacing=0.2)\n",
    "\n",
    "plt.savefig(resultsdir / \"rate_variability_scenario_plots.png\")\n",
    "plt.show()"
   ]
  },
  {
   "cell_type": "code",
   "execution_count": null,
   "metadata": {},
   "outputs": [],
   "source": []
  }
 ],
 "metadata": {
  "kernelspec": {
   "display_name": "Python 3",
   "language": "python",
   "name": "python3"
  },
  "language_info": {
   "codemirror_mode": {
    "name": "ipython",
    "version": 3
   },
   "file_extension": ".py",
   "mimetype": "text/x-python",
   "name": "python",
   "nbconvert_exporter": "python",
   "pygments_lexer": "ipython3",
   "version": "3.8.12"
  }
 },
 "nbformat": 4,
 "nbformat_minor": 4
}
