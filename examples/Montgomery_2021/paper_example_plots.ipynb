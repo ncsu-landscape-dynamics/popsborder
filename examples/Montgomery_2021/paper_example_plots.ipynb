{
 "cells": [
  {
   "cell_type": "markdown",
   "metadata": {},
   "source": [
    "# Plots for manuscript\n",
    "## This notebook produces graphical representations of how the contamination and sampling works in PoPS Border"
   ]
  },
  {
   "cell_type": "code",
   "execution_count": null,
   "metadata": {},
   "outputs": [],
   "source": [
    "from popsborder.scenarios import run_scenarios\n",
    "from popsborder.inputs import load_configuration, load_scenario_table\n",
    "from popsborder.outputs import save_scenario_result_to_pandas"
   ]
  },
  {
   "cell_type": "code",
   "execution_count": null,
   "metadata": {},
   "outputs": [],
   "source": [
    "import pandas as pd\n",
    "import numpy as np\n",
    "import re\n",
    "import seaborn as sns\n",
    "import matplotlib.pyplot as plt\n",
    "\n",
    "%matplotlib inline"
   ]
  },
  {
   "cell_type": "code",
   "execution_count": null,
   "metadata": {},
   "outputs": [],
   "source": [
    "from pathlib import Path\n",
    "datadir = Path(\"data\")\n",
    "basic_config = load_configuration(datadir / \"config.yml\")\n",
    "# Modify a directory for the plots here\n",
    "plotsdir = Path(\"plots\")\n",
    "# Make sure the directory exists\n",
    "plotsdir.mkdir(exist_ok=True)\n",
    "\n",
    "# Load csv with configurations for each example scenario\n",
    "contaminate_scenarios = load_scenario_table(datadir / \"contaminate_examples.csv\")\n",
    "sample_scenarios = load_scenario_table(datadir / \"sampling_examples.csv\")"
   ]
  },
  {
   "cell_type": "markdown",
   "metadata": {},
   "source": [
    "## Contamination examples\n",
    "Run simulation with 3 consignments using 15 different contamination approaches to show the range of contamination options available.\\\n",
    "Examples use three different fixed contamination rates and combinations of contamination unit (box or item) and contaminant arrangement (random, clustered continuous, or clustered random)."
   ]
  },
  {
   "cell_type": "code",
   "execution_count": null,
   "metadata": {},
   "outputs": [],
   "source": [
    "# Run contamination examples\n",
    "num_consignments_1 = 3\n",
    "contaminate_examples = run_scenarios(\n",
    "    config=basic_config,\n",
    "    scenario_table=contaminate_scenarios,\n",
    "    seed=42,\n",
    "    num_simulations=1,\n",
    "    num_consignments=num_consignments_1,\n",
    "    detailed=True,\n",
    ")"
   ]
  },
  {
   "cell_type": "code",
   "execution_count": null,
   "metadata": {},
   "outputs": [],
   "source": [
    "# Separate item and inspection details from simulation totals and scenario config.\n",
    "contaminate_examples_details = [i[0] for i in contaminate_examples]\n",
    "contaminate_examples_results = [i[1:3] for i in contaminate_examples]"
   ]
  },
  {
   "cell_type": "code",
   "execution_count": null,
   "metadata": {},
   "outputs": [],
   "source": [
    "# Save dataframe from simulation totals and scenario config test 1.\n",
    "contaminate_examples_df = save_scenario_result_to_pandas(\n",
    "    contaminate_examples_results,\n",
    "    config_columns=[\n",
    "        \"consignment name\",\n",
    "        \"consignment/parameter_based/boxes/min\",\n",
    "        \"consignment/parameter_based/boxes/max\",\n",
    "        \"consignment/items_per_box/default\",\n",
    "        \"contamination/contamination_unit\",\n",
    "        \"contamination/contamination_rate/distribution\",\n",
    "        \"contamination/contamination_rate/value\",\n",
    "        \"contamination/contamination_rate/parameters\",\n",
    "        \"contamination/arrangement\",\n",
    "        \"contamination/clustered/distribution\",\n",
    "        \"contamination/clustered/contaminated_units_per_cluster\",\n",
    "        \"contamination/clustered/random/cluster_item_width\",\n",
    "    ],\n",
    "    result_columns=[\n",
    "        \"true_contamination_rate\",\n",
    "    ],\n",
    ")"
   ]
  },
  {
   "cell_type": "code",
   "execution_count": null,
   "metadata": {},
   "outputs": [],
   "source": [
    "contaminate_examples_items_unstacked = [i[0] for i in contaminate_examples_details]"
   ]
  },
  {
   "cell_type": "code",
   "execution_count": null,
   "metadata": {},
   "outputs": [],
   "source": [
    "# Plot items for each item contamination unit scenarios\n",
    "scenarios = contaminate_examples_df[\"consignment name\"]\n",
    "\n",
    "fig = plt.figure(figsize=(14.5, 13), constrained_layout=False)\n",
    "outer_grid = fig.add_gridspec(3, 3)\n",
    "\n",
    "scenario_index = 0\n",
    "for a in range(3):\n",
    "    for b in range(3):\n",
    "        # gridspec inside gridspec\n",
    "        inner_grid = outer_grid[a, b].subgridspec(3, 1, hspace=0.8)\n",
    "        axs = inner_grid.subplots()  # Create all subplots for the inner grid.\n",
    "        contaminate_examples_items = np.stack(contaminate_examples_items_unstacked[scenario_index])\n",
    "        items_by_consignment = np.vsplit(contaminate_examples_items, num_consignments_1)\n",
    "        for i in range(len(items_by_consignment)):\n",
    "            axs[i].matshow(items_by_consignment[i], cmap='Blues')\n",
    "            axs[i].set_yticklabels([])\n",
    "            axs[i].tick_params(labeltop=False, top=False, bottom=False)\n",
    "            axs[i].set_ylabel('boxes', fontsize=13)\n",
    "            axs[i].set_xlabel('items', fontsize=13)\n",
    "            axs[i].set_title(\"Shipment \" + str(i + 1), fontsize=13)\n",
    "        scenario_index += 1\n",
    "\n",
    "\n",
    "from pylab import *\n",
    "axs[i].plot([0.365, 0.365], [0.1, 0.905], color='#7A7A7A', lw=2,\n",
    "         transform=gcf().transFigure, clip_on=False)\n",
    "axs[i].plot([0.64, 0.64], [0.1, 0.905], color='#7A7A7A', lw=2,\n",
    "         transform=gcf().transFigure, clip_on=False)\n",
    "axs[i].plot([0.09, 0.915], [.37, .37], color='#7A7A7A', lw=2,\n",
    "         transform=gcf().transFigure, clip_on=False)\n",
    "axs[i].plot([0.09, 0.915], [.635, .635], color='#7A7A7A', lw=2,\n",
    "         transform=gcf().transFigure, clip_on=False)\n",
    "axs[i].plot([0.09, 0.915], [0.905, 0.905], color='#7A7A7A', lw=2,\n",
    "         transform=gcf().transFigure, clip_on=False)\n",
    "axs[i].plot([0.09, 0.915], [0.1, 0.1], color='#7A7A7A', lw=2,\n",
    "         transform=gcf().transFigure, clip_on=False)\n",
    "axs[i].plot([0.915, 0.915], [0.1, 0.905], color='#7A7A7A', lw=2,\n",
    "         transform=gcf().transFigure, clip_on=False)\n",
    "axs[i].plot([0.09, 0.09], [0.1, 0.905], color='#7A7A7A', lw=2,\n",
    "         transform=gcf().transFigure, clip_on=False)\n",
    "\n",
    "plt.show()\n",
    "\n",
    "fig.savefig(plotsdir / \"contam_examples_items.jpg\", dpi=800)"
   ]
  },
  {
   "cell_type": "code",
   "execution_count": null,
   "metadata": {},
   "outputs": [],
   "source": [
    "# Plot items for each box contamination unit scenarios\n",
    "scenarios = contaminate_examples_df[\"consignment name\"]\n",
    "\n",
    "fig = plt.figure(figsize=(14.5, 8.2), constrained_layout=False)\n",
    "outer_grid = fig.add_gridspec(2, 3)\n",
    "\n",
    "# Starting with the first box contamination unit scenario\n",
    "scenario_index = 9\n",
    "for a in range(2):\n",
    "    for b in range(3):\n",
    "        # gridspec inside gridspec\n",
    "        inner_grid = outer_grid[a, b].subgridspec(3, 1, hspace=0.8)\n",
    "        axs = inner_grid.subplots()  # Create all subplots for the inner grid.\n",
    "        contaminate_examples_items = np.stack(contaminate_examples_items_unstacked[scenario_index])\n",
    "        items_by_consignment = np.vsplit(contaminate_examples_items, num_consignments_1)\n",
    "        for i in range(len(items_by_consignment)):\n",
    "            axs[i].matshow(items_by_consignment[i], cmap='Blues')\n",
    "            axs[i].set_yticklabels([])\n",
    "            axs[i].tick_params(labeltop=False, top=False, bottom=False)\n",
    "            #if i == 1:\n",
    "            axs[i].set_ylabel('boxes', fontsize=13)\n",
    "            #if i == 2:\n",
    "            axs[i].set_xlabel('items', fontsize=13)\n",
    "            #if i == 0:\n",
    "            axs[i].set_title(\"Shipment \" + str(i + 1), fontsize=13)\n",
    "        scenario_index += 1\n",
    "\n",
    "\n",
    "from pylab import *\n",
    "axs[i].plot([0.365, 0.365], [0.09, 0.92], color='#7A7A7A', lw=2,\n",
    "         transform=gcf().transFigure, clip_on=False)\n",
    "axs[i].plot([0.64, 0.64], [0.09, 0.92], color='#7A7A7A', lw=2,\n",
    "         transform=gcf().transFigure, clip_on=False)\n",
    "axs[i].plot([0.09, 0.915], [.502, .502], color='#7A7A7A', lw=2,\n",
    "         transform=gcf().transFigure, clip_on=False)\n",
    "axs[i].plot([0.09, 0.915], [0.92, 0.92], color='#7A7A7A', lw=2,\n",
    "         transform=gcf().transFigure, clip_on=False)\n",
    "axs[i].plot([0.09, 0.915], [0.09, 0.09], color='#7A7A7A', lw=2,\n",
    "         transform=gcf().transFigure, clip_on=False)\n",
    "axs[i].plot([0.915, 0.915], [0.09, 0.92], color='#7A7A7A', lw=2,\n",
    "         transform=gcf().transFigure, clip_on=False)\n",
    "axs[i].plot([0.09, 0.09], [0.09, 0.92], color='#7A7A7A', lw=2,\n",
    "         transform=gcf().transFigure, clip_on=False)\n",
    "\n",
    "plt.show()\n",
    "\n",
    "fig.savefig(plotsdir / \"contam_examples_boxes.jpg\", dpi=800)"
   ]
  },
  {
   "cell_type": "markdown",
   "metadata": {},
   "source": [
    "## Sampling examples\n",
    "Run simulation with 3 consignments using 12 different sampling approaches to show the range of inspection options available.\\\n",
    "Examples use two different fixed sampling rates and combinations of inspection unit (box or item) and sample selection method (convenience, random, interval cluster, or random cluster)."
   ]
  },
  {
   "cell_type": "code",
   "execution_count": null,
   "metadata": {},
   "outputs": [],
   "source": [
    "# Run sampling examples\n",
    "num_consignments = 3\n",
    "sample_examples = run_scenarios(\n",
    "    config=basic_config,\n",
    "    scenario_table=sample_scenarios,\n",
    "    seed=42,\n",
    "    num_simulations=1,\n",
    "    num_consignments=num_consignments,\n",
    "    detailed=True,\n",
    ")"
   ]
  },
  {
   "cell_type": "code",
   "execution_count": null,
   "metadata": {},
   "outputs": [],
   "source": [
    "# Separate item and inspection details from simulation totals and scenario config.\n",
    "sample_examples_details = [i[0] for i in sample_examples]\n",
    "sample_examples_results = [i[1:3] for i in sample_examples]"
   ]
  },
  {
   "cell_type": "code",
   "execution_count": null,
   "metadata": {},
   "outputs": [],
   "source": [
    "# Save simulation totals and scenario config to dataframe.\n",
    "sample_examples_df = save_scenario_result_to_pandas(\n",
    "    sample_examples_results,\n",
    "    config_columns=[\n",
    "        \"inspection name\",\n",
    "        \"consignment/parameter_based/boxes/min\",\n",
    "        \"consignment/parameter_based/boxes/max\",\n",
    "        \"consignment/items_per_box/default\",\n",
    "        \"inspection/unit\",\n",
    "        \"inspection/sample_strategy\",\n",
    "        \"inspection/proportion/value\",\n",
    "        \"inspection/hypergeometric/detection_level\",\n",
    "        \"inspection/selection_strategy\",\n",
    "    ],\n",
    "    result_columns=[\n",
    "        \"avg_boxes_opened_completion\",\n",
    "        \"avg_items_inspected_completion\",\n",
    "    ],\n",
    ")"
   ]
  },
  {
   "cell_type": "code",
   "execution_count": null,
   "metadata": {},
   "outputs": [],
   "source": [
    "item_example_indexes = [0,6,1,7,2,8,3,9]\n",
    "box_example_indexes = [4,10,5,11]"
   ]
  },
  {
   "cell_type": "code",
   "execution_count": null,
   "metadata": {},
   "outputs": [],
   "source": [
    "sample_examples_inspected_indexes = [i[1] for i in sample_examples_details]"
   ]
  },
  {
   "cell_type": "code",
   "execution_count": null,
   "metadata": {},
   "outputs": [],
   "source": [
    "item_scenarios = sample_examples_df.iloc[item_example_indexes,:]\n",
    "item_inspected_indexes = [sample_examples_inspected_indexes[i] for i in item_example_indexes]\n",
    "box_scenarios = sample_examples_df.iloc[box_example_indexes,:]\n",
    "box_inspected_indexes = [sample_examples_inspected_indexes[i] for i in box_example_indexes]\n",
    "\n",
    "num_items_per_consignment = 500\n",
    "num_boxes_per_consignment = 10\n"
   ]
  },
  {
   "cell_type": "code",
   "execution_count": null,
   "metadata": {},
   "outputs": [],
   "source": [
    "fig = plt.figure(figsize=(10,8), constrained_layout=False)\n",
    "outer_grid = fig.add_gridspec(4, 2, hspace=0.4, wspace=0.3, top=0.86)\n",
    "\n",
    "scenario_index = 0\n",
    "for a in range(4):\n",
    "    for b in range(2):\n",
    "        # gridspec inside gridspec\n",
    "        inner_grid = outer_grid[a, b].subgridspec(1, 1)\n",
    "        axs = inner_grid.subplots()  # Create all subplots for the inner grid.\n",
    "        for i in range(num_consignments):\n",
    "            indexes = np.zeros(num_items_per_consignment, dtype=np.int)\n",
    "            inpsected = item_inspected_indexes[scenario_index][i]\n",
    "            np.put(indexes, inpsected, 1)\n",
    "            indexes = np.array_split(indexes, num_boxes_per_consignment)\n",
    "            axs.matshow(indexes, cmap='Blues', vmin=0, vmax=1)\n",
    "            axs.set_yticklabels([])\n",
    "            axs.tick_params(labeltop=False, top=False, bottom=False)\n",
    "            axs.set_ylabel('boxes', fontsize=13)\n",
    "            axs.set_xlabel('items', fontsize=13)\n",
    "            axs.set_title(\"Shipment\", fontsize=13)\n",
    "        scenario_index += 1\n",
    "\n",
    "\n",
    "from pylab import *\n",
    "axs.plot([0.495, 0.495], [0.1, 0.88], color='#7A7A7A', lw=2,\n",
    "         transform=gcf().transFigure, clip_on=False)\n",
    "axs.plot([0.07, 0.93], [.49, .49], color='#7A7A7A', lw=2,\n",
    "         transform=gcf().transFigure, clip_on=False)\n",
    "axs.plot([0.07, 0.93], [0.88, 0.88], color='#7A7A7A', lw=2,\n",
    "         transform=gcf().transFigure, clip_on=False)\n",
    "axs.plot([0.07, 0.93], [0.1, 0.1], color='#7A7A7A', lw=2,\n",
    "         transform=gcf().transFigure, clip_on=False)\n",
    "axs.plot([0.93, 0.93], [0.1, 0.88], color='#7A7A7A', lw=2,\n",
    "         transform=gcf().transFigure, clip_on=False)\n",
    "axs.plot([0.07, 0.07], [0.1, 0.88], color='#7A7A7A', lw=2,\n",
    "         transform=gcf().transFigure, clip_on=False)\n",
    "axs.plot([0.07, 0.93], [0.69, 0.69], color='#7A7A7A', lw=2,\n",
    "         transform=gcf().transFigure, clip_on=False)\n",
    "axs.plot([0.07, 0.93], [0.29, 0.29], color='#7A7A7A', lw=2,\n",
    "         transform=gcf().transFigure, clip_on=False)\n",
    "\n",
    "\n",
    "plt.show()\n",
    "\n",
    "\n",
    "fig.savefig(plotsdir / \"sample_examples_items.jpg\", dpi=800)"
   ]
  },
  {
   "cell_type": "code",
   "execution_count": null,
   "metadata": {},
   "outputs": [],
   "source": [
    "fig = plt.figure(figsize=(10,4), constrained_layout=False)\n",
    "outer_grid = fig.add_gridspec(2, 2, hspace=0.3, wspace=0.3, top=0.83, bottom=0.14)\n",
    "\n",
    "scenario_index = 0\n",
    "for a in range(2):\n",
    "    for b in range(2):\n",
    "        # gridspec inside gridspec\n",
    "        inner_grid = outer_grid[a, b].subgridspec(1, 1)\n",
    "        axs = inner_grid.subplots()  # Create all subplots for the inner grid.\n",
    "        for i in range(num_consignments):\n",
    "            indexes = np.zeros(num_items_per_consignment, dtype=np.int)\n",
    "            inpsected = box_inspected_indexes[scenario_index][i]\n",
    "            np.put(indexes, inpsected, 1)\n",
    "            indexes = np.array_split(indexes, num_boxes_per_consignment)\n",
    "            axs.matshow(indexes, cmap='Blues', vmin=0, vmax=1)\n",
    "            axs.set_yticklabels([])\n",
    "            axs.tick_params(labeltop=False, top=False, bottom=False)\n",
    "            axs.set_ylabel('boxes', fontsize=13)\n",
    "            axs.set_xlabel('items', fontsize=13)\n",
    "            axs.set_title(\"Shipment\", fontsize=13)\n",
    "        scenario_index += 1\n",
    "\n",
    "\n",
    "from pylab import *\n",
    "axs.plot([0.5, 0.5], [0.1, 0.88], color='#7A7A7A', lw=2,\n",
    "         transform=gcf().transFigure, clip_on=False)\n",
    "axs.plot([0.07, 0.93], [.49, .49], color='#7A7A7A', lw=2,\n",
    "         transform=gcf().transFigure, clip_on=False)\n",
    "axs.plot([0.07, 0.93], [0.88, 0.88], color='#7A7A7A', lw=2,\n",
    "         transform=gcf().transFigure, clip_on=False)\n",
    "axs.plot([0.07, 0.93], [0.1, 0.1], color='#7A7A7A', lw=2,\n",
    "         transform=gcf().transFigure, clip_on=False)\n",
    "axs.plot([0.93, 0.93], [0.1, 0.88], color='#7A7A7A', lw=2,\n",
    "         transform=gcf().transFigure, clip_on=False)\n",
    "axs.plot([0.07, 0.07], [0.1, 0.88], color='#7A7A7A', lw=2,\n",
    "         transform=gcf().transFigure, clip_on=False)\n",
    "\n",
    "plt.show()\n",
    "\n",
    "fig.savefig(plotsdir / \"sample_examples_boxes.jpg\", dpi=800)"
   ]
  },
  {
   "cell_type": "code",
   "execution_count": null,
   "metadata": {},
   "outputs": [],
   "source": []
  }
 ],
 "metadata": {
  "kernelspec": {
   "display_name": "Python 3",
   "language": "python",
   "name": "python3"
  },
  "language_info": {
   "codemirror_mode": {
    "name": "ipython",
    "version": 3
   },
   "file_extension": ".py",
   "mimetype": "text/x-python",
   "name": "python",
   "nbconvert_exporter": "python",
   "pygments_lexer": "ipython3",
   "version": "3.7.9"
  }
 },
 "nbformat": 4,
 "nbformat_minor": 4
}
