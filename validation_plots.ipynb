{
 "cells": [
  {
   "cell_type": "code",
   "execution_count": null,
   "metadata": {},
   "outputs": [],
   "source": [
    "from pathways.scenarios import run_scenarios, load_scenario_table\n",
    "from pathways.simulation import load_configuration\n",
    "from pathways.outputs import save_scenario_result_to_pandas"
   ]
  },
  {
   "cell_type": "code",
   "execution_count": null,
   "metadata": {},
   "outputs": [],
   "source": [
    "import pandas as pd\n",
    "import numpy as np\n",
    "import re\n",
    "import seaborn as sns\n",
    "import matplotlib.pyplot as plt\n",
    "\n",
    "%matplotlib inline"
   ]
  },
  {
   "cell_type": "code",
   "execution_count": null,
   "metadata": {},
   "outputs": [],
   "source": [
    "from pathlib import Path\n",
    "datadir = Path(\"tests/test_summaries\")\n",
    "basic_config = load_configuration(datadir / \"config.yml\")\n",
    "# Modify a directory for the plots here\n",
    "plotsdir = Path(\"plots\")\n",
    "# Make sure the directory exists\n",
    "plotsdir.mkdir(exist_ok=True)\n",
    "\n",
    "# Load csv with configurations for each validation scenario\n",
    "scenario_table = load_scenario_table(datadir / \"validation_scenarios.csv\")"
   ]
  },
  {
   "cell_type": "code",
   "execution_count": null,
   "metadata": {},
   "outputs": [],
   "source": [
    "# Separate the scenarios by validation category (contamination, sampling, and outcomes)\n",
    "contaminate_validation_scenarios = scenario_table[0:20]\n",
    "sample_validation_scenarios = scenario_table[20:44]\n",
    "outcome_validation_scenarios = scenario_table[44:84]"
   ]
  },
  {
   "cell_type": "markdown",
   "metadata": {},
   "source": [
    "# Contamination validation\n",
    "\n",
    "### Test 1: Simulate 3 consignments with 10 boxes each (100 items/box).\n",
    "Check contamination rates and contaminant arrangement using combinations of:\n",
    "* Fixed contamination rates - fixed values of 0.01, 0.1, 0.2\n",
    "* Contamination unit - box or item\n",
    "* Contaminant arrangement - random or clustered (box contamination unit: 2 boxes max contaminated units, item contamination unit: clustered random - 50 items max contaminated units and 100 items max width, clustered continuous - 50 items per cluster)\n",
    "\n",
    "### Test 2: Simulate 1000 consignments with 100 boxes each (100 items/box), repeat for 20 iterations.\n",
    "Check contamination rates using combinations of::\n",
    "* Stochastic contamination rates - beta probability distribution using parameters 0.760265625, 107.849109375\n",
    "* Contamination unit - box or item\n",
    "* Pest arrangement - random or clustered (box contamination unit: 2 boxes max contaminated units, item contamination unit: clustered random - 90 items max contaminated units and 100 items max width, clustered continuous - 50 items per cluster)"
   ]
  },
  {
   "cell_type": "code",
   "execution_count": null,
   "metadata": {},
   "outputs": [],
   "source": [
    "# Run infestation validation test 1\n",
    "num_consignments_1 = 3\n",
    "contaminate_validation_1 = run_scenarios(\n",
    "    config=basic_config,\n",
    "    scenario_table=contaminate_validation_scenarios[0:15],\n",
    "    seed=42,\n",
    "    num_simulations=1,\n",
    "    num_consignments=num_consignments_1,\n",
    "    detailed=True,\n",
    ")"
   ]
  },
  {
   "cell_type": "code",
   "execution_count": null,
   "metadata": {},
   "outputs": [],
   "source": [
    "# Run contamination validation test 2\r\n",
    "num_consignments_2 = 1000\r\n",
    "contaminate_validation_2 = run_scenarios(\r\n",
    "    config=basic_config,\r\n",
    "    scenario_table=contaminate_validation_scenarios[15:21],\r\n",
    "    seed=42,\r\n",
    "    num_simulations=20,\r\n",
    "    num_consignments=num_consignments_2,\r\n",
    "    detailed=False,\r\n",
    ")"
   ]
  },
  {
   "cell_type": "code",
   "execution_count": null,
   "metadata": {},
   "outputs": [],
   "source": [
    "# Separate item and inspection details from simulation totals and scenario config.\n",
    "contaminate_validation_details_1 = [i[0] for i in contaminate_validation_1]\n",
    "contaminate_validation_results_1 = [i[1:3] for i in contaminate_validation_1]"
   ]
  },
  {
   "cell_type": "code",
   "execution_count": null,
   "metadata": {},
   "outputs": [],
   "source": [
    "# Save dataframe from simulation totals and scenario config test 1.\n",
    "contaminate_validation_df_1 = save_scenario_result_to_pandas(\n",
    "    contaminate_validation_results_1,\n",
    "    config_columns=[\n",
    "        \"consignment name\",\n",
    "        \"consignment/boxes/min\",\n",
    "        \"consignment/boxes/max\",\n",
    "        \"consignment/items_per_box/default\",\n",
    "        \"contamination/contamination_unit\",\n",
    "        \"contamination/contamination_rate/distribution\",\n",
    "        \"contamination/contamination_rate/value\",\n",
    "        \"contamination/contamination_rate/parameters\",\n",
    "        \"contamination/arrangement\",\n",
    "        \"contamination/clustered/distribution\",\n",
    "        \"contamination/clustered/contaminated_units_per_cluster\",\n",
    "        \"contamination/clustered/random/cluster_item_width\",\n",
    "    ],\n",
    "    result_columns=[\n",
    "        \"true_contamination_rate\",\n",
    "    ],\n",
    ")"
   ]
  },
  {
   "cell_type": "code",
   "execution_count": null,
   "metadata": {},
   "outputs": [],
   "source": [
    "# Save dataframe from simulation totals and scenario config test 2.\n",
    "contaminate_validation_df_2 = save_scenario_result_to_pandas(\n",
    "    contaminate_validation_2,\n",
    "    config_columns=[\n",
    "        \"consignment name\",\n",
    "        \"consignment/boxes/min\",\n",
    "        \"consignment/boxes/max\",\n",
    "        \"consignment/items_per_box/default\",\n",
    "        \"contamination/contamination_unit\",\n",
    "        \"contamination/contamination_rate/distribution\",\n",
    "        \"contamination/contamination_rate/value\",\n",
    "        \"contamination/contamination_rate/parameters\",\n",
    "        \"contamination/arrangement\",\n",
    "        \"contamination/clustered/distribution\",\n",
    "        \"contamination/clustered/contaminated_units_per_cluster\",\n",
    "        \"contamination/clustered/random/cluster_item_width\",\n",
    "    ],\n",
    "    result_columns=[\n",
    "        \"true_contamination_rate\",\n",
    "    ],\n",
    ")"
   ]
  },
  {
   "cell_type": "code",
   "execution_count": null,
   "metadata": {},
   "outputs": [],
   "source": [
    "# Combine dataframes from both tests to view contamination rates\r\n",
    "contaminate_validation_df = contaminate_validation_df_1.append(contaminate_validation_df_2)\r\n",
    "contaminate_validation_df.index = range(len(contaminate_validation_df))"
   ]
  },
  {
   "cell_type": "code",
   "execution_count": null,
   "metadata": {},
   "outputs": [],
   "source": [
    "# Format dataframe\r\n",
    "column_names = [\"consignment name\", \"number of boxes\", \"items per box\", \"contamination unit\", \"contamination distribution\", \"contamination value\", \"contaminant arrangement\", \"simulated contamination rate (mean)\"]\r\n",
    "contaminate_validation_df_pretty = contaminate_validation_df.iloc[:,[0,1,3,4,5,6,8,12]].copy()\r\n",
    "contaminate_validation_df_pretty.iloc[:,5].astype(str)\r\n",
    "\r\n",
    "beta_parameters = contaminate_validation_df.iloc[15:21,7]\r\n",
    "contaminate_validation_df_pretty.iloc[15:21,5] = beta_parameters\r\n",
    "contaminate_validation_df_pretty.columns = column_names\r\n",
    "contaminate_validation_df_pretty.iloc[:,7] = contaminate_validation_df_pretty.iloc[:,7].round(decimals=4)\r\n",
    "contaminate_validation_df_pretty"
   ]
  },
  {
   "cell_type": "code",
   "execution_count": null,
   "metadata": {},
   "outputs": [],
   "source": [
    "# Create table with expected and simulated contamination rates\n",
    "fixed_expected = contaminate_validation_df[\"contamination/contamination_rate/value\"][0:15]\n",
    "beta_expected = pd.Series(0.007)\n",
    "beta_expected = beta_expected.repeat(repeats=len(contaminate_validation_df_2))\n",
    "\n",
    "expected_rates = fixed_expected.append(beta_expected)\n",
    "\n",
    "expected_rates.index = range(len(expected_rates))\n",
    "simulated_rates = contaminate_validation_df[\"true_contamination_rate\"]\n",
    "simulated_rates = simulated_rates.round(decimals=4)\n",
    "scenarios = contaminate_validation_df_pretty[\"consignment name\"]"
   ]
  },
  {
   "cell_type": "markdown",
   "metadata": {},
   "source": [
    "## Check contamination rates\n",
    "The true contamination rates for the fixed values are all exactly as expected except for when using the stochastic contamination rates. However, the stochastic rates are all very close to expected average rate."
   ]
  },
  {
   "cell_type": "code",
   "execution_count": null,
   "metadata": {},
   "outputs": [],
   "source": [
    "contamination_rate_validatation = pd.DataFrame({\"scenarios\": scenarios, \"expected_rates\": expected_rates, \"simulated_rates\": simulated_rates})\n",
    "contamination_rate_validatation"
   ]
  },
  {
   "cell_type": "markdown",
   "metadata": {},
   "source": [
    "## Check contaminant arrangements\n",
    "The consignments using items as the contamination unit and clustered arrangement use maximum of 200 contaminated items per cluster and are spread across 400 items (2 boxes).\n",
    "\n",
    "The consignments using boxes as the contamination unit and clustered arrangement use maximum 2 boxes per cluster."
   ]
  },
  {
   "cell_type": "code",
   "execution_count": null,
   "metadata": {},
   "outputs": [],
   "source": [
    "# Use items from only the test 1 consignment (smaller consignments for easier visualization)\n",
    "contaminate_validation_items_unstacked = [i[0] for i in contaminate_validation_details_1]"
   ]
  },
  {
   "cell_type": "code",
   "execution_count": null,
   "metadata": {},
   "outputs": [],
   "source": [
    "# Plot items for each scenario and check contaminant arrangement and contamination unit\n",
    "scenarios = contaminate_validation_df_1[\"consignment name\"]\n",
    "\n",
    "for index, scenario in enumerate(scenarios):\n",
    "    contaminate_validation_items = np.stack(contaminate_validation_items_unstacked[index])\n",
    "    items_by_consignment = np.vsplit(contaminate_validation_items, num_consignments_1)\n",
    "    fig, axs = plt.subplots(len(items_by_consignment), figsize=(7,4.5))\n",
    "    plt.subplots_adjust(left=0.06,right=0.98)\n",
    "    for i in range(len(items_by_consignment)):\n",
    "        axs[i].matshow(items_by_consignment[i], cmap='Greys')\n",
    "        axs[i].set_yticklabels([])\n",
    "        axs[i].tick_params(labeltop=False, top=False, bottom=False)\n",
    "        if i == 1:\n",
    "            axs[i].set_ylabel('boxes', fontsize=12)\n",
    "        if i == 2:\n",
    "            axs[i].set_xlabel('items', fontsize=12)\n",
    "        if i == 0:\n",
    "            axs[i].set_title(scenario, fontsize=14)\n",
    "        fig.savefig(plotsdir / f\"contam validation {scenario}.png\")"
   ]
  },
  {
   "cell_type": "markdown",
   "metadata": {},
   "source": [
    "# Sampling validation\n",
    "\n",
    "### Test: Simulate 1 consignment, using 1 iteration.\n",
    "Check sample size and indexes inspected using combinations of:\n",
    "* Number of boxes - 20 or 100 (100 or 200 items/box)\n",
    "* Sampling unit - box or items\n",
    "* Sample size calculation method - proportion (2% - rounded to nearest integer) or hypergeometric (0.05 detection level, 0.95 confidence level - rounded up to nearest integer)\n",
    "* Sample selection method - random, convenience, cluster interval (inspecting 10% of every 3rd box), or cluster random (inspecting 10% of random selected boxes)"
   ]
  },
  {
   "cell_type": "code",
   "execution_count": null,
   "metadata": {},
   "outputs": [],
   "source": [
    "# Run sampling validation test\n",
    "num_consignments = 1\n",
    "sample_validation = run_scenarios(\n",
    "    config=basic_config,\n",
    "    scenario_table=sample_validation_scenarios,\n",
    "    seed=42,\n",
    "    num_simulations=1,\n",
    "    num_consignments=num_consignments,\n",
    "    detailed=True,\n",
    ")"
   ]
  },
  {
   "cell_type": "code",
   "execution_count": null,
   "metadata": {},
   "outputs": [],
   "source": [
    "# Separate item and inspection details from simulation totals and scenario config.\n",
    "sample_validation_details = [i[0] for i in sample_validation]\n",
    "sample_validation_results = [i[1:3] for i in sample_validation]"
   ]
  },
  {
   "cell_type": "code",
   "execution_count": null,
   "metadata": {},
   "outputs": [],
   "source": [
    "# Save simulation totals and scenario config to dataframe.\n",
    "sample_validation_df = save_scenario_result_to_pandas(\n",
    "    sample_validation_results,\n",
    "    config_columns=[\n",
    "        \"inspection name\",\n",
    "        \"consignment/boxes/min\",\n",
    "        \"consignment/boxes/max\",\n",
    "        \"consignment/items_per_box/default\",\n",
    "        \"inspection/unit\",\n",
    "        \"inspection/sample_strategy\",\n",
    "        \"inspection/proportion/value\",\n",
    "        \"inspection/hypergeometric/detection_level\",\n",
    "        \"inspection/selection_strategy\",\n",
    "    ],\n",
    "    result_columns=[\n",
    "        \"avg_boxes_opened_completion\",\n",
    "        \"avg_items_inspected_completion\",\n",
    "    ],\n",
    ")"
   ]
  },
  {
   "cell_type": "code",
   "execution_count": null,
   "metadata": {},
   "outputs": [],
   "source": [
    "# Format dataframe\r\n",
    "column_names = [\"inspection name\", \"number of boxes\", \"items per box\", \"inspection unit\", \"sample strategy\", \"sample parameter\", \"selection strategy\", \"items inspected\"]\r\n",
    "sample_validation_df_pretty = sample_validation_df.iloc[:,[0,1,3,4,5,6,8,10]].copy()\r\n",
    "hypergeometric_parameters = sample_validation_df.iloc[[0,1,2,3,8,9,12,13,14,15,20,21],7]\r\n",
    "\r\n",
    "sample_validation_df_pretty.iloc[[0,1,2,3,8,9,12,13,14,15,20,21],5] = hypergeometric_parameters\r\n",
    "sample_validation_df_pretty.columns = column_names\r\n"
   ]
  },
  {
   "cell_type": "code",
   "execution_count": null,
   "metadata": {},
   "outputs": [],
   "source": [
    "\n",
    "sample_validation_df_pretty"
   ]
  },
  {
   "cell_type": "markdown",
   "metadata": {},
   "source": [
    "## Check sample sizes\n",
    "The sample sizes used by the simulation are all as expected."
   ]
  },
  {
   "cell_type": "code",
   "execution_count": null,
   "metadata": {},
   "outputs": [],
   "source": [
    "# Expected sample sizes are calculated as:\n",
    "# For proportion sampling: sample_size = round(num_units * proportion)\n",
    "# For hypergeometric: sample_size = math.ceil((1 - ((1 - confidence_level) ** (1 / (detection_level * population_size)))) * (population_size - (((detection_level * population_size) - 1) / 2)))\n",
    "\n",
    "expected_item_sample_size = np.array([58, 58, 58, 58, 40, 40, 40, 40, 1900, 1900, 0, 0, 59, 59, 59, 59, 400, 400, 400, 400, 9000, 9000, 400, 400])\n",
    "actual_item_sample_size = sample_validation_df[\"avg_items_inspected_completion\"]\n",
    "scenarios = sample_validation_df[\"inspection name\"]\n",
    "\n",
    "sample_size_validatation = pd.DataFrame({\"scenarios\": scenarios, \"expected_item_sample_size\": expected_item_sample_size, \"actual_item_sample_size\": actual_item_sample_size})\n"
   ]
  },
  {
   "cell_type": "code",
   "execution_count": null,
   "metadata": {},
   "outputs": [],
   "source": [
    "sample_size_validatation"
   ]
  },
  {
   "cell_type": "markdown",
   "metadata": {},
   "source": [
    "## Check sample selection\n",
    "The sample selection is as expected."
   ]
  },
  {
   "cell_type": "code",
   "execution_count": null,
   "metadata": {},
   "outputs": [],
   "source": [
    "sample_validation_inspected_indexes = [i[1] for i in sample_validation_details]"
   ]
  },
  {
   "cell_type": "code",
   "execution_count": null,
   "metadata": {},
   "outputs": [],
   "source": [
    "# Use the smaller consignment (20 boxes) sample scenarios (first 12) for plotting the inspected indexes so the consignments are easier to visualize.\n",
    "sample_scenarios = sample_validation_df[0:12][\"inspection name\"]\n",
    "num_items_per_consignment = 2000\n",
    "num_boxes_per_consignment = 20\n",
    "\n",
    "for index, scenario in enumerate(sample_scenarios):\n",
    "    indexes = np.zeros(num_items_per_consignment, dtype=int)\n",
    "    inpsected = sample_validation_inspected_indexes[index][0]\n",
    "    np.put(indexes, inpsected, 1)\n",
    "    indexes = np.array_split(indexes, num_boxes_per_consignment)\n",
    "    fig, axs = plt.subplots(1, figsize=(10,2.8))\n",
    "    axs.matshow(indexes, cmap='binary', vmin=0, vmax=1)\n",
    "    axs.set_yticklabels([])\n",
    "    axs.tick_params(labeltop=False, top=False, bottom=False)\n",
    "    axs.set_ylabel('boxes', fontsize=26)\n",
    "    axs.set_xlabel('items', fontsize=26)\n",
    "    axs.set_title(scenario, fontsize=28)\n",
    "    plt.tight_layout()\n",
    "    fig.savefig(plotsdir / f\"sample validation {scenario}.png\")\n"
   ]
  },
  {
   "cell_type": "markdown",
   "metadata": {},
   "source": [
    "# Inspection outcome validation\n",
    "\n",
    "### Test: Simulate 1000 consignments with 100 boxes each (200 items/box), using 20 iterations.\n",
    "Check inspection success rates using combinations of:\n",
    "* Fixed contamination rates - fixed values of 0.01 and 0.1\n",
    "* Contamination unit - box or item\n",
    "* Inspection unit - box or item\n",
    "* Sample size method - proportion (0.02 and 0.05) and hypergeometric (0.01, 0.05, 0.1 detection levels)\n",
    "* Contaminant arrangement - random or clustered (box contamination unit: 2 boxes max contaminated units, item infestation unit: 200 items max contaminated units and 300 items max width)\n",
    "\n",
    "Calculate expected probability of detecting at least one contaminated unit using a binomial distribution for the proportion sampling and a hypergeometric distribution for the hypergeometric sampling.\n",
    "\n",
    "Probabilities caculated using these online calculators: \n",
    "\n",
    "https://stattrek.com/online-calculator/binomial.aspx\n",
    "\n",
    "https://stattrek.com/online-calculator/hypergeometric.aspx"
   ]
  },
  {
   "cell_type": "code",
   "execution_count": null,
   "metadata": {
    "tags": []
   },
   "outputs": [],
   "source": [
    "# Run outcome validation test\r\n",
    "num_consignments = 1000\r\n",
    "outcome_validation = run_scenarios(\r\n",
    "    config=basic_config,\r\n",
    "    scenario_table=outcome_validation_scenarios,\r\n",
    "    seed=42,\r\n",
    "    num_simulations=20,\r\n",
    "    num_consignments=num_consignments,\r\n",
    "    detailed=False,\r\n",
    ")"
   ]
  },
  {
   "cell_type": "code",
   "execution_count": null,
   "metadata": {},
   "outputs": [],
   "source": [
    "# Save simulation totals and scenario config to dataframe.\n",
    "outcome_validation_df = save_scenario_result_to_pandas(\n",
    "    outcome_validation,\n",
    "    config_columns=[\n",
    "        \"name\",\n",
    "        \"consignment name\",\n",
    "        \"inspection name\",\n",
    "        \"consignment/boxes/min\",\n",
    "        \"consignment/boxes/max\",\n",
    "        \"consignment/items_per_box/default\",\n",
    "        \"contamination/contamination_unit\",\n",
    "        \"contamination/contamination_rate/distribution\",\n",
    "        \"contamination/contamination_rate/value\",\n",
    "        \"contamination/arrangement\",\n",
    "        \"inspection/unit\",\n",
    "        \"inspection/sample_strategy\",\n",
    "        \"inspection/proportion/value\",\n",
    "        \"inspection/hypergeometric/detection_level\",\n",
    "        \"inspection/selection_strategy\",\n",
    "    ],\n",
    "    result_columns=[\n",
    "        \"false_neg\",\n",
    "        \"intercepted\",\n",
    "        \"total_missed_contaminants\",\n",
    "        \"total_intercepted_contaminants\",\n",
    "        \"avg_boxes_opened_completion\",\n",
    "        \"avg_items_inspected_completion\",\n",
    "    ],\n",
    ")"
   ]
  },
  {
   "cell_type": "code",
   "execution_count": null,
   "metadata": {},
   "outputs": [],
   "source": [
    "# Format dataframe\r\n",
    "column_names = [\"consignment name\", \"inspection name\", \"number of boxes\", \"items per box\", \"contamination unit\", \"contamination distribution\", \"contamination rate\", \"contaminant arrangement\", \"inspection unit\", \"sample strategy\", \"sample parameter\"]\r\n",
    "outcome_validation_df_pretty = outcome_validation_df.iloc[:,[1,2,3,5,6,7,8,9,10,11,12]].copy()\r\n",
    "\r\n",
    "hypergeometric_parameters = outcome_validation_df.iloc[[4,5,6,7,8,9,14,15,16,17,18,19,24,25,26,27,28,29,34,35,36,37,38,39],13]\r\n",
    "\r\n",
    "outcome_validation_df_pretty.iloc[[4,5,6,7,8,9,14,15,16,17,18,19,24,25,26,27,28,29,34,35,36,37,38,39],10] = hypergeometric_parameters\r\n",
    "outcome_validation_df_pretty.columns = column_names\r\n",
    "outcome_validation_df_pretty"
   ]
  },
  {
   "cell_type": "markdown",
   "metadata": {},
   "source": [
    "## Check success rates\n",
    "The simulated inspection outcomes are very close to expected when using a random contaminant arrangement. \n",
    "\n",
    "The last half of the outcome vaildation scenarions use a clustered contaminant arrangement. When the contamination rate is low (0.01), the success rates are still very close to the scenarions with random arrangement. When the contamination rate is increased (0.1), however, simulated inspection success rates are much lower than what would be expected if the contaminants were randomly distributed throughout the consignments. This is an expected outcome as well."
   ]
  },
  {
   "cell_type": "code",
   "execution_count": null,
   "metadata": {},
   "outputs": [],
   "source": [
    "# Expected success rates were calculated using binomial probability distributions for proportion sampling and hypergeometric probability distributions for hypergeometric sampling.\n",
    "\n",
    "expected_success_rate = np.array([0.982049447, 0.0199, 0.999956829, 0.04900995, 0.252981244, 0.25, 0.44779485, 0.45, 0.950071868, 0.95, 0.999999, 0.19, 0.999999, 0.40951, 0.953004939, 0.952113444, 0.99802225, 0.998310334, 1, 1, 0.982049447, 0.0199, 0.999956829, 0.04900995, 0.252981244, 0.25, 0.44779485, 0.45, 0.950071868, 0.95, 0.982049447, 0.0199, 0.999956829, 0.04900995, 0.252981244, 0.25, 0.44779485, 0.45, 0.950071868, 0.95])\n",
    "\n",
    "contaminated_consignments = outcome_validation_df[\"false_neg\"] + outcome_validation_df[\"intercepted\"]\n",
    "simulated_success_rate = outcome_validation_df[\"intercepted\"] / contaminated_consignments\n",
    "consignment_name = outcome_validation_df[\"consignment name\"]\n",
    "inspection_name = outcome_validation_df[\"inspection name\"]\n",
    "\n",
    "success_rate_validation = pd.DataFrame({\"consignment name\": consignment_name, \"inspection name\": inspection_name, \"expected_success_rate\": expected_success_rate, \"simulated_success_rate\": simulated_success_rate, \"rate_difference\": expected_success_rate - simulated_success_rate})\n"
   ]
  },
  {
   "cell_type": "code",
   "execution_count": null,
   "metadata": {},
   "outputs": [],
   "source": [
    "success_rate_validation"
   ]
  },
  {
   "cell_type": "code",
   "execution_count": null,
   "metadata": {},
   "outputs": [],
   "source": []
  }
 ],
"metadata": {
  "kernelspec": {
   "display_name": "Python 3",
   "language": "python",
   "name": "python3"
  },
  "language_info": {
   "codemirror_mode": {
    "name": "ipython",
    "version": 3
   },
   "file_extension": ".py",
   "mimetype": "text/x-python",
   "name": "python",
   "nbconvert_exporter": "python",
   "pygments_lexer": "ipython3",
   "version": "3.7.9"
  }
 },
 "nbformat": 4,
 "nbformat_minor": 4
}