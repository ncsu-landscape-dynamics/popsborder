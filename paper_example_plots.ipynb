{
 "cells": [
  {
   "cell_type": "markdown",
   "metadata": {},
   "source": [
    "# Plots for manuscript\r\n",
    "## This notebook produces graphical representations of how the contamination and sampling works in PoPS Border"
   ]
  },
  {
   "cell_type": "code",
   "execution_count": null,
   "metadata": {},
   "outputs": [],
   "source": [
    "from popsborder.scenarios import run_scenarios, load_scenario_table\r\n",
    "from popsborder.simulation import load_configuration\r\n",
    "from popsborder.outputs import save_scenario_result_to_pandas"
   ]
  },
  {
   "cell_type": "code",
   "execution_count": null,
   "metadata": {},
   "outputs": [],
   "source": [
    "import pandas as pd\r\n",
    "import numpy as np\r\n",
    "import re\r\n",
    "import seaborn as sns\r\n",
    "import matplotlib.pyplot as plt\r\n",
    "\r\n",
    "%matplotlib inline"
   ]
  },
  {
   "cell_type": "code",
   "execution_count": null,
   "metadata": {},
   "outputs": [],
   "source": [
    "from pathlib import Path\r\n",
    "datadir = Path(\"tests/test_summaries\")\r\n",
    "basic_config = load_configuration(datadir / \"config.yml\")\r\n",
    "# Modify a directory for the plots here\r\n",
    "plotsdir = Path(\"plots\")\r\n",
    "# Make sure the directory exists\r\n",
    "plotsdir.mkdir(exist_ok=True)\r\n",
    "\r\n",
    "# Load csv with configurations for each example scenario\r\n",
    "contaminate_scenarios = load_scenario_table(datadir / \"contaminate_examples.csv\")\r\n",
    "sample_scenarios = load_scenario_table(datadir / \"sampling_examples.csv\")"
   ]
  },
  {
   "cell_type": "markdown",
   "metadata": {},
   "source": [
    "## Contamination examples\r\n",
    "Run simulation with 3 consignments using 15 different contamination approaches to show the range of contamination options available.\\\r\n",
    "Examples use three different fixed contamination rates and combinations of contamination unit (box or item) and contaminant arrangement (random, clustered continuous, or clustered random)."
   ]
  },
  {
   "cell_type": "code",
   "execution_count": null,
   "metadata": {},
   "outputs": [],
   "source": [
    "# Run contamination examples\r\n",
    "num_consignments_1 = 3\r\n",
    "contaminate_examples = run_scenarios(\r\n",
    "    config=basic_config,\r\n",
    "    scenario_table=contaminate_scenarios,\r\n",
    "    seed=42,\r\n",
    "    num_simulations=1,\r\n",
    "    num_consignments=num_consignments_1,\r\n",
    "    detailed=True,\r\n",
    ")"
   ]
  },
  {
   "cell_type": "code",
   "execution_count": null,
   "metadata": {},
   "outputs": [],
   "source": [
    "# Separate item and inspection details from simulation totals and scenario config.\r\n",
    "contaminate_examples_details = [i[0] for i in contaminate_examples]\r\n",
    "contaminate_examples_results = [i[1:3] for i in contaminate_examples]"
   ]
  },
  {
   "cell_type": "code",
   "execution_count": null,
   "metadata": {},
   "outputs": [],
   "source": [
    "# Save dataframe from simulation totals and scenario config test 1.\r\n",
    "contaminate_examples_df = save_scenario_result_to_pandas(\r\n",
    "    contaminate_examples_results,\r\n",
    "    config_columns=[\r\n",
    "        \"consignment name\",\r\n",
    "        \"consignment/boxes/min\",\r\n",
    "        \"consignment/boxes/max\",\r\n",
    "        \"consignment/items_per_box/default\",\r\n",
    "        \"contamination/contamination_unit\",\r\n",
    "        \"contamination/contamination_rate/distribution\",\r\n",
    "        \"contamination/contamination_rate/value\",\r\n",
    "        \"contamination/contamination_rate/parameters\",\r\n",
    "        \"contamination/arrangement\",\r\n",
    "        \"contamination/clustered/distribution\",\r\n",
    "        \"contamination/clustered/contaminated_units_per_cluster\",\r\n",
    "        \"contamination/clustered/random/cluster_item_width\",\r\n",
    "    ],\r\n",
    "    result_columns=[\r\n",
    "        \"true_contamination_rate\",\r\n",
    "    ],\r\n",
    ")"
   ]
  },
  {
   "cell_type": "code",
   "execution_count": null,
   "metadata": {},
   "outputs": [],
   "source": [
    "contaminate_examples_items_unstacked = [i[0] for i in contaminate_examples_details]"
   ]
  },
  {
   "cell_type": "code",
   "execution_count": null,
   "metadata": {},
   "outputs": [],
   "source": [
    "# Plot items for each item contamination unit scenarios\r\n",
    "scenarios = contaminate_examples_df[\"consignment name\"]\r\n",
    "\r\n",
    "fig = plt.figure(figsize=(14.5, 13), constrained_layout=False)\r\n",
    "outer_grid = fig.add_gridspec(3, 3)\r\n",
    "\r\n",
    "scenario_index = 0\r\n",
    "for a in range(3):\r\n",
    "    for b in range(3):\r\n",
    "        # gridspec inside gridspec\r\n",
    "        inner_grid = outer_grid[a, b].subgridspec(3, 1, hspace=0.8)\r\n",
    "        axs = inner_grid.subplots()  # Create all subplots for the inner grid.\r\n",
    "        contaminate_examples_items = np.stack(contaminate_examples_items_unstacked[scenario_index])\r\n",
    "        items_by_consignment = np.vsplit(contaminate_examples_items, num_consignments_1)\r\n",
    "        for i in range(len(items_by_consignment)):\r\n",
    "            axs[i].matshow(items_by_consignment[i], cmap='Blues')\r\n",
    "            axs[i].set_yticklabels([])\r\n",
    "            axs[i].tick_params(labeltop=False, top=False, bottom=False)\r\n",
    "            axs[i].set_ylabel('boxes', fontsize=13)\r\n",
    "            axs[i].set_xlabel('items', fontsize=13)\r\n",
    "            axs[i].set_title(\"Shipment \" + str(i + 1), fontsize=13)\r\n",
    "        scenario_index += 1\r\n",
    "\r\n",
    "\r\n",
    "from pylab import *\r\n",
    "axs[i].plot([0.365, 0.365], [0.1, 0.905], color='#7A7A7A', lw=2,\r\n",
    "         transform=gcf().transFigure, clip_on=False)\r\n",
    "axs[i].plot([0.64, 0.64], [0.1, 0.905], color='#7A7A7A', lw=2,\r\n",
    "         transform=gcf().transFigure, clip_on=False)\r\n",
    "axs[i].plot([0.09, 0.915], [.37, .37], color='#7A7A7A', lw=2,\r\n",
    "         transform=gcf().transFigure, clip_on=False)\r\n",
    "axs[i].plot([0.09, 0.915], [.635, .635], color='#7A7A7A', lw=2,\r\n",
    "         transform=gcf().transFigure, clip_on=False)\r\n",
    "axs[i].plot([0.09, 0.915], [0.905, 0.905], color='#7A7A7A', lw=2,\r\n",
    "         transform=gcf().transFigure, clip_on=False)\r\n",
    "axs[i].plot([0.09, 0.915], [0.1, 0.1], color='#7A7A7A', lw=2,\r\n",
    "         transform=gcf().transFigure, clip_on=False)\r\n",
    "axs[i].plot([0.915, 0.915], [0.1, 0.905], color='#7A7A7A', lw=2,\r\n",
    "         transform=gcf().transFigure, clip_on=False)\r\n",
    "axs[i].plot([0.09, 0.09], [0.1, 0.905], color='#7A7A7A', lw=2,\r\n",
    "         transform=gcf().transFigure, clip_on=False)\r\n",
    "\r\n",
    "plt.show()\r\n",
    "\r\n",
    "fig.savefig(plotsdir / \"contam_examples_items.jpg\", dpi=800)"
   ]
  },
  {
   "cell_type": "code",
   "execution_count": null,
   "metadata": {},
   "outputs": [],
   "source": [
    "# Plot items for each box contamination unit scenarios\r\n",
    "scenarios = contaminate_examples_df[\"consignment name\"]\r\n",
    "\r\n",
    "fig = plt.figure(figsize=(14.5, 8.2), constrained_layout=False)\r\n",
    "outer_grid = fig.add_gridspec(2, 3)\r\n",
    "\r\n",
    "# Starting with the first box contamination unit scenario\r\n",
    "scenario_index = 9\r\n",
    "for a in range(2):\r\n",
    "    for b in range(3):\r\n",
    "        # gridspec inside gridspec\r\n",
    "        inner_grid = outer_grid[a, b].subgridspec(3, 1, hspace=0.8)\r\n",
    "        axs = inner_grid.subplots()  # Create all subplots for the inner grid.\r\n",
    "        contaminate_examples_items = np.stack(contaminate_examples_items_unstacked[scenario_index])\r\n",
    "        items_by_consignment = np.vsplit(contaminate_examples_items, num_consignments_1)\r\n",
    "        for i in range(len(items_by_consignment)):\r\n",
    "            axs[i].matshow(items_by_consignment[i], cmap='Blues')\r\n",
    "            axs[i].set_yticklabels([])\r\n",
    "            axs[i].tick_params(labeltop=False, top=False, bottom=False)\r\n",
    "            #if i == 1:\r\n",
    "            axs[i].set_ylabel('boxes', fontsize=13)\r\n",
    "            #if i == 2:\r\n",
    "            axs[i].set_xlabel('items', fontsize=13)\r\n",
    "            #if i == 0:\r\n",
    "            axs[i].set_title(\"Shipment \" + str(i + 1), fontsize=13)\r\n",
    "        scenario_index += 1\r\n",
    "\r\n",
    "\r\n",
    "from pylab import *\r\n",
    "axs[i].plot([0.365, 0.365], [0.09, 0.92], color='#7A7A7A', lw=2,\r\n",
    "         transform=gcf().transFigure, clip_on=False)\r\n",
    "axs[i].plot([0.64, 0.64], [0.09, 0.92], color='#7A7A7A', lw=2,\r\n",
    "         transform=gcf().transFigure, clip_on=False)\r\n",
    "axs[i].plot([0.09, 0.915], [.502, .502], color='#7A7A7A', lw=2,\r\n",
    "         transform=gcf().transFigure, clip_on=False)\r\n",
    "axs[i].plot([0.09, 0.915], [0.92, 0.92], color='#7A7A7A', lw=2,\r\n",
    "         transform=gcf().transFigure, clip_on=False)\r\n",
    "axs[i].plot([0.09, 0.915], [0.09, 0.09], color='#7A7A7A', lw=2,\r\n",
    "         transform=gcf().transFigure, clip_on=False)\r\n",
    "axs[i].plot([0.915, 0.915], [0.09, 0.92], color='#7A7A7A', lw=2,\r\n",
    "         transform=gcf().transFigure, clip_on=False)\r\n",
    "axs[i].plot([0.09, 0.09], [0.09, 0.92], color='#7A7A7A', lw=2,\r\n",
    "         transform=gcf().transFigure, clip_on=False)\r\n",
    "\r\n",
    "plt.show()\r\n",
    "\r\n",
    "fig.savefig(plotsdir / \"contam_examples_boxes.jpg\", dpi=800)"
   ]
  },
  {
   "cell_type": "markdown",
   "metadata": {},
   "source": [
    "## Sampling examples\r\n",
    "Run simulation with 3 consignments using 12 different sampling approaches to show the range of inspection options available.\\\r\n",
    "Examples use two different fixed sampling rates and combinations of inspection unit (box or item) and sample selection method (convenience, random, interval cluster, or random cluster)."
   ]
  },
  {
   "cell_type": "code",
   "execution_count": null,
   "metadata": {},
   "outputs": [],
   "source": [
    "# Run sampling examples\r\n",
    "num_consignments = 3\r\n",
    "sample_examples = run_scenarios(\r\n",
    "    config=basic_config,\r\n",
    "    scenario_table=sample_scenarios,\r\n",
    "    seed=42,\r\n",
    "    num_simulations=1,\r\n",
    "    num_consignments=num_consignments,\r\n",
    "    detailed=True,\r\n",
    ")"
   ]
  },
  {
   "cell_type": "code",
   "execution_count": null,
   "metadata": {},
   "outputs": [],
   "source": [
    "# Separate item and inspection details from simulation totals and scenario config.\r\n",
    "sample_examples_details = [i[0] for i in sample_examples]\r\n",
    "sample_examples_results = [i[1:3] for i in sample_examples]"
   ]
  },
  {
   "cell_type": "code",
   "execution_count": null,
   "metadata": {},
   "outputs": [],
   "source": [
    "# Save simulation totals and scenario config to dataframe.\r\n",
    "sample_examples_df = save_scenario_result_to_pandas(\r\n",
    "    sample_examples_results,\r\n",
    "    config_columns=[\r\n",
    "        \"inspection name\",\r\n",
    "        \"consignment/boxes/min\",\r\n",
    "        \"consignment/boxes/max\",\r\n",
    "        \"consignment/items_per_box/default\",\r\n",
    "        \"inspection/unit\",\r\n",
    "        \"inspection/sample_strategy\",\r\n",
    "        \"inspection/proportion/value\",\r\n",
    "        \"inspection/hypergeometric/detection_level\",\r\n",
    "        \"inspection/selection_strategy\",\r\n",
    "    ],\r\n",
    "    result_columns=[\r\n",
    "        \"avg_boxes_opened_completion\",\r\n",
    "        \"avg_items_inspected_completion\",\r\n",
    "    ],\r\n",
    ")"
   ]
  },
  {
   "cell_type": "code",
   "execution_count": null,
   "metadata": {},
   "outputs": [],
   "source": [
    "item_example_indexes = [0,6,1,7,2,8,3,9]\r\n",
    "box_example_indexes = [4,10,5,11]"
   ]
  },
  {
   "cell_type": "code",
   "execution_count": null,
   "metadata": {},
   "outputs": [],
   "source": [
    "sample_examples_inspected_indexes = [i[1] for i in sample_examples_details]"
   ]
  },
  {
   "cell_type": "code",
   "execution_count": null,
   "metadata": {},
   "outputs": [],
   "source": [
    "item_scenarios = sample_examples_df.iloc[item_example_indexes,:]\r\n",
    "item_inspected_indexes = [sample_examples_inspected_indexes[i] for i in item_example_indexes]\r\n",
    "box_scenarios = sample_examples_df.iloc[box_example_indexes,:]\r\n",
    "box_inspected_indexes = [sample_examples_inspected_indexes[i] for i in box_example_indexes]\r\n",
    "\r\n",
    "num_items_per_consignment = 500\r\n",
    "num_boxes_per_consignment = 10\r\n"
   ]
  },
  {
   "cell_type": "code",
   "execution_count": null,
   "metadata": {},
   "outputs": [],
   "source": [
    "fig = plt.figure(figsize=(10,8), constrained_layout=False)\r\n",
    "outer_grid = fig.add_gridspec(4, 2, hspace=0.4, wspace=0.3, top=0.86)\r\n",
    "\r\n",
    "scenario_index = 0\r\n",
    "for a in range(4):\r\n",
    "    for b in range(2):\r\n",
    "        # gridspec inside gridspec\r\n",
    "        inner_grid = outer_grid[a, b].subgridspec(1, 1)\r\n",
    "        axs = inner_grid.subplots()  # Create all subplots for the inner grid.\r\n",
    "        for i in range(num_consignments):\r\n",
    "            indexes = np.zeros(num_items_per_consignment, dtype=np.int)\r\n",
    "            inpsected = item_inspected_indexes[scenario_index][i]\r\n",
    "            np.put(indexes, inpsected, 1)\r\n",
    "            indexes = np.array_split(indexes, num_boxes_per_consignment)\r\n",
    "            axs.matshow(indexes, cmap='Blues', vmin=0, vmax=1)\r\n",
    "            axs.set_yticklabels([])\r\n",
    "            axs.tick_params(labeltop=False, top=False, bottom=False)\r\n",
    "            axs.set_ylabel('boxes', fontsize=13)\r\n",
    "            axs.set_xlabel('items', fontsize=13)\r\n",
    "            axs.set_title(\"Shipment\", fontsize=13)\r\n",
    "        scenario_index += 1\r\n",
    "\r\n",
    "\r\n",
    "from pylab import *\r\n",
    "axs.plot([0.495, 0.495], [0.1, 0.88], color='#7A7A7A', lw=2,\r\n",
    "         transform=gcf().transFigure, clip_on=False)\r\n",
    "axs.plot([0.07, 0.93], [.49, .49], color='#7A7A7A', lw=2,\r\n",
    "         transform=gcf().transFigure, clip_on=False)\r\n",
    "axs.plot([0.07, 0.93], [0.88, 0.88], color='#7A7A7A', lw=2,\r\n",
    "         transform=gcf().transFigure, clip_on=False)\r\n",
    "axs.plot([0.07, 0.93], [0.1, 0.1], color='#7A7A7A', lw=2,\r\n",
    "         transform=gcf().transFigure, clip_on=False)\r\n",
    "axs.plot([0.93, 0.93], [0.1, 0.88], color='#7A7A7A', lw=2,\r\n",
    "         transform=gcf().transFigure, clip_on=False)\r\n",
    "axs.plot([0.07, 0.07], [0.1, 0.88], color='#7A7A7A', lw=2,\r\n",
    "         transform=gcf().transFigure, clip_on=False)\r\n",
    "axs.plot([0.07, 0.93], [0.69, 0.69], color='#7A7A7A', lw=2,\r\n",
    "         transform=gcf().transFigure, clip_on=False)\r\n",
    "axs.plot([0.07, 0.93], [0.29, 0.29], color='#7A7A7A', lw=2,\r\n",
    "         transform=gcf().transFigure, clip_on=False)\r\n",
    "\r\n",
    "\r\n",
    "plt.show()\r\n",
    "\r\n",
    "\r\n",
    "fig.savefig(plotsdir / \"sample_examples_items.jpg\", dpi=800)"
   ]
  },
  {
   "cell_type": "code",
   "execution_count": null,
   "metadata": {},
   "outputs": [],
   "source": [
    "fig = plt.figure(figsize=(10,4), constrained_layout=False)\r\n",
    "outer_grid = fig.add_gridspec(2, 2, hspace=0.3, wspace=0.3, top=0.83, bottom=0.14)\r\n",
    "\r\n",
    "scenario_index = 0\r\n",
    "for a in range(2):\r\n",
    "    for b in range(2):\r\n",
    "        # gridspec inside gridspec\r\n",
    "        inner_grid = outer_grid[a, b].subgridspec(1, 1)\r\n",
    "        axs = inner_grid.subplots()  # Create all subplots for the inner grid.\r\n",
    "        for i in range(num_consignments):\r\n",
    "            indexes = np.zeros(num_items_per_consignment, dtype=np.int)\r\n",
    "            inpsected = box_inspected_indexes[scenario_index][i]\r\n",
    "            np.put(indexes, inpsected, 1)\r\n",
    "            indexes = np.array_split(indexes, num_boxes_per_consignment)\r\n",
    "            axs.matshow(indexes, cmap='Blues', vmin=0, vmax=1)\r\n",
    "            axs.set_yticklabels([])\r\n",
    "            axs.tick_params(labeltop=False, top=False, bottom=False)\r\n",
    "            axs.set_ylabel('boxes', fontsize=13)\r\n",
    "            axs.set_xlabel('items', fontsize=13)\r\n",
    "            axs.set_title(\"Shipment\", fontsize=13)\r\n",
    "        scenario_index += 1\r\n",
    "\r\n",
    "\r\n",
    "from pylab import *\r\n",
    "axs.plot([0.5, 0.5], [0.1, 0.88], color='#7A7A7A', lw=2,\r\n",
    "         transform=gcf().transFigure, clip_on=False)\r\n",
    "axs.plot([0.07, 0.93], [.49, .49], color='#7A7A7A', lw=2,\r\n",
    "         transform=gcf().transFigure, clip_on=False)\r\n",
    "axs.plot([0.07, 0.93], [0.88, 0.88], color='#7A7A7A', lw=2,\r\n",
    "         transform=gcf().transFigure, clip_on=False)\r\n",
    "axs.plot([0.07, 0.93], [0.1, 0.1], color='#7A7A7A', lw=2,\r\n",
    "         transform=gcf().transFigure, clip_on=False)\r\n",
    "axs.plot([0.93, 0.93], [0.1, 0.88], color='#7A7A7A', lw=2,\r\n",
    "         transform=gcf().transFigure, clip_on=False)\r\n",
    "axs.plot([0.07, 0.07], [0.1, 0.88], color='#7A7A7A', lw=2,\r\n",
    "         transform=gcf().transFigure, clip_on=False)\r\n",
    "\r\n",
    "plt.show()\r\n",
    "\r\n",
    "fig.savefig(plotsdir / \"sample_examples_boxes.jpg\", dpi=800)"
   ]
  },
  {
   "cell_type": "code",
   "execution_count": null,
   "metadata": {},
   "outputs": [],
   "source": []
  }
 ],
"metadata": {
  "kernelspec": {
   "display_name": "Python 3",
   "language": "python",
   "name": "python3"
  },
  "language_info": {
   "codemirror_mode": {
    "name": "ipython",
    "version": 3
   },
   "file_extension": ".py",
   "mimetype": "text/x-python",
   "name": "python",
   "nbconvert_exporter": "python",
   "pygments_lexer": "ipython3",
   "version": "3.7.9"
  }
 },
 "nbformat": 4,
 "nbformat_minor": 4
}
